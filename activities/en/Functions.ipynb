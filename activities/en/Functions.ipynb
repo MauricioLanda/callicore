{
 "cells": [
  {
   "cell_type": "code",
   "execution_count": 3,
   "metadata": {
    "hide_input": true
   },
   "outputs": [],
   "source": [
    "# Widgets\n",
    "import ipywidgets as widgets\n",
    "from ipywidgets import interact, interactive, fixed, interact_manual\n",
    "\n",
    "# We'll use pandas to generate a nice table\n",
    "import pandas as pd\n",
    "\n",
    "# We'll graph the functions, so we'll need the matplotlib library.\n",
    "# We'll also choose the display mode for these graphs. To simplify, we choose\n",
    "%matplotlib inline\n",
    "# Now, we'll nickname the pyplot submodule of matplotlib as plt.\n",
    "import matplotlib.pyplot as plt\n",
    "\n",
    "# Finally, we'll import some LaTeX and Markdown display helpers\n",
    "from IPython.display import display, clear_output, Markdown, Latex"
   ]
  },
  {
   "cell_type": "markdown",
   "metadata": {},
   "source": [
    "# How many minutes?"
   ]
  },
  {
   "cell_type": "markdown",
   "metadata": {},
   "source": [
    "In TechTown, there are two cell phone service providers. \"PhoneWorld\" offers a monthly plan, with a \\\\$35 fee for 120 minutes, plus \\\\$0.10 each additional minute. \"CellUniverse\" offers a \\\\$30 monthly plan for 100 minutes, and each additional minute costs \\\\$0.15 up to 300 minutes. After that, each extra minute costs \\\\$0.05. \n",
    "\n",
    "How many monthly minutes would you have to use such that \"PhoneWorld\" is the best option, that is, costs less than \"CellUniverse\"?"
   ]
  },
  {
   "cell_type": "markdown",
   "metadata": {},
   "source": [
    "## Setting up the problem (inspection)"
   ]
  },
  {
   "cell_type": "markdown",
   "metadata": {},
   "source": [
    "First, let's take a look at how we could compute the monthly fee for each cell phone service provider. Usually when looking at problems like this, we try some random values at it. Let's try a table:"
   ]
  },
  {
   "cell_type": "code",
   "execution_count": 4,
   "metadata": {
    "hide_input": true
   },
   "outputs": [],
   "source": [
    "def phoneworld(minutes):\n",
    "    if minutes <= 120:\n",
    "        cost = 35\n",
    "    else:\n",
    "        cost = 35+(minutes-120)*0.1\n",
    "    return cost"
   ]
  },
  {
   "cell_type": "code",
   "execution_count": 5,
   "metadata": {
    "hide_input": true
   },
   "outputs": [],
   "source": [
    "def celluniverse(minutes):\n",
    "    if minutes <= 100:\n",
    "        cost = 30\n",
    "    elif minutes <= 300:\n",
    "        cost = 30 + (minutes-100)*0.15\n",
    "    else:\n",
    "        cost = 30 + 200*0.15 + (minutes-300)*0.05\n",
    "    return cost"
   ]
  },
  {
   "cell_type": "code",
   "execution_count": 13,
   "metadata": {},
   "outputs": [
    {
     "data": {
      "application/vnd.jupyter.widget-view+json": {
       "model_id": "71c7ee100ad14bb3a979765ee10c6ee7",
       "version_major": 2,
       "version_minor": 0
      },
      "text/plain": [
       "interactive(children=(Text(value='', description='Minutes =', placeholder='Enter minutes (decimal)'), Button(d…"
      ]
     },
     "metadata": {},
     "output_type": "display_data"
    }
   ],
   "source": [
    "minutes_input = widgets.Text(\n",
    "                    value='',\n",
    "                    placeholder='Enter minutes (decimal)',\n",
    "                    description=\"Minutes =\",\n",
    "                )\n",
    "\n",
    "# Initializing table with the first row\n",
    "dados = [['Basic Fee', 35, 30]] \n",
    "table = pd.DataFrame(dados, columns = ['Minutes', 'PhoneWorld', 'CellUniverse']) \n",
    "\n",
    "interact_manual.opts['manual_name'] = 'Compute Cost'\n",
    "\n",
    "@interact_manual(minutes=minutes_input, table=fixed(table))\n",
    "def update_table(minutes, table):\n",
    "    if minutes != '':\n",
    "        time = float(minutes)\n",
    "        if len(table[table['Minutes'] == time]) > 0:\n",
    "            # this value has been computed already, don't do anything\n",
    "            pass\n",
    "        else:\n",
    "            table.loc[len(table)+1] = (time, phoneworld(time), celluniverse(time))\n",
    "    # we'll clear the table index to have a nicer display\n",
    "    table.index = ['']*len(table)\n",
    "    display(table)"
   ]
  },
  {
   "cell_type": "markdown",
   "metadata": {},
   "source": [
    "Now, it would be interesting to see how these values compare in a graph. In the horizontal axis, we'll mark how many minutes were used, and in the vertical axis we'll mark the corresponding cost for each company."
   ]
  },
  {
   "cell_type": "code",
   "execution_count": 14,
   "metadata": {},
   "outputs": [
    {
     "data": {
      "application/vnd.jupyter.widget-view+json": {
       "model_id": "d05ecb15b57041a29a9d9c982c95bdc2",
       "version_major": 2,
       "version_minor": 0
      },
      "text/plain": [
       "HBox(children=(Button(description='Graph computed values', layout=Layout(width='auto'), style=ButtonStyle(), t…"
      ]
     },
     "metadata": {},
     "output_type": "display_data"
    },
    {
     "data": {
      "application/vnd.jupyter.widget-view+json": {
       "model_id": "4f11a0a47e454af18a95e0fe7f9420d3",
       "version_major": 2,
       "version_minor": 0
      },
      "text/plain": [
       "HBox(children=(Output(),))"
      ]
     },
     "metadata": {},
     "output_type": "display_data"
    }
   ],
   "source": [
    "fig, ax = plt.subplots()\n",
    "plt.close(fig)\n",
    "\n",
    "graph_button = widgets.Button(\n",
    "                description='Graph computed values',\n",
    "                tooltip='Graph computed values',\n",
    "                layout=widgets.Layout(width='auto')\n",
    "                )\n",
    "\n",
    "connect_button = widgets.Button(\n",
    "                    description='Connect points',\n",
    "                    tooltip='Connect points',\n",
    "                    layout=widgets.Layout(width='auto')\n",
    "                    )\n",
    "\n",
    "display(widgets.HBox([graph_button, connect_button]))\n",
    "out_two_graphs = widgets.Output()\n",
    "display(widgets.HBox(children=(out_two_graphs,)))\n",
    "\n",
    "def graph_computed(graph):\n",
    "    ax.clear()\n",
    "    ax.plot(table['Minutes'][1:], table['PhoneWorld'][1:], 'r*', label=\"PhoneWorld\")\n",
    "    ax.plot(table['Minutes'][1:], table['CellUniverse'][1:], 'bo', label=\"CellUniverse\")\n",
    "    ax.legend()\n",
    "    with out_two_graphs:\n",
    "        clear_output(wait=True)\n",
    "        display(fig)\n",
    "        \n",
    "def connect_points(connect):\n",
    "    ax.clear()\n",
    "    in_values = table[1:].sort_values(by='Minutes')\n",
    "    ax.plot(in_values['Minutes'], in_values['PhoneWorld'], 'r*')\n",
    "    ax.plot(in_values['Minutes'], in_values['CellUniverse'], 'bo')\n",
    "    ax.plot(in_values['Minutes'], in_values['PhoneWorld'], 'r')\n",
    "    ax.plot(in_values['Minutes'], in_values['CellUniverse'], 'b')\n",
    "    ax.legend((\"PhoneWorld\", \"CellUniverse\"))\n",
    "    with out_two_graphs:\n",
    "        clear_output(wait=True)\n",
    "        display(fig)\n",
    "\n",
    "graph_button.on_click(graph_computed)\n",
    "connect_button.on_click(connect_points)"
   ]
  },
  {
   "cell_type": "markdown",
   "metadata": {},
   "source": [
    "Now, we can see that there is an interval where the red line is lower than the blue line; that means that PhoneWorld is less expensive than CellUniverse only in that interval. Let's see when that is.\n",
    "\n",
    "From the graph, we can see that the interval that we are interested in is determined by the two points where the blue and the red line intersect. Now, how do we find those points?"
   ]
  },
  {
   "cell_type": "markdown",
   "metadata": {},
   "source": [
    "## Finding the intersection of the two lines"
   ]
  },
  {
   "cell_type": "markdown",
   "metadata": {},
   "source": [
    "Both lines are determined by *functions*. These are a way to connect the minutes to their correponding costs for each company. Just to keep it simpler, we'll give a nickname to the monthly cost of each company. The cost for PhoneWorld will be called $W$ and the cost for CellUniverse will be called $U$. \n",
    "\n",
    "We can see that both costs are determined by how many minutes we used in each month. So we can say something like this:"
   ]
  },
  {
   "cell_type": "code",
   "execution_count": 15,
   "metadata": {},
   "outputs": [
    {
     "name": "stdout",
     "output_type": "stream",
     "text": [
      "For 100 minutes, we have W(100) = 35.0, U(100) = 30.0.\n",
      "For 120 minutes, we have W(120) = 35.0, U(120) = 33.0.\n",
      "For 150 minutes, we have W(150) = 38.0, U(150) = 37.5.\n",
      "For 200 minutes, we have W(200) = 43.0, U(200) = 45.0.\n",
      "For 250 minutes, we have W(250) = 48.0, U(250) = 52.5.\n",
      "For 300 minutes, we have W(300) = 53.0, U(300) = 60.0.\n",
      "For 500 minutes, we have W(500) = 73.0, U(500) = 70.0.\n",
      "For 450 minutes, we have W(450) = 68.0, U(450) = 67.5.\n"
     ]
    }
   ],
   "source": [
    "table.set_index('Minutes')\n",
    "for index, row in table[1:].iterrows():\n",
    "    print('For {0} minutes, we have W({0}) = {1}, U({0}) = {2}.'.format(int(row[0]), row[1], row[2]))"
   ]
  },
  {
   "cell_type": "markdown",
   "metadata": {},
   "source": [
    "Notice that for values that are not on the table, we can't directly decide how much it would cost, unless we compute this number too. Fortunately, there is an easier way to describe to total cost without us having to list all possible values: using the *law* of the function. In our case, we have the following: let us call $t$ the total amount of minutes used in that month. Then,"
   ]
  },
  {
   "cell_type": "code",
   "execution_count": 16,
   "metadata": {},
   "outputs": [
    {
     "data": {
      "text/markdown": [
       "For PhoneWorld: (Press Enter after typing)"
      ],
      "text/plain": [
       "<IPython.core.display.Markdown object>"
      ]
     },
     "metadata": {},
     "output_type": "display_data"
    },
    {
     "data": {
      "application/vnd.jupyter.widget-view+json": {
       "model_id": "8b0ebe71ebfc4ca1b22ea4de155d2b70",
       "version_major": 2,
       "version_minor": 0
      },
      "text/plain": [
       "HBox(children=(Output(layout=Layout(width='80px')), GridBox(children=(Text(value='', layout=Layout(grid_area='…"
      ]
     },
     "metadata": {},
     "output_type": "display_data"
    },
    {
     "data": {
      "application/vnd.jupyter.widget-view+json": {
       "model_id": "7a96ccdac28f42b8ae56c28a7ddc931c",
       "version_major": 2,
       "version_minor": 0
      },
      "text/plain": [
       "Button(description='Clear graph', layout=Layout(width='auto'), style=ButtonStyle(), tooltip='Clear graph')"
      ]
     },
     "metadata": {},
     "output_type": "display_data"
    }
   ],
   "source": [
    "# Title\n",
    "display(Markdown('For PhoneWorld: (Press Enter after typing)'))\n",
    "\n",
    "# Display function name - W(t)\n",
    "name_pw = widgets.Output(layout=widgets.Layout(width='80px'))\n",
    "with name_pw:\n",
    "    display(Latex('$W(t)= $'))\n",
    "    \n",
    "# Display first interval for the function definition\n",
    "cond1_pw = widgets.Output(layout=widgets.Layout(width='auto', grid_area='cond1_pw'))\n",
    "with cond1_pw:\n",
    "    display(Latex('for $t \\leq 120$'))\n",
    "    \n",
    "# Display second interval for the function definition\n",
    "cond2_pw = widgets.Output(layout=widgets.Layout(width='auto', grid_area='cond2_pw'))\n",
    "with cond2_pw:\n",
    "    display(Latex('for $t > 120$.'))\n",
    "    \n",
    "# Display resulting function graph\n",
    "fig_pw, ax_pw = plt.subplots()\n",
    "outgraph_pw = widgets.Output()\n",
    "plt.close(fig_pw)\n",
    "\n",
    "def start_fig_pw(fig_pw, ax_pw, outgraph_pw):\n",
    "    with outgraph_pw:\n",
    "        values = [0, 120, 500]\n",
    "        pw = []\n",
    "        for t in values:\n",
    "            pw.append(phoneworld(t))\n",
    "        ax_pw.plot(values, pw, 'r', label='PhoneWorld')\n",
    "        ax_pw.legend()\n",
    "        display(fig_pw)\n",
    "\n",
    "start_fig_pw(fig_pw, ax_pw, outgraph_pw)\n",
    "\n",
    "# Widgets for the function law input\n",
    "box1_pw = widgets.Text(layout=widgets.Layout(width='150px', grid_area='box1_pw'))\n",
    "box2_pw = widgets.Text(layout=widgets.Layout(width='150px', grid_area='box2_pw'))\n",
    "\n",
    "# Widgets are displayed in a grid\n",
    "grid_pw = widgets.GridBox(children=[box1_pw, cond1_pw, box2_pw, cond2_pw],\n",
    "            layout=widgets.Layout(\n",
    "            width='350px',\n",
    "            grid_template_rows='auto auto',\n",
    "            grid_template_columns='150px 200px',\n",
    "            grid_template_areas='''\n",
    "            \"box1_pw cond1_pw\"\n",
    "            \"box2_pw cond2_pw\"\n",
    "            ''')\n",
    "       )\n",
    "\n",
    "# This widget contains the three previously defined widgets, side by side.\n",
    "horiz_box = widgets.HBox(children=[name_pw, grid_pw, outgraph_pw],\n",
    "                    layout=widgets.Layout(width='90%', align_items='center', justify_content='center'))\n",
    "\n",
    "# The functions below show the graph of the conditions given by the users \n",
    "# in the input boxes defined above. The graphs are then compared to the \n",
    "# true function graph, so that we can check that the suggested law actually\n",
    "# represents the conditions we want to observe for this function.\n",
    "def graph_pw_cond1(box):\n",
    "    values = [0, 120]\n",
    "    cost = []\n",
    "    for t in values:\n",
    "        # careful with eval!\n",
    "        cost.append(eval(box.value))\n",
    "    ax_pw.plot(values, cost, 'k-', label=\"My graph ($0\\leq t\\leq 120$)\")\n",
    "    ax_pw.legend()\n",
    "    with outgraph_pw:\n",
    "        clear_output(wait=True)\n",
    "        display(fig_pw)\n",
    "        \n",
    "def graph_pw_cond2(box):\n",
    "    values = [120, 500]\n",
    "    cost = []\n",
    "    for t in values:\n",
    "        cost.append(eval(box.value))\n",
    "    ax_pw.plot(values, cost, 'k-', label=\"My graph ($t>120$)\")\n",
    "    ax_pw.legend()\n",
    "    with outgraph_pw:\n",
    "        clear_output(wait=True)\n",
    "        display(fig_pw)\n",
    "    \n",
    "#####\n",
    "# Finally, we display all the widgets\n",
    "display(horiz_box)\n",
    "box1_pw.on_submit(graph_pw_cond1)\n",
    "box2_pw.on_submit(graph_pw_cond2)\n",
    "\n",
    "# We create a button to clear the graph in case we make a mistake\n",
    "clear_button_pw = widgets.Button(\n",
    "                description='Clear graph',\n",
    "                tooltip='Clear graph',\n",
    "                layout=widgets.Layout(width='auto')\n",
    "                )\n",
    "\n",
    "def clear_graph_pw(button):\n",
    "    with outgraph_pw:\n",
    "        clear_output(wait=True)\n",
    "        ax_pw.clear()\n",
    "        start_fig_pw(fig_pw, ax_pw, outgraph_pw)\n",
    "\n",
    "display(clear_button_pw)\n",
    "clear_button_pw.on_click(clear_graph_pw)"
   ]
  },
  {
   "cell_type": "markdown",
   "metadata": {},
   "source": [
    "Let's repeat this for CellUniverse (remember that here we have 3 price ranges):"
   ]
  },
  {
   "cell_type": "code",
   "execution_count": 7,
   "metadata": {
    "scrolled": true
   },
   "outputs": [
    {
     "data": {
      "text/markdown": [
       "For CellUniverse:"
      ],
      "text/plain": [
       "<IPython.core.display.Markdown object>"
      ]
     },
     "metadata": {},
     "output_type": "display_data"
    },
    {
     "data": {
      "application/vnd.jupyter.widget-view+json": {
       "model_id": "522e1d64ebd946b19043dcd95a9649be",
       "version_major": 2,
       "version_minor": 0
      },
      "text/plain": [
       "HBox(children=(Output(layout=Layout(width='80px')), GridBox(children=(Text(value='', layout=Layout(grid_area='…"
      ]
     },
     "metadata": {},
     "output_type": "display_data"
    },
    {
     "data": {
      "application/vnd.jupyter.widget-view+json": {
       "model_id": "487b0901b0ed4649b2e22a05539aa15f",
       "version_major": 2,
       "version_minor": 0
      },
      "text/plain": [
       "Button(description='Clear graph', layout=Layout(width='200px'), style=ButtonStyle(), tooltip='Clear graph')"
      ]
     },
     "metadata": {},
     "output_type": "display_data"
    }
   ],
   "source": [
    "# Title\n",
    "display(Markdown('For CellUniverse: (Press Enter after typing)'))\n",
    "\n",
    "# Display function name - U(t)\n",
    "name_cu = widgets.Output(layout=widgets.Layout(width='80px'))\n",
    "with name_cu:\n",
    "    display(Latex('$U(t)= $'))\n",
    "    \n",
    "# Display first interval for the function definition\n",
    "cond1_cu = widgets.Output(layout=widgets.Layout(width='auto', grid_area='cond1_cu'))\n",
    "with cond1_cu:\n",
    "    display(Latex('for $t \\leq 100$'))\n",
    "    \n",
    "# Display second interval for the function definition\n",
    "cond2_cu = widgets.Output(layout=widgets.Layout(width='auto', grid_area='cond2_cu'))\n",
    "with cond2_cu:\n",
    "    display(Latex('for $100 < t \\leq 300$'))\n",
    "\n",
    "# Display third interval for the function definition\n",
    "cond3_cu = widgets.Output(layout=widgets.Layout(width='auto', grid_area='cond3_cu'))\n",
    "with cond3_cu:\n",
    "    display(Latex('for $t > 300$.'))\n",
    "\n",
    "# Display resulting function graph\n",
    "fig_cu, ax_cu = plt.subplots()\n",
    "plt.close(fig_cu)\n",
    "outgraph_cu = widgets.Output()\n",
    "\n",
    "def start_fig_cu(fig_cu, ax_cu, outgraph_cu):\n",
    "    with outgraph_cu:\n",
    "        values = np.linspace(0,500,50)\n",
    "        cu = []\n",
    "        for t in values:\n",
    "            cu.append(celluniverse(t))\n",
    "        ax_cu.plot(values, cu, 'b', label='CellUniverse')\n",
    "        ax_cu.legend()\n",
    "        display(fig_cu)\n",
    "\n",
    "start_fig_cu(fig_cu, ax_cu, outgraph_cu)\n",
    "    \n",
    "# Widgets for the function law input\n",
    "box1_cu = widgets.Text(layout=widgets.Layout(width='150px', grid_area='box1_cu'))\n",
    "box2_cu = widgets.Text(layout=widgets.Layout(width='150px', grid_area='box2_cu'))\n",
    "box3_cu = widgets.Text(layout=widgets.Layout(width='150px', grid_area='box3_cu'))\n",
    "\n",
    "# Widgets are displayed in a grid\n",
    "grid_cu = widgets.GridBox(children=[box1_cu, cond1_cu, box2_cu, cond2_cu, box3_cu, cond3_cu],\n",
    "            layout=widgets.Layout(\n",
    "            width='550px',\n",
    "            grid_template_rows='auto auto auto',\n",
    "            grid_template_columns='150px 200px 200px',\n",
    "            grid_template_areas='''\n",
    "            \"box1_cu cond1_cu\"\n",
    "            \"box2_cu cond2_cu\"\n",
    "            \"box3_cu cond3_cu\"\n",
    "            ''')\n",
    "       )\n",
    "\n",
    "# This widget contains the three previously defined widgets, side by side.\n",
    "horiz_cu = widgets.HBox(children=[name_cu, grid_cu, outgraph_cu],\n",
    "                    layout=widgets.Layout(width='100%', align_items='center', justify_content='center'))\n",
    "\n",
    "def graph_cu_cond1(box):\n",
    "    values = np.linspace(0,100,50)\n",
    "    boxin = []\n",
    "    for t in values:\n",
    "        boxin.append(eval(box.value))\n",
    "    ax_cu.plot(values, boxin, 'k-', label=\"My graph ($0\\leq t\\leq 100$)\")\n",
    "    ax_cu.legend()\n",
    "    with outgraph_cu:\n",
    "        clear_output(wait=True)\n",
    "        display(fig_cu)\n",
    "        \n",
    "def graph_cu_cond2(box):\n",
    "    values = np.linspace(100,300,50)\n",
    "    boxin = []\n",
    "    for t in values:\n",
    "        boxin.append(eval(box.value))\n",
    "    ax_cu.plot(values, boxin, 'k-', label=\"My graph ($100<t\\leq 300$)\")\n",
    "    ax_cu.legend()\n",
    "    with outgraph_cu:\n",
    "        clear_output(wait=True)\n",
    "        display(fig_cu)\n",
    "\n",
    "def graph_cu_cond3(box):\n",
    "    values = np.linspace(300,500,50)\n",
    "    boxin = []\n",
    "    for t in values:\n",
    "        boxin.append(eval(box.value))\n",
    "    ax_cu.plot(values, boxin, 'k-', label=\"My graph ($t > 500$)\")\n",
    "    ax_cu.legend()\n",
    "    with outgraph_cu:\n",
    "        clear_output(wait=True)\n",
    "        display(fig_cu)\n",
    "\n",
    "display(horiz_cu)\n",
    "box1_cu.on_submit(graph_cu_cond1)\n",
    "box2_cu.on_submit(graph_cu_cond2)\n",
    "box3_cu.on_submit(graph_cu_cond3)\n",
    "\n",
    "clear_button_cu = widgets.Button(\n",
    "                description='Clear graph',\n",
    "                disabled=False,\n",
    "                button_style='',\n",
    "                tooltip='Clear graph',\n",
    "                layout=widgets.Layout(width='200px')\n",
    "                )\n",
    "\n",
    "def clear_graph_cu(clear):\n",
    "    with outgraph_cu:\n",
    "        clear_output(wait=True)\n",
    "        ax_cu.clear()\n",
    "        start_fig_cu(fig_cu, ax_cu, outgraph_cu)\n",
    "\n",
    "display(clear_button_cu)\n",
    "clear_button_cu.on_click(clear_graph_cu)"
   ]
  },
  {
   "cell_type": "markdown",
   "metadata": {},
   "source": [
    "Now, you may have seen that the laws for W(t) and U(t) are:"
   ]
  },
  {
   "cell_type": "code",
   "execution_count": 8,
   "metadata": {},
   "outputs": [
    {
     "data": {
      "application/vnd.jupyter.widget-view+json": {
       "model_id": "80b7c6b5d7924fed8ff0a7317e803d79",
       "version_major": 2,
       "version_minor": 0
      },
      "text/plain": [
       "Accordion(children=(Output(), Output()), selected_index=None, _titles={'0': 'PhoneWorld:', '1': 'CellUniverse:…"
      ]
     },
     "metadata": {},
     "output_type": "display_data"
    }
   ],
   "source": [
    "out_w = widgets.Output()\n",
    "out_v = widgets.Output()\n",
    "with out_w:\n",
    "    display(Latex(r'$$W(t) = \\begin{cases} 35, & t \\leq 120\\\\ 35+0.1(t-120), & t> 120\\end{cases}$$'))\n",
    "with out_v:\n",
    "    display(Latex(r'$$U(t) = \\begin{cases} 30, & t\\leq 100\\\\30+0.15(t-100), &100<t\\leq 300\\\\ 30 + 200(0.15) + 0.05(t-300), & t>300.\\end{cases}$$'))\n",
    "accordion = widgets.Accordion(children=[out_w, out_v], selected_index = None)\n",
    "accordion.set_title(0, 'PhoneWorld:')\n",
    "accordion.set_title(1, 'CellUniverse:')\n",
    "display(accordion)"
   ]
  },
  {
   "cell_type": "markdown",
   "metadata": {},
   "source": [
    "Finally, to find the intersection points between the two curves, we can see that for the leftmost point, we are in the interval where $100<t<300$, and so we will use the second law for $W$ and the second law for $U$:"
   ]
  },
  {
   "cell_type": "markdown",
   "metadata": {},
   "source": [
    "\\begin{align*}\n",
    "    35+0.1(t-120) &= 30+0.15(t-100)\\\\\n",
    "    35 + 0.1t - 12 &= 30+0.15t - 15\\\\\n",
    "    0.1t-0.15t &= 30-15-35+12\\\\\n",
    "    -0.05t &= -8\n",
    "\\end{align*}\n",
    "and so,\n",
    "$$t = \\frac{800}{5} = 160.$$"
   ]
  },
  {
   "cell_type": "markdown",
   "metadata": {},
   "source": [
    "In fact, we can check that this is true: $W(160)$ is "
   ]
  },
  {
   "cell_type": "code",
   "execution_count": 9,
   "metadata": {},
   "outputs": [
    {
     "data": {
      "text/plain": [
       "39.0"
      ]
     },
     "execution_count": 9,
     "metadata": {},
     "output_type": "execute_result"
    }
   ],
   "source": [
    "phoneworld(160)"
   ]
  },
  {
   "cell_type": "markdown",
   "metadata": {},
   "source": [
    "and $U(160)$ is "
   ]
  },
  {
   "cell_type": "code",
   "execution_count": 10,
   "metadata": {},
   "outputs": [
    {
     "data": {
      "text/plain": [
       "39.0"
      ]
     },
     "execution_count": 10,
     "metadata": {},
     "output_type": "execute_result"
    }
   ],
   "source": [
    "celluniverse(160)"
   ]
  },
  {
   "cell_type": "markdown",
   "metadata": {},
   "source": [
    "Next, we have a point where $400<t<500$, and so we must have"
   ]
  },
  {
   "cell_type": "markdown",
   "metadata": {},
   "source": [
    "\\begin{align*}\n",
    "    35+0.1(t-120) &= 30 + 200(0.15) + 0.05(t-300)\\\\\n",
    "    35 + 0.1t - 12 &= 30 + 30 + 0.05t - 15\\\\\n",
    "    0.1t-0.05t &= 30+30-15-35+12\\\\\n",
    "    0.05t &= 22\n",
    "\\end{align*}\n",
    "and so,\n",
    "$$t = \\frac{2200}{5} = 440.$$"
   ]
  },
  {
   "cell_type": "markdown",
   "metadata": {},
   "source": [
    "Indeed, $W(440)$ is "
   ]
  },
  {
   "cell_type": "code",
   "execution_count": 11,
   "metadata": {},
   "outputs": [
    {
     "data": {
      "text/plain": [
       "67.0"
      ]
     },
     "execution_count": 11,
     "metadata": {},
     "output_type": "execute_result"
    }
   ],
   "source": [
    "phoneworld(440)"
   ]
  },
  {
   "cell_type": "markdown",
   "metadata": {},
   "source": [
    "and $U(440)$ is "
   ]
  },
  {
   "cell_type": "code",
   "execution_count": 12,
   "metadata": {},
   "outputs": [
    {
     "data": {
      "text/plain": [
       "67.0"
      ]
     },
     "execution_count": 12,
     "metadata": {},
     "output_type": "execute_result"
    }
   ],
   "source": [
    "celluniverse(440)"
   ]
  },
  {
   "cell_type": "markdown",
   "metadata": {},
   "source": [
    "## Answer"
   ]
  },
  {
   "cell_type": "markdown",
   "metadata": {},
   "source": [
    "For PhoneWorld to be the best option, our monthly usage must be between 160 and 440 minutes."
   ]
  }
 ],
 "metadata": {
  "@webio": {
   "lastCommId": null,
   "lastKernelId": null
  },
  "kernelspec": {
   "display_name": "Python 3",
   "language": "python",
   "name": "python3"
  },
  "language_info": {
   "codemirror_mode": {
    "name": "ipython",
    "version": 3
   },
   "file_extension": ".py",
   "mimetype": "text/x-python",
   "name": "python",
   "nbconvert_exporter": "python",
   "pygments_lexer": "ipython3",
   "version": "3.6.7"
  },
  "latex_envs": {
   "LaTeX_envs_menu_present": true,
   "autoclose": false,
   "autocomplete": true,
   "bibliofile": "biblio.bib",
   "cite_by": "apalike",
   "current_citInitial": 1,
   "eqLabelWithNumbers": true,
   "eqNumInitial": 1,
   "hotkeys": {
    "equation": "Ctrl-E",
    "itemize": "Ctrl-I"
   },
   "labels_anchors": false,
   "latex_user_defs": false,
   "report_style_numbering": false,
   "user_envs_cfg": false
  },
  "toc": {
   "base_numbering": 1,
   "nav_menu": {},
   "number_sections": true,
   "sideBar": true,
   "skip_h1_title": false,
   "title_cell": "Table of Contents",
   "title_sidebar": "Contents",
   "toc_cell": false,
   "toc_position": {},
   "toc_section_display": true,
   "toc_window_display": false
  }
 },
 "nbformat": 4,
 "nbformat_minor": 2
}

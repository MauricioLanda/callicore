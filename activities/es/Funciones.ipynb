{
 "cells": [
  {
   "cell_type": "code",
   "execution_count": 10,
   "metadata": {
    "hide": true,
    "tags": [
     "hide"
    ]
   },
   "outputs": [],
   "source": [
    "# Widgets\n",
    "import ipywidgets as widgets\n",
    "from ipywidgets import interact, interactive, fixed, interact_manual\n",
    "\n",
    "# We'll use pandas to generate a nice table\n",
    "import pandas as pd\n",
    "\n",
    "# We'll graph the functions, so we'll need the matplotlib library.\n",
    "# We'll also choose the display mode for these graphs. To simplify, we choose\n",
    "%matplotlib inline\n",
    "# Now, we'll nickname the pyplot submodule of matplotlib as plt.\n",
    "import matplotlib.pyplot as plt\n",
    "\n",
    "# Finally, we'll import some LaTeX and Markdown display helpers\n",
    "from IPython.display import display, clear_output, Markdown, Latex"
   ]
  },
  {
   "cell_type": "markdown",
   "metadata": {},
   "source": [
    "# How many minutes?"
   ]
  },
  {
   "cell_type": "markdown",
   "metadata": {},
   "source": [
    "In TechTown, there are two cell phone service providers. \"PhoneWorld\" offers a monthly plan, with a \\\\$35 fee for 120 minutes, plus \\\\$0.10 each additional minute. \"CellUniverse\" offers a \\\\$30 monthly plan for 100 minutes, and each additional minute costs \\\\$0.15 up to 300 minutes. After that, each extra minute costs \\\\$0.05. \n",
    "\n",
    "How many monthly minutes would you have to use such that \"PhoneWorld\" is the best option, that is, costs less than \"CellUniverse\"?"
   ]
  },
  {
   "cell_type": "markdown",
   "metadata": {},
   "source": [
    "## Setting up the problem (inspection)"
   ]
  },
  {
   "cell_type": "markdown",
   "metadata": {},
   "source": [
    "First, let's take a look at how we could compute the monthly fee for each cell phone service provider. Usually when looking at problems like this, we try some random values at it. Let's try a table:"
   ]
  },
  {
   "cell_type": "code",
   "execution_count": 11,
   "metadata": {
    "hide_input": true
   },
   "outputs": [],
   "source": [
    "def phoneworld(minutes):\n",
    "    if minutes <= 120:\n",
    "        cost = 35\n",
    "    else:\n",
    "        cost = 35+(minutes-120)*0.1\n",
    "    return cost"
   ]
  },
  {
   "cell_type": "code",
   "execution_count": 12,
   "metadata": {
    "hide_input": true
   },
   "outputs": [],
   "source": [
    "def celluniverse(minutes):\n",
    "    if minutes <= 100:\n",
    "        cost = 30\n",
    "    elif minutes <= 300:\n",
    "        cost = 30 + (minutes-100)*0.15\n",
    "    else:\n",
    "        cost = 30 + 200*0.15 + (minutes-300)*0.05\n",
    "    return cost"
   ]
  },
  {
   "cell_type": "code",
   "execution_count": 13,
   "metadata": {
    "tags": [
     "hide"
    ]
   },
   "outputs": [
    {
     "data": {
      "application/vnd.jupyter.widget-view+json": {
       "model_id": "74a2760696a7465bb5560659cda02e1a",
       "version_major": 2,
       "version_minor": 0
      },
      "text/plain": [
       "interactive(children=(Text(value='', description='Minutes =', placeholder='Enter minutes (decimal)'), Button(d…"
      ]
     },
     "metadata": {},
     "output_type": "display_data"
    }
   ],
   "source": [
    "minutes_input = widgets.Text(\n",
    "                    value='',\n",
    "                    placeholder='Enter minutes (decimal)',\n",
    "                    description=\"Minutes =\",\n",
    "                )\n",
    "\n",
    "# Initializing table with the first row\n",
    "data = [['Basic Fee', 35, 30]] \n",
    "table = pd.DataFrame(data, columns = ['Minutes', 'PhoneWorld', 'CellUniverse']) \n",
    "\n",
    "interact_manual.opts['manual_name'] = 'Compute Cost'\n",
    "\n",
    "@interact_manual(minutes=minutes_input, table=fixed(table))\n",
    "def update_table(minutes, table):\n",
    "    if minutes != '':\n",
    "        time = float(minutes)\n",
    "        if len(table[table['Minutes'] == time]) > 0:\n",
    "            # this value has been computed already, don't do anything\n",
    "            pass\n",
    "        else:\n",
    "            table.loc[len(table)+1] = (time, phoneworld(time), celluniverse(time))\n",
    "    # we'll clear the table index to have a nicer display\n",
    "    table.index = ['']*len(table)\n",
    "    display(table)"
   ]
  },
  {
   "cell_type": "markdown",
   "metadata": {},
   "source": [
    "Now, it would be interesting to see how these values compare in a graph. In the horizontal axis, we'll mark how many minutes were used, and in the vertical axis we'll mark the corresponding cost for each company."
   ]
  },
  {
   "cell_type": "code",
   "execution_count": 14,
   "metadata": {
    "tags": [
     "hide"
    ]
   },
   "outputs": [
    {
     "data": {
      "application/vnd.jupyter.widget-view+json": {
       "model_id": "958f4c685f19436bb2e401f69cbf61d7",
       "version_major": 2,
       "version_minor": 0
      },
      "text/plain": [
       "HBox(children=(Button(description='Graph computed values', layout=Layout(width='auto'), style=ButtonStyle(), t…"
      ]
     },
     "metadata": {},
     "output_type": "display_data"
    },
    {
     "data": {
      "application/vnd.jupyter.widget-view+json": {
       "model_id": "f7e67995a8604cd698cf539ea588c267",
       "version_major": 2,
       "version_minor": 0
      },
      "text/plain": [
       "HBox(children=(Output(),))"
      ]
     },
     "metadata": {},
     "output_type": "display_data"
    }
   ],
   "source": [
    "fig, ax = plt.subplots()\n",
    "plt.close(fig)\n",
    "\n",
    "graph_button = widgets.Button(\n",
    "                description='Graph computed values',\n",
    "                tooltip='Graph computed values',\n",
    "                layout=widgets.Layout(width='auto')\n",
    "                )\n",
    "\n",
    "connect_button = widgets.Button(\n",
    "                    description='Connect points',\n",
    "                    tooltip='Connect points',\n",
    "                    layout=widgets.Layout(width='auto')\n",
    "                    )\n",
    "\n",
    "display(widgets.HBox([graph_button, connect_button]))\n",
    "out_graphs = widgets.Output()\n",
    "display(widgets.HBox(children=(out_graphs,)))\n",
    "\n",
    "def graph_computed(graph):\n",
    "    ax.clear()\n",
    "    ax.plot(table['Minutes'][1:], table['PhoneWorld'][1:], 'r*', label=\"PhoneWorld\")\n",
    "    ax.plot(table['Minutes'][1:], table['CellUniverse'][1:], 'bo', label=\"CellUniverse\")\n",
    "    ax.legend()\n",
    "    with out_graphs:\n",
    "        clear_output(wait=True)\n",
    "        display(fig)\n",
    "        \n",
    "def connect_points(connect):\n",
    "    ax.clear()\n",
    "    # Let's reorder the amount of minutes in the table so that our \n",
    "    # graph is organized\n",
    "    in_values = table[1:].sort_values(by='Minutes')\n",
    "    ax.plot(in_values['Minutes'], in_values['PhoneWorld'], 'r*')\n",
    "    ax.plot(in_values['Minutes'], in_values['CellUniverse'], 'bo')\n",
    "    ax.plot(in_values['Minutes'], in_values['PhoneWorld'], 'r')\n",
    "    ax.plot(in_values['Minutes'], in_values['CellUniverse'], 'b')\n",
    "    ax.legend((\"PhoneWorld\", \"CellUniverse\"))\n",
    "    with out_graphs:\n",
    "        clear_output(wait=True)\n",
    "        display(fig)\n",
    "\n",
    "graph_button.on_click(graph_computed)\n",
    "connect_button.on_click(connect_points)"
   ]
  },
  {
   "cell_type": "markdown",
   "metadata": {},
   "source": [
    "Now, we can see that there is an interval where the red line is lower than the blue line; that means that PhoneWorld is less expensive than CellUniverse only in that interval. Let's see when that is.\n",
    "\n",
    "From the graph, we can see that the interval that we are interested in is determined by the two points where the blue and the red line intersect. (If you can't see those two points, try adding more values to your table - say, up to 500 minutes). Now, how do we find those points?"
   ]
  },
  {
   "cell_type": "markdown",
   "metadata": {},
   "source": [
    "## Finding the intersection of the two lines"
   ]
  },
  {
   "cell_type": "markdown",
   "metadata": {},
   "source": [
    "Both lines are determined by *functions*. These are a way to connect the minutes to their correponding costs for each company. Just to keep it simpler, we'll give a nickname to the monthly cost of each company. The cost for PhoneWorld will be called $W$ and the cost for CellUniverse will be called $U$. \n",
    "\n",
    "We can see that both costs are determined by how many minutes we used in each month. So we can say something like this:"
   ]
  },
  {
   "cell_type": "code",
   "execution_count": 15,
   "metadata": {
    "hide_input": false,
    "tags": [
     "hide"
    ]
   },
   "outputs": [],
   "source": [
    "table.set_index('Minutes')\n",
    "for index, row in table[1:].iterrows():\n",
    "    print('For {0} minutes, we have W({0}) = {1}, U({0}) = {2}.'.format(int(row[0]), row[1], row[2]))"
   ]
  },
  {
   "cell_type": "markdown",
   "metadata": {},
   "source": [
    "Notice that for values that are not on the table, we can't directly decide how much it would cost, unless we compute this number too. Fortunately, there is an easier way to describe to total cost without us having to list all possible values: using the *law* of the function. In our case, we have the following: let us call $t$ the total amount of minutes used in that month. Then,"
   ]
  },
  {
   "cell_type": "code",
   "execution_count": 16,
   "metadata": {
    "tags": [
     "hide"
    ]
   },
   "outputs": [
    {
     "data": {
      "text/markdown": [
       "**For PhoneWorld:**<br/> *(Press Enter after typing)*"
      ],
      "text/plain": [
       "<IPython.core.display.Markdown object>"
      ]
     },
     "metadata": {},
     "output_type": "display_data"
    },
    {
     "data": {
      "application/vnd.jupyter.widget-view+json": {
       "model_id": "72c114411cc9481c932dd034d42d251f",
       "version_major": 2,
       "version_minor": 0
      },
      "text/plain": [
       "HBox(children=(Output(layout=Layout(min_width='80px')), GridBox(children=(Text(value='', layout=Layout(grid_ar…"
      ]
     },
     "metadata": {},
     "output_type": "display_data"
    },
    {
     "data": {
      "application/vnd.jupyter.widget-view+json": {
       "model_id": "dd4caf4e9a8447219bfcd6537ab6397a",
       "version_major": 2,
       "version_minor": 0
      },
      "text/plain": [
       "Button(description='Clear graph', layout=Layout(width='auto'), style=ButtonStyle(), tooltip='Clear graph')"
      ]
     },
     "metadata": {},
     "output_type": "display_data"
    }
   ],
   "source": [
    "# Title\n",
    "display(Markdown('**For PhoneWorld:**<br/> *(Press Enter after typing)*'))\n",
    "\n",
    "# Display function name - W(t)\n",
    "name_phoneworld = widgets.Output(layout=widgets.Layout(min_width='80px'))\n",
    "with name_phoneworld:\n",
    "    display(Latex('$W(t)= $'))\n",
    "    \n",
    "# Display first interval for the function definition\n",
    "condition1_phoneworld = widgets.Output(layout=widgets.Layout(width='auto', grid_area='condition1_phoneworld'))\n",
    "with condition1_phoneworld:\n",
    "    display(Latex('for $t \\leq 120$'))\n",
    "    \n",
    "# Display second interval for the function definition\n",
    "condition2_phoneworld = widgets.Output(layout=widgets.Layout(width='auto', grid_area='condition2_phoneworld'))\n",
    "with condition2_phoneworld:\n",
    "    display(Latex('for $t > 120$.'))\n",
    "    \n",
    "# Display resulting function graph\n",
    "fig_phoneworld, ax_phoneworld = plt.subplots()\n",
    "outgraph_phoneworld = widgets.Output()\n",
    "plt.close(fig_phoneworld)\n",
    "\n",
    "def start_fig_phoneworld(fig_phoneworld, ax_phoneworld, outgraph_phoneworld):\n",
    "    with outgraph_phoneworld:\n",
    "        values = [0, 120, 500]\n",
    "        output = []\n",
    "        for t in values:\n",
    "            output.append(phoneworld(t))\n",
    "        ax_phoneworld.plot(values, output, 'r', label='PhoneWorld')\n",
    "        ax_phoneworld.legend()\n",
    "        display(fig_phoneworld)\n",
    "\n",
    "start_fig_phoneworld(fig_phoneworld, ax_phoneworld, outgraph_phoneworld)\n",
    "\n",
    "# Widgets for the function law input\n",
    "textbox1_phoneworld = widgets.Text(layout=widgets.Layout(width='auto', grid_area='textbox1_phoneworld'))\n",
    "textbox2_phoneworld = widgets.Text(layout=widgets.Layout(width='auto', grid_area='textbox2_phoneworld'))\n",
    "\n",
    "# Widgets are displayed in a grid\n",
    "grid_phoneworld = widgets.GridBox(\n",
    "    children=[textbox1_phoneworld, condition1_phoneworld, \n",
    "              textbox2_phoneworld, condition2_phoneworld],\n",
    "    layout=widgets.Layout(\n",
    "            width='350px',\n",
    "            grid_template_rows='auto auto',\n",
    "            grid_template_columns='150px 200px',\n",
    "            grid_template_areas='''\n",
    "                \"textbox1_phoneworld condition1_phoneworld\"\n",
    "                \"textbox2_phoneworld condition2_phoneworld\"\n",
    "                ''')\n",
    "    )\n",
    "\n",
    "# This widget contains the three previously defined widgets, side by side.\n",
    "horizontal_box = widgets.HBox(\n",
    "    children=[name_phoneworld, grid_phoneworld, outgraph_phoneworld],\n",
    "    layout=widgets.Layout(width='90%', align_items='center', justify_content='center')\n",
    "    )\n",
    "\n",
    "# The functions below show the graph of the conditions given by the users \n",
    "# in the input boxes defined above. The graphs are then compared to the \n",
    "# true function graph, so that we can check that the suggested law actually\n",
    "# represents the conditions we want to observe for this function.\n",
    "def graph_phoneworld_condition1(box):\n",
    "    values = [0, 120]\n",
    "    output = []\n",
    "    for t in values:\n",
    "        # careful with eval!\n",
    "        output.append(eval(box.value))\n",
    "    ax_phoneworld.plot(values, output, 'k-', label=\"My graph ($0\\leq t\\leq 120$)\")\n",
    "    ax_phoneworld.legend()\n",
    "    with outgraph_phoneworld:\n",
    "        clear_output(wait=True)\n",
    "        display(fig_phoneworld)\n",
    "        \n",
    "def graph_phoneworld_condition2(box):\n",
    "    values = [120, 500]\n",
    "    output = []\n",
    "    for t in values:\n",
    "        output.append(eval(box.value))\n",
    "    ax_phoneworld.plot(values, output, 'k-', label=\"My graph ($t>120$)\")\n",
    "    ax_phoneworld.legend()\n",
    "    with outgraph_phoneworld:\n",
    "        clear_output(wait=True)\n",
    "        display(fig_phoneworld)\n",
    "    \n",
    "# Finally, we display all the widgets\n",
    "display(horizontal_box)\n",
    "textbox1_phoneworld.on_submit(graph_phoneworld_condition1)\n",
    "textbox2_phoneworld.on_submit(graph_phoneworld_condition2)\n",
    "\n",
    "# We create a button to clear the graph in case we make a mistake\n",
    "clear_button_phoneworld = widgets.Button(\n",
    "                            description='Clear graph',\n",
    "                            tooltip='Clear graph',\n",
    "                            layout=widgets.Layout(width='auto')\n",
    "                            )\n",
    "\n",
    "def clear_graph_phoneworld(button):\n",
    "    with outgraph_phoneworld:\n",
    "        clear_output(wait=True)\n",
    "        ax_phoneworld.clear()\n",
    "        start_fig_phoneworld(fig_phoneworld, ax_phoneworld, outgraph_phoneworld)\n",
    "\n",
    "display(clear_button_phoneworld)\n",
    "clear_button_phoneworld.on_click(clear_graph_phoneworld)"
   ]
  },
  {
   "cell_type": "markdown",
   "metadata": {},
   "source": [
    "Let's repeat this for CellUniverse (remember that here we have 3 price ranges):"
   ]
  },
  {
   "cell_type": "code",
   "execution_count": 17,
   "metadata": {
    "scrolled": true,
    "tags": [
     "hide"
    ]
   },
   "outputs": [
    {
     "data": {
      "text/markdown": [
       "**For CellUniverse:**<br/> *(Press Enter after typing)*"
      ],
      "text/plain": [
       "<IPython.core.display.Markdown object>"
      ]
     },
     "metadata": {},
     "output_type": "display_data"
    },
    {
     "data": {
      "application/vnd.jupyter.widget-view+json": {
       "model_id": "43bf5114e50c42d7a7bf26bd27022688",
       "version_major": 2,
       "version_minor": 0
      },
      "text/plain": [
       "HBox(children=(Output(layout=Layout(min_width='80px')), GridBox(children=(Text(value='', layout=Layout(grid_ar…"
      ]
     },
     "metadata": {},
     "output_type": "display_data"
    },
    {
     "data": {
      "application/vnd.jupyter.widget-view+json": {
       "model_id": "6a0d985489134deaa67cf3775055da76",
       "version_major": 2,
       "version_minor": 0
      },
      "text/plain": [
       "Button(description='Clear graph', layout=Layout(width='auto'), style=ButtonStyle(), tooltip='Clear graph')"
      ]
     },
     "metadata": {},
     "output_type": "display_data"
    }
   ],
   "source": [
    "# Title\n",
    "display(Markdown('**For CellUniverse:**<br/> *(Press Enter after typing)*'))\n",
    "\n",
    "# Display function name - U(t)\n",
    "name_celluniverse = widgets.Output(layout=widgets.Layout(min_width='80px'))\n",
    "with name_celluniverse:\n",
    "    display(Latex('$U(t)= $'))\n",
    "    \n",
    "# Display first interval for the function definition\n",
    "condition1_celluniverse = widgets.Output(layout=widgets.Layout(width='auto', grid_area='condition1_celluniverse'))\n",
    "with condition1_celluniverse:\n",
    "    display(Latex('for $t \\leq 100$'))\n",
    "    \n",
    "# Display second interval for the function definition\n",
    "condition2_celluniverse = widgets.Output(layout=widgets.Layout(width='auto', grid_area='condition2_celluniverse'))\n",
    "with condition2_celluniverse:\n",
    "    display(Latex('for $100 < t \\leq 300$'))\n",
    "\n",
    "# Display third interval for the function definition\n",
    "condition3_celluniverse = widgets.Output(layout=widgets.Layout(width='auto', grid_area='condition3_celluniverse'))\n",
    "with condition3_celluniverse:\n",
    "    display(Latex('for $t > 300$.'))\n",
    "\n",
    "# Display resulting function graph\n",
    "fig_celluniverse, ax_celluniverse = plt.subplots()\n",
    "plt.close(fig_celluniverse)\n",
    "outgraph_celluniverse = widgets.Output()\n",
    "\n",
    "def start_fig_celluniverse(fig_celluniverse, ax_celluniverse, outgraph_celluniverse):\n",
    "    with outgraph_celluniverse:\n",
    "        values = [0, 100, 300, 500]\n",
    "        output = []\n",
    "        for t in values:\n",
    "            output.append(celluniverse(t))\n",
    "        ax_celluniverse.plot(values, output, 'b', label='CellUniverse')\n",
    "        ax_celluniverse.legend()\n",
    "        display(fig_celluniverse)\n",
    "\n",
    "start_fig_celluniverse(fig_celluniverse, ax_celluniverse, outgraph_celluniverse)\n",
    "    \n",
    "# Widgets for the function law input\n",
    "textbox1_celluniverse = widgets.Text(layout=widgets.Layout(width='150px', grid_area='textbox1_celluniverse'))\n",
    "textbox2_celluniverse = widgets.Text(layout=widgets.Layout(width='150px', grid_area='textbox2_celluniverse'))\n",
    "textbox3_celluniverse = widgets.Text(layout=widgets.Layout(width='150px', grid_area='textbox3_celluniverse'))\n",
    "\n",
    "# Widgets are displayed in a grid\n",
    "grid_celluniverse = widgets.GridBox(\n",
    "    children=[textbox1_celluniverse, condition1_celluniverse, \n",
    "              textbox2_celluniverse, condition2_celluniverse, \n",
    "              textbox3_celluniverse, condition3_celluniverse],\n",
    "    layout=widgets.Layout(\n",
    "            width='350px',\n",
    "            grid_template_rows='auto auto',\n",
    "            grid_template_columns='150px 200px',\n",
    "            grid_template_areas='''\n",
    "                \"textbox1_celluniverse condition1_celluniverse\"\n",
    "                \"textbox2_celluniverse condition2_celluniverse\"\n",
    "                \"textbox3_celluniverse condition3_celluniverse\"\n",
    "                ''')\n",
    "    )\n",
    "\n",
    "# This widget contains the three previously defined widgets, side by side.\n",
    "horizontal_box = widgets.HBox(children=[name_celluniverse, grid_celluniverse, outgraph_celluniverse],\n",
    "                  layout=widgets.Layout(width='100%', align_items='center', justify_content='center'))\n",
    "\n",
    "# The functions below show the graph of the conditions given by the users \n",
    "# in the input boxes defined above. The graphs are then compared to the \n",
    "# true function graph, so that we can check that the suggested law actually\n",
    "# represents the conditions we want to observe for this function.\n",
    "def graph_celluniverse_condition1(box):\n",
    "    values = [0, 100]\n",
    "    output = []\n",
    "    for t in values:\n",
    "        output.append(eval(box.value))\n",
    "    ax_celluniverse.plot(values, output, 'k-', label=\"My graph ($0\\leq t\\leq 100$)\")\n",
    "    ax_celluniverse.legend()\n",
    "    with outgraph_celluniverse:\n",
    "        clear_output(wait=True)\n",
    "        display(fig_celluniverse)\n",
    "        \n",
    "def graph_celluniverse_condition2(box):\n",
    "    values = [100, 300]\n",
    "    output = []\n",
    "    for t in values:\n",
    "        output.append(eval(box.value))\n",
    "    ax_celluniverse.plot(values, output, 'k-', label=\"My graph ($100<t\\leq 300$)\")\n",
    "    ax_celluniverse.legend()\n",
    "    with outgraph_celluniverse:\n",
    "        clear_output(wait=True)\n",
    "        display(fig_celluniverse)\n",
    "\n",
    "def graph_celluniverse_condition3(box):\n",
    "    values = [300, 500]\n",
    "    output = []\n",
    "    for t in values:\n",
    "        output.append(eval(box.value))\n",
    "    ax_celluniverse.plot(values, output, 'k-', label=\"My graph ($t > 500$)\")\n",
    "    ax_celluniverse.legend()\n",
    "    with outgraph_celluniverse:\n",
    "        clear_output(wait=True)\n",
    "        display(fig_celluniverse)\n",
    "\n",
    "# Finally, we display all the widgets\n",
    "display(horizontal_box)\n",
    "textbox1_celluniverse.on_submit(graph_celluniverse_condition1)\n",
    "textbox2_celluniverse.on_submit(graph_celluniverse_condition2)\n",
    "textbox3_celluniverse.on_submit(graph_celluniverse_condition3)\n",
    "\n",
    "# We create a button to clear the graph in case we make a mistake\n",
    "clear_button_celluniverse = widgets.Button(\n",
    "                description='Clear graph',\n",
    "                tooltip='Clear graph',\n",
    "                layout=widgets.Layout(width='auto')\n",
    "                )\n",
    "\n",
    "def clear_graph_celluniverse(clear):\n",
    "    with outgraph_celluniverse:\n",
    "        clear_output(wait=True)\n",
    "        ax_celluniverse.clear()\n",
    "        start_fig_celluniverse(fig_celluniverse, ax_celluniverse, outgraph_celluniverse)\n",
    "\n",
    "display(clear_button_celluniverse)\n",
    "clear_button_celluniverse.on_click(clear_graph_celluniverse)"
   ]
  },
  {
   "cell_type": "markdown",
   "metadata": {},
   "source": [
    "Now, you may have seen that the laws for W(t) and U(t) are:"
   ]
  },
  {
   "cell_type": "code",
   "execution_count": 18,
   "metadata": {
    "tags": [
     "hide"
    ]
   },
   "outputs": [
    {
     "data": {
      "application/vnd.jupyter.widget-view+json": {
       "model_id": "b7c2d5e2e80e4b3185145b1e57db525b",
       "version_major": 2,
       "version_minor": 0
      },
      "text/plain": [
       "Accordion(children=(Output(), Output()), selected_index=None, _titles={'0': 'PhoneWorld:', '1': 'CellUniverse:…"
      ]
     },
     "metadata": {},
     "output_type": "display_data"
    }
   ],
   "source": [
    "show_w = widgets.Output()\n",
    "show_v = widgets.Output()\n",
    "with show_w:\n",
    "    display(Latex(r'$$W(t) = \\begin{cases} 35, & t \\leq 120\\\\ 35+0.1(t-120), & t> 120\\end{cases}$$'))\n",
    "with show_v:\n",
    "    display(Latex(r'$$U(t) = \\begin{cases} 30, & t\\leq 100\\\\30+0.15(t-100), &100<t\\leq 300\\\\ 30 + 200(0.15) + 0.05(t-300), & t>300.\\end{cases}$$'))\n",
    "\n",
    "# We'll use an accordion widget to keep the contents hidden until the user\n",
    "# decides to click them, avoiding \"spoilers\" :)\n",
    "# The option \"selected_index=None\" makes sure no option comes pre-selected.\n",
    "accordion = widgets.Accordion(children=[show_w, show_v], selected_index=None)\n",
    "accordion.set_title(0, 'PhoneWorld:')\n",
    "accordion.set_title(1, 'CellUniverse:')\n",
    "display(accordion)"
   ]
  },
  {
   "cell_type": "markdown",
   "metadata": {},
   "source": [
    "In Python, we would do something like this: for PhoneWorld, we have"
   ]
  },
  {
   "cell_type": "code",
   "execution_count": 19,
   "metadata": {
    "show": true
   },
   "outputs": [],
   "source": [
    "def W(t):\n",
    "    if t <= 120:\n",
    "        W = 35\n",
    "    else:\n",
    "        W = 35+(t-120)*0.1\n",
    "    return W"
   ]
  },
  {
   "cell_type": "markdown",
   "metadata": {},
   "source": [
    "and for CellUniverse, we have"
   ]
  },
  {
   "cell_type": "code",
   "execution_count": 20,
   "metadata": {
    "show": true
   },
   "outputs": [],
   "source": [
    "def U(t):\n",
    "    if t <= 100:\n",
    "        U = 30\n",
    "    elif t <= 300:\n",
    "        U = 30 + (t-100)*0.15\n",
    "    else:\n",
    "        U = 30 + 200*0.15 + (t-300)*0.05\n",
    "    return U"
   ]
  },
  {
   "cell_type": "markdown",
   "metadata": {},
   "source": [
    "Finally, to find the intersection points between the two curves, we can see that for the leftmost point, we are in the interval where $100<t<300$, and so we will use the second law for $W$ and the second law for $U$:"
   ]
  },
  {
   "cell_type": "markdown",
   "metadata": {},
   "source": [
    "\\begin{align*}\n",
    "    35+0.1(t-120) &= 30+0.15(t-100)\\\\\n",
    "    35 + 0.1t - 12 &= 30+0.15t - 15\\\\\n",
    "    0.1t-0.15t &= 30-15-35+12\\\\\n",
    "    -0.05t &= -8\n",
    "\\end{align*}\n",
    "and so,\n",
    "$$t = \\frac{800}{5} = 160.$$"
   ]
  },
  {
   "cell_type": "markdown",
   "metadata": {},
   "source": [
    "In fact, we can check that this is true: $W(160)$ is "
   ]
  },
  {
   "cell_type": "code",
   "execution_count": 21,
   "metadata": {
    "show": true
   },
   "outputs": [
    {
     "data": {
      "text/plain": [
       "39.0"
      ]
     },
     "execution_count": 21,
     "metadata": {},
     "output_type": "execute_result"
    }
   ],
   "source": [
    "W(160)"
   ]
  },
  {
   "cell_type": "markdown",
   "metadata": {},
   "source": [
    "and"
   ]
  },
  {
   "cell_type": "code",
   "execution_count": 22,
   "metadata": {
    "show": true
   },
   "outputs": [
    {
     "data": {
      "text/plain": [
       "39.0"
      ]
     },
     "execution_count": 22,
     "metadata": {},
     "output_type": "execute_result"
    }
   ],
   "source": [
    "U(160)"
   ]
  },
  {
   "cell_type": "markdown",
   "metadata": {},
   "source": [
    "Next, we have a point where $400<t<500$, and so we must have"
   ]
  },
  {
   "cell_type": "markdown",
   "metadata": {},
   "source": [
    "\\begin{align*}\n",
    "    35+0.1(t-120) &= 30 + 200(0.15) + 0.05(t-300)\\\\\n",
    "    35 + 0.1t - 12 &= 30 + 30 + 0.05t - 15\\\\\n",
    "    0.1t-0.05t &= 30+30-15-35+12\\\\\n",
    "    0.05t &= 22\n",
    "\\end{align*}\n",
    "and so,\n",
    "$$t = \\frac{2200}{5} = 440.$$"
   ]
  },
  {
   "cell_type": "markdown",
   "metadata": {},
   "source": [
    "Indeed,"
   ]
  },
  {
   "cell_type": "code",
   "execution_count": 23,
   "metadata": {
    "show": true
   },
   "outputs": [
    {
     "data": {
      "text/plain": [
       "67.0"
      ]
     },
     "execution_count": 23,
     "metadata": {},
     "output_type": "execute_result"
    }
   ],
   "source": [
    "W(440)"
   ]
  },
  {
   "cell_type": "markdown",
   "metadata": {},
   "source": [
    "and"
   ]
  },
  {
   "cell_type": "code",
   "execution_count": 24,
   "metadata": {
    "show": true
   },
   "outputs": [
    {
     "data": {
      "text/plain": [
       "67.0"
      ]
     },
     "execution_count": 24,
     "metadata": {},
     "output_type": "execute_result"
    }
   ],
   "source": [
    "U(440)"
   ]
  },
  {
   "cell_type": "markdown",
   "metadata": {},
   "source": [
    "## Answer"
   ]
  },
  {
   "cell_type": "markdown",
   "metadata": {},
   "source": [
    "For PhoneWorld to be the best option, our monthly usage must be between 160 and 440 minutes."
   ]
  }
 ],
 "metadata": {
  "@webio": {
   "lastCommId": null,
   "lastKernelId": null
  },
  "kernelspec": {
   "display_name": "Python 3",
   "language": "python",
   "name": "python3"
  },
  "language_info": {
   "codemirror_mode": {
    "name": "ipython",
    "version": 3
   },
   "file_extension": ".py",
   "mimetype": "text/x-python",
   "name": "python",
   "nbconvert_exporter": "python",
   "pygments_lexer": "ipython3",
   "version": "3.6.8"
  },
  "latex_envs": {
   "LaTeX_envs_menu_present": true,
   "autoclose": false,
   "autocomplete": true,
   "bibliofile": "biblio.bib",
   "cite_by": "apalike",
   "current_citInitial": 1,
   "eqLabelWithNumbers": true,
   "eqNumInitial": 1,
   "hotkeys": {
    "equation": "Ctrl-E",
    "itemize": "Ctrl-I"
   },
   "labels_anchors": false,
   "latex_user_defs": false,
   "report_style_numbering": false,
   "user_envs_cfg": false
  },
  "toc": {
   "base_numbering": 1,
   "nav_menu": {},
   "number_sections": true,
   "sideBar": true,
   "skip_h1_title": false,
   "title_cell": "Table of Contents",
   "title_sidebar": "Contents",
   "toc_cell": false,
   "toc_position": {},
   "toc_section_display": true,
   "toc_window_display": false
  }
 },
 "nbformat": 4,
 "nbformat_minor": 2
}

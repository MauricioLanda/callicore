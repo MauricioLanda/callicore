{
 "cells": [
  {
   "cell_type": "code",
   "execution_count": 4,
   "metadata": {
    "hide_input": true
   },
   "outputs": [],
   "source": [
    "# Widgets\n",
    "import ipywidgets as widgets\n",
    "from ipywidgets import interact, interactive, fixed, interact_manual\n",
    "\n",
    "# Vamos usar o pandas para uma tabela bonita\n",
    "import pandas as pd\n",
    "\n",
    "# Vamos fazer o gráfico das funções, por isso precisamos usar o módulo matplotlib.\n",
    "# Vamos também escolher o modo de exibição do gráfico. No nosso caso, para simplificar, escolhemos\n",
    "%matplotlib inline\n",
    "# Em seguida, importamos apenas o submódulo pyplot da matplotlib com o \"apelido\" plt:\n",
    "import matplotlib.pyplot as plt\n",
    "\n",
    "# Por fim, importamos algumas facilidades para a exibição de LaTeX e outras saídas\n",
    "from IPython.display import display, clear_output, Markdown, Latex"
   ]
  },
  {
   "cell_type": "markdown",
   "metadata": {},
   "source": [
    "# Quantos minutos?"
   ]
  },
  {
   "cell_type": "markdown",
   "metadata": {},
   "source": [
    "Na Cidade de Tecnópolis, existem duas operadoras de telefonia celular. \"MundoFone\" oferece um plano mensal com uma tarifa de R\\\\$35 por 120 minutos, mais R\\\\$0,10 por cada minuto adicional. \"UniverCell\" oferece um plano mensal com uma tarifa de R\\\\$30 por 100 minutos, e cada minuto adicional custa R\\\\$0,15 até um máximo de 300 minutos. Depois disso, cada minuto extra custa R\\\\$0,05. \n",
    "\n",
    "Quantos minutos você deveria utilizar por mês para que \"MundoFone\" seja a melhor opção, isto é, custe menos que \"UniverCell\"?"
   ]
  },
  {
   "cell_type": "markdown",
   "metadata": {},
   "source": [
    "## Preparando o problema (inspeção)"
   ]
  },
  {
   "cell_type": "markdown",
   "metadata": {},
   "source": [
    "Primeiramente, vamos olhar para como calcular a franquia mensal para cada operadora. Normalmente, quando olhamos para problemas assim, escolhemos alguns valores ao acaso e calculamos o resultado. Vamos tentar uma tabela:"
   ]
  },
  {
   "cell_type": "code",
   "execution_count": 1,
   "metadata": {
    "hide_input": false
   },
   "outputs": [],
   "source": [
    "def mundofone(minutos):\n",
    "    if minutos <= 120:\n",
    "        custo = 35\n",
    "    else:\n",
    "        custo = 35+(minutos-120)*0.1\n",
    "    return custo"
   ]
  },
  {
   "cell_type": "code",
   "execution_count": 5,
   "metadata": {
    "hide_input": false
   },
   "outputs": [],
   "source": [
    "def univercell(minutos):\n",
    "    if minutos <= 100:\n",
    "        custo = 30\n",
    "    elif minutos <= 300:\n",
    "        custo = 30 + (minutos-100)*0.15\n",
    "    else:\n",
    "        custo = 30 + 200*0.15 + (minutos-300)*0.05\n",
    "    return custo"
   ]
  },
  {
   "cell_type": "code",
   "execution_count": 6,
   "metadata": {
    "hide_input": false
   },
   "outputs": [
    {
     "data": {
      "application/vnd.jupyter.widget-view+json": {
       "model_id": "b197a838f83b4a3f873cc10857a41f25",
       "version_major": 2,
       "version_minor": 0
      },
      "text/plain": [
       "interactive(children=(Text(value='', description='Minutos =', placeholder='Entre minutos (decimal)'), Button(d…"
      ]
     },
     "metadata": {},
     "output_type": "display_data"
    }
   ],
   "source": [
    "minutos_input = widgets.Text(\n",
    "                    value='',\n",
    "                    placeholder='Entre minutos (decimal)',\n",
    "                    description=\"Minutos =\",\n",
    "                )\n",
    "\n",
    "# Inicializar tabela com a primeira linha\n",
    "dados = [['Tarifa Básica', 35, 30]] \n",
    "tabela = pd.DataFrame(dados, columns = ['Minutos', 'MundoFone', 'UniverCell']) \n",
    "\n",
    "interact_manual.opts['manual_name'] = 'Calcular Custo'\n",
    "\n",
    "@interact_manual(minutos=minutos_input, tabela=fixed(tabela))\n",
    "def atualizar_tabela(minutos, tabela):\n",
    "    if minutos != '':\n",
    "        tempo = float(minutos)\n",
    "        if len(tabela[tabela['Minutos'] == tempo]) > 0:\n",
    "            # este valor já foi calculado; não faça nada!\n",
    "            pass\n",
    "        else:\n",
    "            tabela.loc[len(tabela)+1] = (tempo, mundofone(tempo), univercell(tempo))\n",
    "    # eliminar o índice para simplificar a tabela\n",
    "    tabela.index = ['']*len(tabela)\n",
    "    display(tabela)"
   ]
  },
  {
   "cell_type": "markdown",
   "metadata": {},
   "source": [
    "Agora, seria interessante ver como esses valores sem comparam em um gráfico. Vamos marcar, os valores calculados acima da seguinte forma: o tempo será marcado no eixo horizontal, e o custo de cada companhia será marcado no eixo vertical."
   ]
  },
  {
   "cell_type": "code",
   "execution_count": 5,
   "metadata": {
    "hide_input": false
   },
   "outputs": [
    {
     "data": {
      "application/vnd.jupyter.widget-view+json": {
       "model_id": "d57c25462a7d444f97c6f1aef2bc8e8b",
       "version_major": 2,
       "version_minor": 0
      },
      "text/plain": [
       "HBox(children=(Button(description='Mostrar valores calculados no gráfico', layout=Layout(width='auto'), style=…"
      ]
     },
     "metadata": {},
     "output_type": "display_data"
    },
    {
     "data": {
      "application/vnd.jupyter.widget-view+json": {
       "model_id": "a6693042d98a406da3220dc3a5c2140f",
       "version_major": 2,
       "version_minor": 0
      },
      "text/plain": [
       "HBox(children=(Output(),))"
      ]
     },
     "metadata": {},
     "output_type": "display_data"
    }
   ],
   "source": [
    "fig, ax = plt.subplots()\n",
    "plt.close(fig)\n",
    "\n",
    "botao_pontos = widgets.Button(\n",
    "                    description='Mostrar valores calculados no gráfico',\n",
    "                    tooltip='Mostrar valores calculados no gráfico',\n",
    "                    layout=widgets.Layout(width='auto')\n",
    "                    )\n",
    "\n",
    "botao_conectar = widgets.Button(\n",
    "                    description='Conectar pontos',\n",
    "                    tooltip='Conectar pontos',\n",
    "                    layout=widgets.Layout(width='auto')\n",
    "                    )\n",
    "\n",
    "display(widgets.HBox([botao_pontos, botao_conectar]))\n",
    "saida_graficos = widgets.Output()\n",
    "display(widgets.HBox(children=(saida_graficos,)))\n",
    "\n",
    "def graficar_pontos(grafico):\n",
    "    ax.clear()\n",
    "    ax.plot(tabela['Minutos'][1:], tabela['MundoFone'][1:], 'r*', label=\"MundoFone\")\n",
    "    ax.plot(tabela['Minutos'][1:], tabela['UniverCell'][1:], 'bo', label=\"UniverCell\")\n",
    "    ax.legend()\n",
    "    with saida_graficos:\n",
    "        clear_output(wait=True)\n",
    "        display(fig)\n",
    "        \n",
    "def conectar_pontos(conectar):\n",
    "    ax.clear()\n",
    "    # Vamos organizar os valores de minutos na tabela para que\n",
    "    # nosso gráfico fique organizado\n",
    "    entradas = tabela[1:].sort_values(by='Minutos')\n",
    "    ax.plot(entradas['Minutos'], entradas['MundoFone'], 'r*')\n",
    "    ax.plot(entradas['Minutos'], entradas['UniverCell'], 'bo')\n",
    "    ax.plot(entradas['Minutos'], entradas['MundoFone'], 'r')\n",
    "    ax.plot(entradas['Minutos'], entradas['UniverCell'], 'b')\n",
    "    ax.legend((\"MundoFone\", \"UniverCell\"))\n",
    "    with saida_graficos:\n",
    "        clear_output(wait=True)\n",
    "        display(fig)\n",
    "\n",
    "botao_pontos.on_click(graficar_pontos)\n",
    "botao_conectar.on_click(conectar_pontos)"
   ]
  },
  {
   "cell_type": "markdown",
   "metadata": {},
   "source": [
    "Agora, podemos ver que existe um intervalo em que os pontos (e a linha) vermelhos ficam abaixo dos pontos azuis; isso significa que MundoFone é mais barata que UniverCell somente nesse intervalo. Vamos ver quando isso ocorre.\n",
    "\n",
    "Do gráfico, podemos ver que o intervalo em que estamos interessados é determinado pelos dois pontos em que as linhas azul e vermelha se cruzam. (Se você não consegue ver esses dois pontos de intersecção, tente adicionar mais valores à sua tabela; digamos, valores até 500 minutos.) Agora, como podemos encontrar estes pontos?"
   ]
  },
  {
   "cell_type": "markdown",
   "metadata": {},
   "source": [
    "## Encontrando a intersecção das duas linhas"
   ]
  },
  {
   "cell_type": "markdown",
   "metadata": {},
   "source": [
    "Ambas linhas são determinadas por *funções*, que são maneiras de conectar os minutos aos custos correspondentes em cada companhia de telefonia. Apenas para simplificar, vamos dar um apelido ao valor do custo mensal de cada companhia. O custo para MundoFone será chamado $W$ e o custo para UniverCell será chamado $U$. \n",
    "\n",
    "Podemos ver que ambos os custos são determinados por quantos minutos são usados em cada mês. Podemos então dizer coisas assim:"
   ]
  },
  {
   "cell_type": "code",
   "execution_count": 6,
   "metadata": {
    "hide_input": true
   },
   "outputs": [],
   "source": [
    "tabela.set_index('Minutos')\n",
    "for indice, linha in tabela[1:].iterrows():\n",
    "    print('Para {0} minutos, temos W({0}) = {1}, U({0}) = {2}.'.format(int(linha[0]), linha[1], linha[2]))"
   ]
  },
  {
   "cell_type": "markdown",
   "metadata": {},
   "source": [
    "Note que para valores que não estão na tabela, não podemos decidir diretamente quanto isso custaria, a não ser que calculemos este número também. Felizmente, existe uma maneira mais fácil de descrever o custo total sem termos que listar todos as possíveis quantidades de minutos: usando a *lei* da função. Em nosso caso, tivemos o seguinte: vamos chamar $t$ a quantidade total de minutos usada naquele mês. Então,"
   ]
  },
  {
   "cell_type": "code",
   "execution_count": 7,
   "metadata": {
    "hide_input": false
   },
   "outputs": [
    {
     "data": {
      "text/markdown": [
       "**Para MundoFone:**<br/> *(Pressione Enter após entrar com o valor)*"
      ],
      "text/plain": [
       "<IPython.core.display.Markdown object>"
      ]
     },
     "metadata": {},
     "output_type": "display_data"
    },
    {
     "data": {
      "application/vnd.jupyter.widget-view+json": {
       "model_id": "4a93e0e4b6bd4aa686d914e761f9ed11",
       "version_major": 2,
       "version_minor": 0
      },
      "text/plain": [
       "HBox(children=(Output(layout=Layout(min_width='80px')), GridBox(children=(Text(value='', layout=Layout(grid_ar…"
      ]
     },
     "metadata": {},
     "output_type": "display_data"
    },
    {
     "data": {
      "application/vnd.jupyter.widget-view+json": {
       "model_id": "bbac8ad0a0c34d34b2d28f39cbd83f4c",
       "version_major": 2,
       "version_minor": 0
      },
      "text/plain": [
       "Button(description='Limpar gráfico', layout=Layout(width='auto'), style=ButtonStyle(), tooltip='Limpar gráfico…"
      ]
     },
     "metadata": {},
     "output_type": "display_data"
    }
   ],
   "source": [
    "# Título\n",
    "display(Markdown('**Para MundoFone:**<br/> *(Pressione Enter após entrar com o valor)*'))\n",
    "\n",
    "# Mostrar nome da função - W(t)\n",
    "nome_mundofone = widgets.Output(layout=widgets.Layout(min_width='80px'))\n",
    "with nome_mundofone:\n",
    "    display(Latex('$W(t)= $'))\n",
    "    \n",
    "# Mostrar primeiro intervalo para a definição da função W\n",
    "condicao1_mundofone = widgets.Output(layout=widgets.Layout(width='auto', grid_area='condicao1_mundofone'))\n",
    "with condicao1_mundofone:\n",
    "    display(Latex('para $t \\leq 120$'))\n",
    "    \n",
    "# Mostrar segundo intervalo para a definição da função W\n",
    "condicao2_mundofone = widgets.Output(layout=widgets.Layout(width='auto', grid_area='condicao2_mundofone'))\n",
    "with condicao2_mundofone:\n",
    "    display(Latex('para $t > 120$.'))\n",
    "\n",
    "# Mostrar gráfico resultante\n",
    "fig_mundofone, ax_mundofone = plt.subplots()\n",
    "grafico_mundofone = widgets.Output()\n",
    "plt.close(fig_mundofone)\n",
    "\n",
    "def preparar_fig_mundofone(fig_mundofone, ax_mundofone, grafico_mundofone):\n",
    "    with grafico_mundofone:\n",
    "        entradas = [0, 120, 500]\n",
    "        saidas_mundofone = []\n",
    "        for t in entradas:\n",
    "            saidas_mundofone.append(mundofone(t))\n",
    "        ax_mundofone.plot(entradas, saidas_mundofone, 'r', label='MundoFone')\n",
    "        ax_mundofone.legend()\n",
    "        display(fig_mundofone)\n",
    "\n",
    "preparar_fig_mundofone(fig_mundofone, ax_mundofone, grafico_mundofone)\n",
    "        \n",
    "# Widgets para o input das leis da função\n",
    "caixa1_mundofone = widgets.Text(layout=widgets.Layout(width='150px', grid_area='caixa1_mundofone'))\n",
    "caixa2_mundofone = widgets.Text(layout=widgets.Layout(width='150px', grid_area='caixa2_mundofone'))\n",
    "\n",
    "# Widgets são mostrados em uma tabela\n",
    "grid_mundofone = widgets.GridBox(\n",
    "    children=[caixa1_mundofone, condicao1_mundofone, \n",
    "              caixa2_mundofone, condicao2_mundofone],\n",
    "    layout=widgets.Layout(\n",
    "            width='350px',\n",
    "            grid_template_rows='auto auto',\n",
    "            grid_template_columns='150px 200px',\n",
    "            grid_template_areas='''\n",
    "                \"caixa1_mundofone condicao1_mundofone\"\n",
    "                \"caixa2_mundofone condicao2_mundofone\"\n",
    "                ''')\n",
    "    )\n",
    "\n",
    "# Este widget contém os três widgets definidos acima, lado a lado.\n",
    "caixa_horizontal = widgets.HBox(\n",
    "    children=[nome_mundofone, grid_mundofone, grafico_mundofone],\n",
    "    layout=widgets.Layout(width='90%', align_items='center', justify_content='center')\n",
    "    )\n",
    "\n",
    "# As funções abaixo desenham o gráfico das condições informadas pelos usuários \n",
    "# nas caixas de texto definidas acima. Os gráficos são então comparados com \n",
    "# o gráfico verdadeiro da função, para que se verifique que a lei encontrada \n",
    "# representa as condições que desejamos para essa função.\n",
    "def grafico_mundofone_condicao1(caixa):\n",
    "    entradas = [0, 120]\n",
    "    valores = []\n",
    "    for t in entradas:\n",
    "        # atenção com eval!\n",
    "        valores.append(eval(caixa.value))\n",
    "    ax_mundofone.plot(entradas, valores, 'k-', label=\"Meu gráfico ($0\\leq t\\leq 120$)\")\n",
    "    ax_mundofone.legend()\n",
    "    with grafico_mundofone:\n",
    "        clear_output(wait=True)\n",
    "        display(fig_mundofone)\n",
    "        \n",
    "def grafico_mundofone_condicao2(caixa):\n",
    "    entradas = [120, 500]\n",
    "    valores = []\n",
    "    for t in entradas:\n",
    "        valores.append(eval(caixa.value))\n",
    "    ax_mundofone.plot(entradas, valores, 'k-', label=\"Meu gráfico ($t>120$)\")\n",
    "    ax_mundofone.legend()\n",
    "    with grafico_mundofone:\n",
    "        clear_output(wait=True)\n",
    "        display(fig_mundofone)\n",
    "    \n",
    "# Finalmente, mostramos todos os widgets\n",
    "display(caixa_horizontal)\n",
    "caixa1_mundofone.on_submit(grafico_mundofone_condicao1)\n",
    "caixa2_mundofone.on_submit(grafico_mundofone_condicao2)\n",
    "\n",
    "# Definimos um botão para limpar os gráficos caso um erro seja cometido.\n",
    "botao_limpar_mundofone = widgets.Button(\n",
    "                            description='Limpar gráfico',\n",
    "                            tooltip='Limpar gráfico',\n",
    "                            layout=widgets.Layout(width='auto')\n",
    "                            )\n",
    "\n",
    "def limpar_grafico_mundofone(botao):\n",
    "    with grafico_mundofone:\n",
    "        clear_output(wait=True)\n",
    "        ax_mundofone.clear()\n",
    "        preparar_fig_mundofone(fig_mundofone, ax_mundofone, grafico_mundofone)\n",
    "\n",
    "display(botao_limpar_mundofone)\n",
    "botao_limpar_mundofone.on_click(limpar_grafico_mundofone)"
   ]
  },
  {
   "cell_type": "markdown",
   "metadata": {},
   "source": [
    "Vamos repetir para UniverCell (lembrando que aqui temos 3 faixas de preço):"
   ]
  },
  {
   "cell_type": "code",
   "execution_count": 8,
   "metadata": {
    "scrolled": true
   },
   "outputs": [
    {
     "data": {
      "text/markdown": [
       "**Para UniverCell:**<br/> *(Pressione enter após entrar com o valor)*"
      ],
      "text/plain": [
       "<IPython.core.display.Markdown object>"
      ]
     },
     "metadata": {},
     "output_type": "display_data"
    },
    {
     "data": {
      "application/vnd.jupyter.widget-view+json": {
       "model_id": "be1904e0feb745e4b1bf1d3b6e35ef48",
       "version_major": 2,
       "version_minor": 0
      },
      "text/plain": [
       "HBox(children=(Output(layout=Layout(min_width='80px')), GridBox(children=(Text(value='', layout=Layout(grid_ar…"
      ]
     },
     "metadata": {},
     "output_type": "display_data"
    },
    {
     "data": {
      "application/vnd.jupyter.widget-view+json": {
       "model_id": "d070ca710efd4e4f8c4da121432dcc02",
       "version_major": 2,
       "version_minor": 0
      },
      "text/plain": [
       "Button(description='Limpar gráfico', layout=Layout(width='auto'), style=ButtonStyle(), tooltip='Limpar gráfico…"
      ]
     },
     "metadata": {},
     "output_type": "display_data"
    }
   ],
   "source": [
    "# Título\n",
    "display(Markdown('**Para UniverCell:**<br/> *(Pressione enter após entrar com o valor)*'))\n",
    "\n",
    "# Mostrar nome da função - U(t)\n",
    "nome_univercell = widgets.Output(layout=widgets.Layout(min_width='80px'))\n",
    "with nome_univercell:\n",
    "    display(Latex('$U(t)= $'))\n",
    "    \n",
    "# Mostrar primeiro intervalo de definição da função U\n",
    "condicao1_univercell = widgets.Output(layout=widgets.Layout(width='auto', grid_area='condicao1_univercell'))\n",
    "with condicao1_univercell:\n",
    "    display(Latex('para $t \\leq 100$'))\n",
    "    \n",
    "# Mostrar segundo intervalo de definição da função U\n",
    "condicao2_univercell = widgets.Output(layout=widgets.Layout(width='auto', grid_area='condicao2_univercell'))\n",
    "with condicao2_univercell:\n",
    "    display(Latex('para $100 < t \\leq 300$'))\n",
    "\n",
    "# Mostrar terceiro intevalo de definição da função U\n",
    "condicao3_univercell = widgets.Output(layout=widgets.Layout(width='auto', grid_area='condicao3_univercell'))\n",
    "with condicao3_univercell:\n",
    "    display(Latex('para $t > 300$.'))\n",
    "\n",
    "# Mostrar gráfico resultante\n",
    "fig_univercell, ax_univercell = plt.subplots()\n",
    "plt.close(fig_univercell)\n",
    "grafico_univercell = widgets.Output()\n",
    "\n",
    "def preparar_fig_univercell(fig_univercell, ax_univercell, grafico_univercell):\n",
    "    with grafico_univercell:\n",
    "        entradas = [0, 100, 300, 500]\n",
    "        valores = []\n",
    "        for t in entradas:\n",
    "            valores.append(univercell(t))\n",
    "        ax_univercell.plot(entradas, valores, 'b', label='UniverCell')\n",
    "        ax_univercell.legend()\n",
    "        display(fig_univercell)\n",
    "\n",
    "preparar_fig_univercell(fig_univercell, ax_univercell, grafico_univercell)\n",
    "    \n",
    "# Widgets para o input das leis da função\n",
    "caixa1_univercell = widgets.Text(layout=widgets.Layout(width='auto', grid_area='caixa1_univercell'))\n",
    "caixa2_univercell = widgets.Text(layout=widgets.Layout(width='auto', grid_area='caixa2_univercell'))\n",
    "caixa3_univercell = widgets.Text(layout=widgets.Layout(width='auto', grid_area='caixa3_univercell'))\n",
    "\n",
    "# Widgets são mostrados em uma tabela\n",
    "grid_univercell = widgets.GridBox(\n",
    "    children=[caixa1_univercell, condicao1_univercell, \n",
    "              caixa2_univercell, condicao2_univercell, \n",
    "              caixa3_univercell, condicao3_univercell],\n",
    "    layout=widgets.Layout(\n",
    "            width='350px',\n",
    "            grid_template_rows='auto auto',\n",
    "            grid_template_columns='150px 200px',\n",
    "            grid_template_areas='''\n",
    "                \"caixa1_univercell condicao1_univercell\"\n",
    "                \"caixa2_univercell condicao2_univercell\"\n",
    "                \"caixa3_univercell condicao3_univercell\"\n",
    "                ''')\n",
    "    )\n",
    "\n",
    "# Este widget contém os três widgets definidos acima, lado a lado.\n",
    "caixa_horizontal = widgets.HBox(children=[nome_univercell, grid_univercell, grafico_univercell],\n",
    "                    layout=widgets.Layout(width='100%', align_items='center', justify_content='center'))\n",
    "\n",
    "# As funções abaixo desenham o gráfico das condições informadas pelos usuários \n",
    "# nas caixas de texto definidas acima. Os gráficos são então comparados com \n",
    "# o gráfico verdadeiro da função, para que se verifique que a lei encontrada \n",
    "# representa as condições que desejamos para essa função.\n",
    "def grafico_univercell_condicao1(caixa):\n",
    "    entradas = [0, 100]\n",
    "    valores = []\n",
    "    for t in entradas:\n",
    "        valores.append(eval(caixa.value))\n",
    "    ax_univercell.plot(entradas, valores, 'k-', label=\"Meu gráfico ($0\\leq t\\leq 100$)\")\n",
    "    ax_univercell.legend()\n",
    "    with grafico_univercell:\n",
    "        clear_output(wait=True)\n",
    "        display(fig_univercell)\n",
    "        \n",
    "def grafico_univercell_condicao2(caixa):\n",
    "    entradas = [100, 300]\n",
    "    valores = []\n",
    "    for t in entradas:\n",
    "        valores.append(eval(caixa.value))\n",
    "    ax_univercell.plot(entradas, valores, 'k-', label=\"Meu gráfico ($100<t\\leq 300$)\")\n",
    "    ax_univercell.legend()\n",
    "    with grafico_univercell:\n",
    "        clear_output(wait=True)\n",
    "        display(fig_univercell)\n",
    "\n",
    "def grafico_univercell_condicao3(caixa):\n",
    "    entradas = [300, 500]\n",
    "    valores = []\n",
    "    for t in entradas:\n",
    "        valores.append(eval(caixa.value))\n",
    "    ax_univercell.plot(entradas, valores, 'k-', label=\"Meu gráfico ($t > 500$)\")\n",
    "    ax_univercell.legend()\n",
    "    with grafico_univercell:\n",
    "        clear_output(wait=True)\n",
    "        display(fig_univercell)\n",
    "\n",
    "# Finalmente, mostramos todos os widgets\n",
    "display(caixa_horizontal)\n",
    "caixa1_univercell.on_submit(grafico_univercell_condicao1)\n",
    "caixa2_univercell.on_submit(grafico_univercell_condicao2)\n",
    "caixa3_univercell.on_submit(grafico_univercell_condicao3)\n",
    "\n",
    "# Definimos um botão para limpar os gráficos caso um erro seja cometido.\n",
    "botao_limpar_univercell = widgets.Button(\n",
    "                description='Limpar gráfico',\n",
    "                tooltip='Limpar gráfico',\n",
    "                layout=widgets.Layout(width='auto')\n",
    "                )\n",
    "\n",
    "def limpar_grafico_univercell(botao):\n",
    "    with grafico_univercell:\n",
    "        clear_output(wait=True)\n",
    "        ax_univercell.clear()\n",
    "        preparar_fig_univercell(fig_univercell, ax_univercell, grafico_univercell)\n",
    "\n",
    "display(botao_limpar_univercell)\n",
    "botao_limpar_univercell.on_click(limpar_grafico_univercell)"
   ]
  },
  {
   "cell_type": "markdown",
   "metadata": {},
   "source": [
    "Agora, vemos que as leis para $W(t)$ e $U(t)$ são"
   ]
  },
  {
   "cell_type": "code",
   "execution_count": 9,
   "metadata": {},
   "outputs": [
    {
     "data": {
      "application/vnd.jupyter.widget-view+json": {
       "model_id": "a7d70f5adf3244c4903a40beff66611a",
       "version_major": 2,
       "version_minor": 0
      },
      "text/plain": [
       "Accordion(children=(Output(), Output()), selected_index=None, _titles={'0': 'MundoFone:', '1': 'UniverCell:'})"
      ]
     },
     "metadata": {},
     "output_type": "display_data"
    }
   ],
   "source": [
    "mostrar_w = widgets.Output()\n",
    "mostrar_v = widgets.Output()\n",
    "with mostrar_w:\n",
    "    display(Latex(r'$$W(t) = \\begin{cases} 35, & t \\leq 120\\\\ 35+0.1(t-120), & t> 120\\end{cases}$$'))\n",
    "with mostrar_v:\n",
    "    display(Latex(r'$$U(t) = \\begin{cases} 30, & t\\leq 100\\\\30+0.15(t-100), &100<t\\leq 300\\\\ 30 + 200(0.15) + 0.05(t-300), & t>300.\\end{cases}$$'))\n",
    "\n",
    "# Vamos usar um widget de \"acordeão\", que mantém os seus conteúdos escondidos até que se clique neles,\n",
    "# para evitar \"spoilers\" :)\n",
    "# A opção \"selected_index=None\" nos garante que nenhum dos dois resultados será mostrado\n",
    "# antes que o usuário clique naquela opção.\n",
    "accordion = widgets.Accordion(children=[mostrar_w, mostrar_v], selected_index=None)\n",
    "accordion.set_title(0, 'MundoFone:')\n",
    "accordion.set_title(1, 'UniverCell:')\n",
    "display(accordion)"
   ]
  },
  {
   "cell_type": "markdown",
   "metadata": {},
   "source": [
    "Em Python, representamos isso da seguinte forma: para MundoFone, temos "
   ]
  },
  {
   "cell_type": "code",
   "execution_count": 10,
   "metadata": {},
   "outputs": [],
   "source": [
    "def W(t):\n",
    "    if t <= 120:\n",
    "        W = 35\n",
    "    else:\n",
    "        W = 35+(t-120)*0.1\n",
    "    return W"
   ]
  },
  {
   "cell_type": "markdown",
   "metadata": {},
   "source": [
    "e para UniverCell, temos  "
   ]
  },
  {
   "cell_type": "code",
   "execution_count": 11,
   "metadata": {},
   "outputs": [],
   "source": [
    "def U(t):\n",
    "    if t <= 100:\n",
    "        U = 30\n",
    "    elif t <= 300:\n",
    "        U = 30 + (t-100)*0.15\n",
    "    else:\n",
    "        U = 30 + 200*0.15 + (t-300)*0.05\n",
    "    return U"
   ]
  },
  {
   "cell_type": "markdown",
   "metadata": {},
   "source": [
    "Finalmente, para encontrarmos os pontos de intersecção entre as duas curvas, podemos ver que para o ponto mais à esquerda, estamos no intervalo em que $100<t<300$, e assim usaremos a segunda lei para $W$ e a segunda lei para $U$:"
   ]
  },
  {
   "cell_type": "markdown",
   "metadata": {},
   "source": [
    "\\begin{align*}\n",
    "    35+0.1(t-120) &= 30+0.15(t-100)\\\\\n",
    "    35 + 0.1t - 12 &= 30+0.15t - 15\\\\\n",
    "    0.1t-0.15t &= 30-15-35+12\\\\\n",
    "    -0.05t &= -8\n",
    "\\end{align*}\n",
    "e assim,\n",
    "$$t = \\frac{800}{5} = 160.$$"
   ]
  },
  {
   "cell_type": "markdown",
   "metadata": {},
   "source": [
    "De fato, podemos verificar que $W(160)$ é"
   ]
  },
  {
   "cell_type": "code",
   "execution_count": 12,
   "metadata": {},
   "outputs": [
    {
     "data": {
      "text/plain": [
       "39.0"
      ]
     },
     "execution_count": 12,
     "metadata": {},
     "output_type": "execute_result"
    }
   ],
   "source": [
    "W(160)"
   ]
  },
  {
   "cell_type": "markdown",
   "metadata": {},
   "source": [
    "Assim, $U(160)$ é"
   ]
  },
  {
   "cell_type": "code",
   "execution_count": 13,
   "metadata": {},
   "outputs": [
    {
     "data": {
      "text/plain": [
       "39.0"
      ]
     },
     "execution_count": 13,
     "metadata": {},
     "output_type": "execute_result"
    }
   ],
   "source": [
    "U(160)"
   ]
  },
  {
   "cell_type": "markdown",
   "metadata": {},
   "source": [
    "Em seguida, temos um ponto onde $400<t<500$, e assim devemos ter"
   ]
  },
  {
   "cell_type": "markdown",
   "metadata": {},
   "source": [
    "\\begin{align*}\n",
    "    35+0.1(t-120) &= 30 + 200(0.15) + 0.05(t-300)\\\\\n",
    "    35 + 0.1t - 12 &= 30 + 30 + 0.05t - 15\\\\\n",
    "    0.1t-0.05t &= 30+30-15-35+12\\\\\n",
    "    0.05t &= 22\n",
    "\\end{align*}\n",
    "e assim,\n",
    "$$t = \\frac{2200}{5} = 440.$$"
   ]
  },
  {
   "cell_type": "markdown",
   "metadata": {},
   "source": [
    "De fato, "
   ]
  },
  {
   "cell_type": "code",
   "execution_count": 14,
   "metadata": {},
   "outputs": [
    {
     "data": {
      "text/plain": [
       "67.0"
      ]
     },
     "execution_count": 14,
     "metadata": {},
     "output_type": "execute_result"
    }
   ],
   "source": [
    "W(440)"
   ]
  },
  {
   "cell_type": "markdown",
   "metadata": {},
   "source": [
    "e"
   ]
  },
  {
   "cell_type": "code",
   "execution_count": 15,
   "metadata": {},
   "outputs": [
    {
     "data": {
      "text/plain": [
       "67.0"
      ]
     },
     "execution_count": 15,
     "metadata": {},
     "output_type": "execute_result"
    }
   ],
   "source": [
    "U(440)"
   ]
  },
  {
   "cell_type": "markdown",
   "metadata": {},
   "source": [
    "## Resposta"
   ]
  },
  {
   "cell_type": "markdown",
   "metadata": {},
   "source": [
    "Para que MundoFone seja a melhor opção, nosso uso mensal deve ficar entre 160 e 440 minutos."
   ]
  },
  {
   "cell_type": "code",
   "execution_count": null,
   "metadata": {},
   "outputs": [],
   "source": []
  }
 ],
 "metadata": {
  "@webio": {
   "lastCommId": null,
   "lastKernelId": null
  },
  "kernelspec": {
   "display_name": "Python 3",
   "language": "python",
   "name": "python3"
  },
  "language_info": {
   "codemirror_mode": {
    "name": "ipython",
    "version": 3
   },
   "file_extension": ".py",
   "mimetype": "text/x-python",
   "name": "python",
   "nbconvert_exporter": "python",
   "pygments_lexer": "ipython3",
   "version": "3.6.8"
  },
  "latex_envs": {
   "LaTeX_envs_menu_present": true,
   "autoclose": false,
   "autocomplete": true,
   "bibliofile": "biblio.bib",
   "cite_by": "apalike",
   "current_citInitial": 1,
   "eqLabelWithNumbers": true,
   "eqNumInitial": 1,
   "hotkeys": {
    "equation": "Ctrl-E",
    "itemize": "Ctrl-I"
   },
   "labels_anchors": false,
   "latex_user_defs": false,
   "report_style_numbering": false,
   "user_envs_cfg": false
  },
  "toc": {
   "base_numbering": 1,
   "nav_menu": {},
   "number_sections": true,
   "sideBar": true,
   "skip_h1_title": false,
   "title_cell": "Table of Contents",
   "title_sidebar": "Contents",
   "toc_cell": false,
   "toc_position": {},
   "toc_section_display": true,
   "toc_window_display": false
  }
 },
 "nbformat": 4,
 "nbformat_minor": 2
}

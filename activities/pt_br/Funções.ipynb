{
 "cells": [
  {
   "cell_type": "code",
   "execution_count": 9,
   "metadata": {},
   "outputs": [],
   "source": [
    "# Widgets\n",
    "import ipywidgets as widgets\n",
    "from ipywidgets import interact, interactive, fixed, interact_manual\n",
    "\n",
    "# Vamos usar o pandas para uma tabela\n",
    "import pandas as pd\n",
    "\n",
    "# Vamos fazer o gráfico das funções, por isso precisamos usar o módulo matplotlib.\n",
    "# Vamos também escolher o modo de exibição do gráfico. No nosso caso, para simplificar, escolhemos\n",
    "%matplotlib inline\n",
    "# Em seguida, importamos apenas o submódulo pyplot da matplotlib com o \"apelido\" plt:\n",
    "import matplotlib.pyplot as plt\n",
    "\n",
    "# Por fim, importamos algumas facilidades para a exibição de LaTeX e outras saídas\n",
    "from IPython.display import display, clear_output, Markdown, Latex\n",
    "\n",
    "# Importaremos o numpy para podermos fazer corretamente o gráfico das funções.\n",
    "import numpy as np"
   ]
  },
  {
   "cell_type": "markdown",
   "metadata": {},
   "source": [
    "# Quantos minutos?"
   ]
  },
  {
   "cell_type": "markdown",
   "metadata": {},
   "source": [
    "Na Cidade de Tecnópolis, existem duas operadoras de telefonia celular. \"MundoFone\" oferece um plano mensal com uma tarifa de R\\\\$35 por 120 minutos, mais R\\\\$0,10 por cada minuto adicional. \"UniverCell\" oferece um plano mensal com uma tarifa de R\\\\$30 por 100 minutos, e cada minuto adicional custa R\\\\$0,15 até um máximo de 300 minutos. Depois disso, cada minuto extra custa R\\\\$0,05. \n",
    "\n",
    "Quantos minutos você deveria utilizar por mês para que \"MundoFone\" seja a melhor opção, isto é, custe menos que \"UniverCell\"?"
   ]
  },
  {
   "cell_type": "markdown",
   "metadata": {},
   "source": [
    "## Preparando o problema (inspeção)"
   ]
  },
  {
   "cell_type": "markdown",
   "metadata": {},
   "source": [
    "Primeiramente, vamos olhar para como calcular a franquia mensal para cada operadora. Normalmente, quando olhamos para problemas assim, escolhemos alguns valores ao acaso e calculamos o resultado. Vamos tentar uma tabela:"
   ]
  },
  {
   "cell_type": "code",
   "execution_count": 13,
   "metadata": {
    "hide_input": false
   },
   "outputs": [],
   "source": [
    "def mundofone(minutos):\n",
    "    if minutos <= 120:\n",
    "        custo = 35\n",
    "    else:\n",
    "        custo = 35+(minutos-120)*0.1\n",
    "    return custo"
   ]
  },
  {
   "cell_type": "code",
   "execution_count": 14,
   "metadata": {
    "hide_input": false
   },
   "outputs": [],
   "source": [
    "def univercell(minutos):\n",
    "    if minutos <= 100:\n",
    "        custo = 30\n",
    "    elif minutos <= 300:\n",
    "        custo = 30 + (minutos-100)*0.15\n",
    "    else:\n",
    "        custo = 30 + 200*0.15 + (minutos-300)*0.05\n",
    "    return custo"
   ]
  },
  {
   "cell_type": "code",
   "execution_count": 20,
   "metadata": {},
   "outputs": [
    {
     "data": {
      "application/vnd.jupyter.widget-view+json": {
       "model_id": "9c76559a5b17440689f26bfb874390f4",
       "version_major": 2,
       "version_minor": 0
      },
      "text/plain": [
       "interactive(children=(Text(value='', description='Minutos =', placeholder='Entre minutos (decimal)'), Button(d…"
      ]
     },
     "metadata": {},
     "output_type": "display_data"
    }
   ],
   "source": [
    "minutos_input = widgets.Text(\n",
    "                    value='',\n",
    "                    placeholder='Entre minutos (decimal)',\n",
    "                    description=\"Minutos =\",\n",
    ")\n",
    "\n",
    "# Inicializar tabela com a primeira linha\n",
    "dados = [['Tarifa Básica', 35, 30]] \n",
    "tabela = pd.DataFrame(dados, columns = ['Minutos', 'MundoFone', 'UniverCell']) \n",
    "\n",
    "interact_manual.opts['manual_name'] = 'Calcular Custo'\n",
    "\n",
    "@interact_manual(minutos=minutos_input, tabela=fixed(tabela))\n",
    "def atualizar_tabela(minutos, tabela):\n",
    "    if minutos != '':\n",
    "        tempo = float(minutos)\n",
    "        if len(tabela[tabela['Minutos'] == tempo]) > 0:\n",
    "            # este valor já foi calculado; não faça nada!\n",
    "            pass\n",
    "        else:\n",
    "            tabela.loc[len(tabela)+1] = (tempo, mundofone(tempo), univercell(tempo))\n",
    "    # eliminar o índice para simplificar a tabela\n",
    "    tabela.index = ['']*len(tabela)\n",
    "    display(tabela)"
   ]
  },
  {
   "cell_type": "markdown",
   "metadata": {},
   "source": [
    "Agora, seria interessante ver como esses valores sem comparam em um gráfico. Vamos marcar, os valores calculados acima da seguinte forma: o tempo será marcado no eixo horizontal, e o custo de cada companhia será marcado no eixo vertical."
   ]
  },
  {
   "cell_type": "code",
   "execution_count": 29,
   "metadata": {},
   "outputs": [
    {
     "data": {
      "application/vnd.jupyter.widget-view+json": {
       "model_id": "2346b5df142c4093bd9e85a990670925",
       "version_major": 2,
       "version_minor": 0
      },
      "text/plain": [
       "HBox(children=(Button(description='Mostrar valores calculados no gráfico', layout=Layout(width='auto'), style=…"
      ]
     },
     "metadata": {},
     "output_type": "display_data"
    },
    {
     "data": {
      "application/vnd.jupyter.widget-view+json": {
       "model_id": "9ef626a2dae24064b51d1f8f75969e4c",
       "version_major": 2,
       "version_minor": 0
      },
      "text/plain": [
       "HBox(children=(Output(),))"
      ]
     },
     "metadata": {},
     "output_type": "display_data"
    }
   ],
   "source": [
    "# Vamos gerar uma janela de gráficos usando a biblioteca matplotlib.pyplot - que apelidamos de plt\n",
    "fig, ax = plt.subplots()\n",
    "\n",
    "plt.close(fig)\n",
    "\n",
    "botao_pontos = widgets.Button(\n",
    "                    description='Mostrar valores calculados no gráfico',\n",
    "                    disabled=False,\n",
    "                    button_style='',\n",
    "                    tooltip='Mostrar valores calculados no gráfico',\n",
    "                    layout=widgets.Layout(width='auto')\n",
    "                    )\n",
    "\n",
    "botao_conectar = widgets.Button(\n",
    "                    description='Conectar pontos',\n",
    "                    disabled=False,\n",
    "                    button_style='',\n",
    "                    tooltip='Conectar pontos',\n",
    "                    layout=widgets.Layout(width='auto')\n",
    "                    )\n",
    "\n",
    "display(widgets.HBox([botao_pontos, botao_conectar]))\n",
    "saida_graficos = widgets.Output()\n",
    "display(widgets.HBox(children=(saida_graficos,)))\n",
    "\n",
    "def graficar_pontos(grafico):\n",
    "    ax.clear()\n",
    "    ax.plot(tabela['Minutos'][1:], tabela['MundoFone'][1:], 'r*', label=\"MundoFone\")\n",
    "    ax.plot(tabela['Minutos'][1:], tabela['UniverCell'][1:], 'bo', label=\"UniverCell\")\n",
    "    ax.legend()\n",
    "    with saida_graficos:\n",
    "        clear_output(wait=True)\n",
    "        display(fig)\n",
    "        \n",
    "def conectar_pontos(conectar):\n",
    "    ax.clear()\n",
    "    entradas = tabela[1:].sort_values(by='Minutos')\n",
    "    ax.plot(entradas['Minutos'], entradas['MundoFone'], 'r*')\n",
    "    ax.plot(entradas['Minutos'], entradas['UniverCell'], 'bo')\n",
    "    ax.plot(entradas['Minutos'], entradas['MundoFone'], 'r')\n",
    "    ax.plot(entradas['Minutos'], entradas['UniverCell'], 'b')\n",
    "    ax.legend((\"MundoFone\", \"UniverCell\"))\n",
    "    with saida_graficos:\n",
    "        clear_output(wait=True)\n",
    "        display(fig)\n",
    "\n",
    "botao_pontos.on_click(graficar_pontos)\n",
    "botao_conectar.on_click(conectar_pontos)"
   ]
  },
  {
   "cell_type": "markdown",
   "metadata": {},
   "source": [
    "Agora, podemos ver que existe um intervalo em que os pontos (e a linha) vermelhos ficam abaixo dos pontos azuis; isso significa que MundoFone é mais barata que UniverCell somente nesse intervalo. Vamos ver quando isso ocorre.\n",
    "\n",
    "Do gráfico, podemos ver que o intervalo em que estamos interessados é determinado pelos dois pontos em que as linhas azul e vermelha se cruzam. Agora, como podemos encontrar estes pontos?"
   ]
  },
  {
   "cell_type": "markdown",
   "metadata": {},
   "source": [
    "## Encontrando a intersecção das duas linhas"
   ]
  },
  {
   "cell_type": "markdown",
   "metadata": {},
   "source": [
    "Ambas linhas são determinadas por *funções*, que são maneiras de conectar os minutos aos custos correspondentes em cada companhia de telefonia. Apenas para simplificar, vamos dar um apelido ao valor do custo mensal de cada companhia. O custo para MundoFone será chamado $W$ e o custo para UniverCell será chamado $U$. \n",
    "\n",
    "Podemos ver que ambos os custos são determinados por quantos minutos são usados em cada mês. Podemos então dizer coisas assim:"
   ]
  },
  {
   "cell_type": "code",
   "execution_count": 30,
   "metadata": {},
   "outputs": [
    {
     "name": "stdout",
     "output_type": "stream",
     "text": [
      "Para 100 minutos, temos W(100) = 35.0, U(100) = 30.0.\n",
      "Para 120 minutos, temos W(120) = 35.0, U(120) = 33.0.\n",
      "Para 200 minutos, temos W(200) = 43.0, U(200) = 45.0.\n",
      "Para 150 minutos, temos W(150) = 38.0, U(150) = 37.5.\n",
      "Para 300 minutos, temos W(300) = 53.0, U(300) = 60.0.\n",
      "Para 350 minutos, temos W(350) = 58.0, U(350) = 62.5.\n",
      "Para 250 minutos, temos W(250) = 48.0, U(250) = 52.5.\n",
      "Para 400 minutos, temos W(400) = 63.0, U(400) = 65.0.\n",
      "Para 500 minutos, temos W(500) = 73.0, U(500) = 70.0.\n",
      "Para 450 minutos, temos W(450) = 68.0, U(450) = 67.5.\n"
     ]
    }
   ],
   "source": [
    "tabela.set_index('Minutos')\n",
    "for indice, linha in tabela[1:].iterrows():\n",
    "    print('Para {0} minutos, temos W({0}) = {1}, U({0}) = {2}.'.format(int(linha[0]), linha[1], linha[2]))"
   ]
  },
  {
   "cell_type": "markdown",
   "metadata": {},
   "source": [
    "Note que para valores que não estão na tabela, não podemos decidir diretamente quanto isso custaria, a não ser que calculemos este número também. Felizmente, existe uma maneira mais fácil de descrever o custo total sem termos que listar todos as possíveis quantidades de minutos: usando a *lei* da função. Em nosso caso, tivemos o seguinte: vamos chamar $t$ a quantidade total de minutos usada naquele mês. Então,"
   ]
  },
  {
   "cell_type": "code",
   "execution_count": 33,
   "metadata": {},
   "outputs": [
    {
     "data": {
      "text/markdown": [
       "Para MundoFone:\n",
       " (Pressione enter após entrar com o valor)"
      ],
      "text/plain": [
       "<IPython.core.display.Markdown object>"
      ]
     },
     "metadata": {},
     "output_type": "display_data"
    },
    {
     "data": {
      "application/vnd.jupyter.widget-view+json": {
       "model_id": "2a545c1af43d4bffaac1e74461be5a42",
       "version_major": 2,
       "version_minor": 0
      },
      "text/plain": [
       "HBox(children=(Output(layout=Layout(width='80px')), GridBox(children=(Text(value='', layout=Layout(grid_area='…"
      ]
     },
     "metadata": {},
     "output_type": "display_data"
    },
    {
     "data": {
      "application/vnd.jupyter.widget-view+json": {
       "model_id": "361df01765af4c05a67b1268dd7685fa",
       "version_major": 2,
       "version_minor": 0
      },
      "text/plain": [
       "Button(description='Limpar gráfico', layout=Layout(width='auto'), style=ButtonStyle(), tooltip='Limpar gráfico…"
      ]
     },
     "metadata": {},
     "output_type": "display_data"
    }
   ],
   "source": [
    "# Título\n",
    "display(Markdown('Para MundoFone:\\n (Pressione enter após entrar com o valor)'))\n",
    "\n",
    "# Mostrar nome da função - W(t)\n",
    "nome_mundofone = widgets.Output(layout=widgets.Layout(width='80px'))\n",
    "with nome_mundofone:\n",
    "    display(Latex('$W(t)= $'))\n",
    "    \n",
    "# Mostrar primeiro intervalo para a definição da função W\n",
    "condicao1_mundofone = widgets.Output(layout=widgets.Layout(width='auto', grid_area='condicao1_mundofone'))\n",
    "with condicao1_mundofone:\n",
    "    display(Latex('para $t \\leq 120$'))\n",
    "    \n",
    "# Mostrar segundo intervalo para a definição da função W\n",
    "condicao2_mundofone = widgets.Output(layout=widgets.Layout(width='auto', grid_area='condicao2_mundofone'))\n",
    "with condicao2_mundofone:\n",
    "    display(Latex('para $t > 120$.'))\n",
    "\n",
    "# Mostrar gráfico resultante\n",
    "fig_mundofone, ax_mundofone = plt.subplots()\n",
    "grafico_mundofone = widgets.Output()\n",
    "plt.close(fig_mundofone)\n",
    "\n",
    "def preparar_fig_mundofone(fig_mundofone, ax_mundofone, grafico_mundofone):\n",
    "    with grafico_mundofone:\n",
    "        entradas = np.linspace(0,500,50)\n",
    "        saidas_mundofone = []\n",
    "        for t in entradas:\n",
    "            saidas_mundofone.append(mundofone(t))\n",
    "        ax_mundofone.plot(entradas, saidas_mundofone, 'r', label='MundoFone')\n",
    "        ax_mundofone.legend()\n",
    "        display(fig_mundofone)\n",
    "\n",
    "preparar_fig_mundofone(fig_mundofone, ax_mundofone, grafico_mundofone)\n",
    "        \n",
    "# Widgets para o input das leis da função\n",
    "caixa1_mundofone = widgets.Text(layout=widgets.Layout(width='150px', grid_area='caixa1_mundofone'))\n",
    "caixa2_mundofone = widgets.Text(layout=widgets.Layout(width='150px', grid_area='caixa2_mundofone'))\n",
    "\n",
    "# Widgets são mostrados em uma tabela\n",
    "grid_mundofone = widgets.GridBox(\n",
    "    children=[caixa1_mundofone, condicao1_mundofone, caixa2_mundofone, condicao2_mundofone],\n",
    "    layout=widgets.Layout(\n",
    "            width='350px',\n",
    "            grid_template_rows='auto auto',\n",
    "            grid_template_columns='150px 200px',\n",
    "            grid_template_areas='''\n",
    "                            \"caixa1_mundofone condicao1_mundofone\"\n",
    "                            \"caixa2_mundofone condicao2_mundofone\"\n",
    "                            ''')\n",
    "            )\n",
    "\n",
    "# Este widget contém os três widgets definidos acima, lado a lado.\n",
    "caixa_horizontal = widgets.HBox(children=[nome_mundofone, grid_mundofone, grafico_mundofone],\n",
    "                    layout=widgets.Layout(width='90%', align_items='center', justify_content='center'))\n",
    "\n",
    "def grafico_mundofone_condicao1(caixa):\n",
    "    entradas = np.linspace(0,120,50)\n",
    "    valores = []\n",
    "    for t in entradas:\n",
    "        # atenção com eval!\n",
    "        valores.append(eval(caixa.value))\n",
    "    ax_mundofone.plot(entradas, valores, 'k-', label=\"Meu gráfico ($0\\leq t\\leq 120$)\")\n",
    "    ax_mundofone.legend()\n",
    "    with grafico_mundofone:\n",
    "        clear_output(wait=True)\n",
    "        display(fig_mundofone)\n",
    "        \n",
    "def grafico_mundofone_condicao2(caixa):\n",
    "    entradas = np.linspace(120,500,50)\n",
    "    valores = []\n",
    "    for t in entradas:\n",
    "        valores.append(eval(caixa.value))\n",
    "    ax_mundofone.plot(entradas, valores, 'k-', label=\"Meu gráfico ($t>120$)\")\n",
    "    ax_mundofone.legend()\n",
    "    with grafico_mundofone:\n",
    "        clear_output(wait=True)\n",
    "        display(fig_mundofone)\n",
    "    \n",
    "display(caixa_horizontal)\n",
    "caixa1_mundofone.on_submit(grafico_mundofone_condicao1)\n",
    "caixa2_mundofone.on_submit(grafico_mundofone_condicao2)\n",
    "\n",
    "botao_limpar_mundofone = widgets.Button(\n",
    "                            description='Limpar gráfico',\n",
    "                            #disabled=False,\n",
    "                            button_style='',\n",
    "                            tooltip='Limpar gráfico',\n",
    "                            layout=widgets.Layout(width='auto')\n",
    "                            )\n",
    "\n",
    "def limpar_grafico_mundofone(limpar):\n",
    "    with grafico_mundofone:\n",
    "        clear_output(wait=True)\n",
    "        ax_mundofone.clear()\n",
    "        preparar_fig_mundofone(fig_mundofone, ax_mundofone, grafico_mundofone)\n",
    "\n",
    "display(botao_limpar_mundofone)\n",
    "botao_limpar_mundofone.on_click(limpar_grafico_mundofone)"
   ]
  },
  {
   "cell_type": "markdown",
   "metadata": {},
   "source": [
    "Let's repeat this for CellUniverse (remember that here we have 3 price ranges):"
   ]
  },
  {
   "cell_type": "code",
   "execution_count": 9,
   "metadata": {
    "scrolled": true
   },
   "outputs": [
    {
     "data": {
      "text/markdown": [
       "For CellUniverse:"
      ],
      "text/plain": [
       "<IPython.core.display.Markdown object>"
      ]
     },
     "metadata": {},
     "output_type": "display_data"
    },
    {
     "data": {
      "application/vnd.jupyter.widget-view+json": {
       "model_id": "a1ec5fa91b204451a390fa97333cc692",
       "version_major": 2,
       "version_minor": 0
      },
      "text/plain": [
       "HBox(children=(Output(layout=Layout(width='80px')), GridBox(children=(Text(value='', layout=Layout(grid_area='…"
      ]
     },
     "metadata": {},
     "output_type": "display_data"
    },
    {
     "data": {
      "application/vnd.jupyter.widget-view+json": {
       "model_id": "5f2700dcf5f244e88b3032e4f18d2d49",
       "version_major": 2,
       "version_minor": 0
      },
      "text/plain": [
       "Button(description='Clear graph', layout=Layout(width='200px'), style=ButtonStyle(), tooltip='Clear graph')"
      ]
     },
     "metadata": {},
     "output_type": "display_data"
    }
   ],
   "source": [
    "# Title\n",
    "display(Markdown('For CellUniverse:'))\n",
    "\n",
    "# Display function name - U(t)\n",
    "name_cu = widgets.Output(layout=widgets.Layout(width='80px'))\n",
    "with name_cu:\n",
    "    display(Latex('$U(t)= $'))\n",
    "    \n",
    "# Display first interval for the function definition\n",
    "cond1_cu = widgets.Output(layout=widgets.Layout(width='auto', grid_area='cond1_cu'))\n",
    "with cond1_cu:\n",
    "    display(Latex('for $t \\leq 100$'))\n",
    "    \n",
    "# Display second interval for the function definition\n",
    "cond2_cu = widgets.Output(layout=widgets.Layout(width='auto', grid_area='cond2_cu'))\n",
    "with cond2_cu:\n",
    "    display(Latex('for $100 < t \\leq 300$'))\n",
    "\n",
    "# Display third interval for the function definition\n",
    "cond3_cu = widgets.Output(layout=widgets.Layout(width='auto', grid_area='cond3_cu'))\n",
    "with cond3_cu:\n",
    "    display(Latex('for $t > 300$.'))\n",
    "\n",
    "# Display resulting function graph\n",
    "fig_cu, ax_cu = plt.subplots()\n",
    "plt.close(fig_cu)\n",
    "outgraph_cu = widgets.Output()\n",
    "\n",
    "def start_fig_cu(fig_cu, ax_cu, outgraph_cu):\n",
    "    with outgraph_cu:\n",
    "        values = np.linspace(0,500,50)\n",
    "        cu = []\n",
    "        for t in values:\n",
    "            cu.append(celluniverse(t))\n",
    "        ax_cu.plot(values, cu, 'b', label='CellUniverse')\n",
    "        ax_cu.legend()\n",
    "        display(fig_cu)\n",
    "\n",
    "start_fig_cu(fig_cu, ax_cu, outgraph_cu)\n",
    "    \n",
    "# Widgets for the function law input\n",
    "box1_cu = widgets.Text(layout=widgets.Layout(width='150px', grid_area='box1_cu'))\n",
    "box2_cu = widgets.Text(layout=widgets.Layout(width='150px', grid_area='box2_cu'))\n",
    "box3_cu = widgets.Text(layout=widgets.Layout(width='150px', grid_area='box3_cu'))\n",
    "\n",
    "# Widgets are displayed in a grid\n",
    "grid_cu = widgets.GridBox(children=[box1_cu, cond1_cu, box2_cu, cond2_cu, box3_cu, cond3_cu],\n",
    "            layout=widgets.Layout(\n",
    "            width='550px',\n",
    "            grid_template_rows='auto auto auto',\n",
    "            grid_template_columns='150px 200px 200px',\n",
    "            grid_template_areas='''\n",
    "            \"box1_cu cond1_cu\"\n",
    "            \"box2_cu cond2_cu\"\n",
    "            \"box3_cu cond3_cu\"\n",
    "            ''')\n",
    "       )\n",
    "\n",
    "# This widget contains the three previously defined widgets, side by side.\n",
    "horiz_cu = widgets.HBox(children=[name_cu, grid_cu, outgraph_cu],\n",
    "                    layout=widgets.Layout(width='100%', align_items='center', justify_content='center'))\n",
    "\n",
    "def graph_cu_cond1(box):\n",
    "    values = np.linspace(0,100,50)\n",
    "    boxin = []\n",
    "    for t in values:\n",
    "        boxin.append(eval(box.value))\n",
    "    ax_cu.plot(values, boxin, 'k-', label=\"My graph ($0\\leq t\\leq 100$)\")\n",
    "    ax_cu.legend()\n",
    "    with outgraph_cu:\n",
    "        clear_output(wait=True)\n",
    "        display(fig_cu)\n",
    "        \n",
    "def graph_cu_cond2(box):\n",
    "    values = np.linspace(100,300,50)\n",
    "    boxin = []\n",
    "    for t in values:\n",
    "        boxin.append(eval(box.value))\n",
    "    ax_cu.plot(values, boxin, 'k-', label=\"My graph ($100<t\\leq 300$)\")\n",
    "    ax_cu.legend()\n",
    "    with outgraph_cu:\n",
    "        clear_output(wait=True)\n",
    "        display(fig_cu)\n",
    "\n",
    "def graph_cu_cond3(box):\n",
    "    values = np.linspace(300,500,50)\n",
    "    boxin = []\n",
    "    for t in values:\n",
    "        boxin.append(eval(box.value))\n",
    "    ax_cu.plot(values, boxin, 'k-', label=\"My graph ($t > 500$)\")\n",
    "    ax_cu.legend()\n",
    "    with outgraph_cu:\n",
    "        clear_output(wait=True)\n",
    "        display(fig_cu)\n",
    "\n",
    "display(horiz_cu)\n",
    "box1_cu.on_submit(graph_cu_cond1)\n",
    "box2_cu.on_submit(graph_cu_cond2)\n",
    "box3_cu.on_submit(graph_cu_cond3)\n",
    "\n",
    "clear_button_cu = widgets.Button(\n",
    "                description='Clear graph',\n",
    "                disabled=False,\n",
    "                button_style='',\n",
    "                tooltip='Clear graph',\n",
    "                layout=widgets.Layout(width='200px')\n",
    "                )\n",
    "\n",
    "def clear_graph_cu(clear):\n",
    "    with outgraph_cu:\n",
    "        clear_output(wait=True)\n",
    "        ax_cu.clear()\n",
    "        start_fig_cu(fig_cu, ax_cu, outgraph_cu)\n",
    "\n",
    "display(clear_button_cu)\n",
    "clear_button_cu.on_click(clear_graph_cu)"
   ]
  },
  {
   "cell_type": "markdown",
   "metadata": {},
   "source": [
    "Now, you may have seen that the laws for W(t) and U(t) are:"
   ]
  },
  {
   "cell_type": "code",
   "execution_count": 87,
   "metadata": {},
   "outputs": [
    {
     "data": {
      "application/vnd.jupyter.widget-view+json": {
       "model_id": "ae38e02859c04668bb4ab6d4139e27fc",
       "version_major": 2,
       "version_minor": 0
      },
      "text/plain": [
       "Accordion(children=(Output(), Output()), selected_index=None, _titles={'0': 'PhoneWorld:', '1': 'CellUniverse:…"
      ]
     },
     "metadata": {},
     "output_type": "display_data"
    }
   ],
   "source": [
    "out_w = widgets.Output()\n",
    "out_v = widgets.Output()\n",
    "with out_w:\n",
    "    display(Latex(r'$$W(t) = \\begin{cases} 35, & t \\leq 120\\\\ 35+0.1(t-120), & t> 120\\end{cases}$$'))\n",
    "with out_v:\n",
    "    display(Latex(r'$$U(t) = \\begin{cases} 30, & t\\leq 100\\\\30+0.15(t-100), &100<t\\leq 300\\\\ 30 + 200(0.15) + 0.05(t-300), & t>300.\\end{cases}$$'))\n",
    "accordion = widgets.Accordion(children=[out_w, out_v], selected_index = None)\n",
    "accordion.set_title(0, 'PhoneWorld:')\n",
    "accordion.set_title(1, 'CellUniverse:')\n",
    "display(accordion)"
   ]
  },
  {
   "cell_type": "markdown",
   "metadata": {},
   "source": [
    "Finally, to find the intersection points between the two curves, we can see that for the leftmost point, we are in the interval where $100<t<300$, and so we will use the second law for $W$ and the second law for $U$:"
   ]
  },
  {
   "cell_type": "markdown",
   "metadata": {},
   "source": [
    "\\begin{align*}\n",
    "    35+0.1(t-120) &= 30+0.15(t-100)\\\\\n",
    "    35 + 0.1t - 12 &= 30+0.15t - 15\\\\\n",
    "    0.1t-0.15t &= 30-15-35+12\\\\\n",
    "    -0.05t &= -8\n",
    "\\end{align*}\n",
    "and so,\n",
    "$$t = \\frac{800}{5} = 160.$$"
   ]
  },
  {
   "cell_type": "markdown",
   "metadata": {},
   "source": [
    "In fact, we can check that this is true: $W(160)$ is "
   ]
  },
  {
   "cell_type": "code",
   "execution_count": 94,
   "metadata": {},
   "outputs": [
    {
     "data": {
      "text/plain": [
       "39.0"
      ]
     },
     "execution_count": 94,
     "metadata": {},
     "output_type": "execute_result"
    }
   ],
   "source": [
    "phoneworld(160)"
   ]
  },
  {
   "cell_type": "markdown",
   "metadata": {},
   "source": [
    "and $U(160)$ is "
   ]
  },
  {
   "cell_type": "code",
   "execution_count": 95,
   "metadata": {},
   "outputs": [
    {
     "data": {
      "text/plain": [
       "39.0"
      ]
     },
     "execution_count": 95,
     "metadata": {},
     "output_type": "execute_result"
    }
   ],
   "source": [
    "celluniverse(160)"
   ]
  },
  {
   "cell_type": "markdown",
   "metadata": {},
   "source": [
    "Next, we have a point where $400<t<500$, and so we must have"
   ]
  },
  {
   "cell_type": "markdown",
   "metadata": {},
   "source": [
    "\\begin{align*}\n",
    "    35+0.1(t-120) &= 30 + 200(0.15) + 0.05(t-300)\\\\\n",
    "    35 + 0.1t - 12 &= 30 + 30 + 0.05t - 15\\\\\n",
    "    0.1t-0.05t &= 30+30-15-35+12\\\\\n",
    "    0.05t &= 22\n",
    "\\end{align*}\n",
    "and so,\n",
    "$$t = \\frac{2200}{5} = 440.$$"
   ]
  },
  {
   "cell_type": "markdown",
   "metadata": {},
   "source": [
    "Indeed, $W(440)$ is "
   ]
  },
  {
   "cell_type": "code",
   "execution_count": 93,
   "metadata": {},
   "outputs": [
    {
     "data": {
      "text/plain": [
       "67.0"
      ]
     },
     "execution_count": 93,
     "metadata": {},
     "output_type": "execute_result"
    }
   ],
   "source": [
    "phoneworld(440)"
   ]
  },
  {
   "cell_type": "markdown",
   "metadata": {},
   "source": [
    "and $U(440)$ is "
   ]
  },
  {
   "cell_type": "code",
   "execution_count": 91,
   "metadata": {},
   "outputs": [
    {
     "data": {
      "text/plain": [
       "67.0"
      ]
     },
     "execution_count": 91,
     "metadata": {},
     "output_type": "execute_result"
    }
   ],
   "source": [
    "celluniverse(440)"
   ]
  },
  {
   "cell_type": "markdown",
   "metadata": {},
   "source": [
    "## Answer"
   ]
  },
  {
   "cell_type": "markdown",
   "metadata": {},
   "source": [
    "For PhoneWorld to be the best option, our monthly usage must be between 160 and 440 minutes."
   ]
  }
 ],
 "metadata": {
  "@webio": {
   "lastCommId": null,
   "lastKernelId": null
  },
  "kernelspec": {
   "display_name": "Python 3",
   "language": "python",
   "name": "python3"
  },
  "language_info": {
   "codemirror_mode": {
    "name": "ipython",
    "version": 3
   },
   "file_extension": ".py",
   "mimetype": "text/x-python",
   "name": "python",
   "nbconvert_exporter": "python",
   "pygments_lexer": "ipython3",
   "version": "3.6.7"
  },
  "latex_envs": {
   "LaTeX_envs_menu_present": true,
   "autoclose": false,
   "autocomplete": true,
   "bibliofile": "biblio.bib",
   "cite_by": "apalike",
   "current_citInitial": 1,
   "eqLabelWithNumbers": true,
   "eqNumInitial": 1,
   "hotkeys": {
    "equation": "Ctrl-E",
    "itemize": "Ctrl-I"
   },
   "labels_anchors": false,
   "latex_user_defs": false,
   "report_style_numbering": false,
   "user_envs_cfg": false
  },
  "toc": {
   "base_numbering": 1,
   "nav_menu": {},
   "number_sections": true,
   "sideBar": true,
   "skip_h1_title": false,
   "title_cell": "Table of Contents",
   "title_sidebar": "Contents",
   "toc_cell": false,
   "toc_position": {},
   "toc_section_display": true,
   "toc_window_display": false
  }
 },
 "nbformat": 4,
 "nbformat_minor": 2
}

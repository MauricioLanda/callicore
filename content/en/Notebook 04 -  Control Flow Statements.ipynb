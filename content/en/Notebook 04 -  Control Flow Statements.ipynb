{
 "cells": [
  {
   "cell_type": "markdown",
   "metadata": {},
   "source": [
    "# Repetition and Conditional Commands"
   ]
  },
  {
   "cell_type": "markdown",
   "metadata": {},
   "source": [
    "Some structures can be very useful when we automate tasks to solve computational problems, such as repetition and conditional blocks."
   ]
  },
  {
   "cell_type": "markdown",
   "metadata": {},
   "source": [
    "## Repetition: `for`\n",
    "\n",
    "Sometimes, we might wish to repeat the same operation a number of times. For example, in our activities we may wish to print several values in sequence, to watch the changes in some function or variable. \n",
    "\n",
    "For this, we need 2 ingredients:\n",
    "- An action to be repeated;\n",
    "- The number of times we wish the action to be repeated.\n",
    "\n",
    "The action to be repeated often depends on some parameter that varies as the repetitions happen. For example, suppose we want to print all the elements in a list."
   ]
  },
  {
   "cell_type": "code",
   "execution_count": 1,
   "metadata": {},
   "outputs": [],
   "source": [
    "# Define a list here:\n",
    "list = [1,3,6,9,12,15,18,21,24,27,30]"
   ]
  },
  {
   "cell_type": "code",
   "execution_count": 2,
   "metadata": {},
   "outputs": [
    {
     "name": "stdout",
     "output_type": "stream",
     "text": [
      "Number 1\n",
      "Number 3\n",
      "Number 6\n",
      "Number 9\n",
      "Number 12\n",
      "Number 15\n",
      "Number 18\n",
      "Number 21\n",
      "Number 24\n",
      "Number 27\n",
      "Number 30\n",
      "Finished.\n"
     ]
    }
   ],
   "source": [
    "for item in list: \n",
    "    # Indentation\n",
    "    print(\"Number \"+str(item))\n",
    "print(\"Finished.\")"
   ]
  },
  {
   "cell_type": "markdown",
   "metadata": {},
   "source": [
    "We can observe several things in the cell above.\n",
    "- The syntax `for item in list` can be naturally read: all commands below this line will be executed once for every `item` in the `list`.\n",
    "- The repetition structure defined by the keyword `for` is a **block** structure, which means that Python expects all actions to be repeated to be **indented**, that is, that they start with an offset to the right with respect to the `for` line. This is mandatory, and the indentation must be consistent (that is, be of the same size) whenever a block appears. The most usual indentation is one press of the Tab key.\n",
    "- The `item` variable is updated automatically; this means that every time all the lines inside the block are executed, its value increases by 1, until the list is consumed.\n",
    "- The last line of the previous cell, containing the command `print(\"Finished\")` gets executed only once, exactly because it is not indented; thus, Python understands this line is outside the `for` block and is not a part of the repeated commands. Watch:"
   ]
  },
  {
   "cell_type": "code",
   "execution_count": 3,
   "metadata": {},
   "outputs": [
    {
     "name": "stdout",
     "output_type": "stream",
     "text": [
      "Number 1\n",
      "again!\n",
      "Number 3\n",
      "again!\n",
      "Number 6\n",
      "again!\n",
      "Number 9\n",
      "again!\n",
      "Number 12\n",
      "again!\n",
      "Number 15\n",
      "again!\n",
      "Number 18\n",
      "again!\n",
      "Number 21\n",
      "again!\n",
      "Number 24\n",
      "again!\n",
      "Number 27\n",
      "again!\n",
      "Number 30\n",
      "again!\n"
     ]
    }
   ],
   "source": [
    "for item in list: \n",
    "    # Indentation\n",
    "    print(\"Number \"+str(item))\n",
    "    print(\"again!\")"
   ]
  },
  {
   "cell_type": "markdown",
   "metadata": {},
   "source": [
    "To execute a repetition block (also called a **loop**) without a previously defined list, we can use a few different commands. For example, `range(n)` generates a list from 0 to `n-1`:"
   ]
  },
  {
   "cell_type": "code",
   "execution_count": 4,
   "metadata": {},
   "outputs": [
    {
     "name": "stdout",
     "output_type": "stream",
     "text": [
      "0\n",
      "1\n",
      "2\n",
      "3\n",
      "4\n",
      "5\n",
      "6\n",
      "7\n",
      "8\n",
      "9\n"
     ]
    }
   ],
   "source": [
    "# Choose n\n",
    "n = 10\n",
    "for item in range(n):\n",
    "    print(item)"
   ]
  },
  {
   "cell_type": "markdown",
   "metadata": {},
   "source": [
    "Note that this behavior is similar to what we observed when we talked about slicing lists and strings: since all indices start at 0, `range(n)` gives us `n` elements (from 0 to `n-1`)."
   ]
  },
  {
   "cell_type": "markdown",
   "metadata": {},
   "source": [
    "## Conditionals: `if`\n",
    "\n",
    "Now, if we wish to execute some action only if a certain logical condition is satisfied, we use the `if` structure: \"if some condition is true, execute the first block of commands; else, execute the second.\"."
   ]
  },
  {
   "cell_type": "code",
   "execution_count": 5,
   "metadata": {},
   "outputs": [
    {
     "name": "stdout",
     "output_type": "stream",
     "text": [
      "This is false.\n"
     ]
    }
   ],
   "source": [
    "# Change the variable word and see what happens.\n",
    "word = \"yes\"\n",
    "if word == \"yes!\":\n",
    "    print(\"This is true.\")\n",
    "else:\n",
    "    print(\"This is false.\")"
   ]
  },
  {
   "cell_type": "markdown",
   "metadata": {},
   "source": [
    "Note also that we need indentation here too."
   ]
  },
  {
   "cell_type": "markdown",
   "metadata": {},
   "source": [
    "We used `==` in the above expression because on Python there is a difference between an assignment (assigning a value to a variable) and a comparison (test whether two variables are equal, for example). The `if` does the latter.\n",
    "\n",
    "Watch:"
   ]
  },
  {
   "cell_type": "code",
   "execution_count": 6,
   "metadata": {},
   "outputs": [],
   "source": [
    "a = 1"
   ]
  },
  {
   "cell_type": "code",
   "execution_count": 7,
   "metadata": {},
   "outputs": [
    {
     "data": {
      "text/plain": [
       "True"
      ]
     },
     "execution_count": 7,
     "metadata": {},
     "output_type": "execute_result"
    }
   ],
   "source": [
    "a == 1"
   ]
  },
  {
   "cell_type": "code",
   "execution_count": 8,
   "metadata": {},
   "outputs": [
    {
     "data": {
      "text/plain": [
       "False"
      ]
     },
     "execution_count": 8,
     "metadata": {},
     "output_type": "execute_result"
    }
   ],
   "source": [
    "a == 2"
   ]
  },
  {
   "cell_type": "markdown",
   "metadata": {},
   "source": [
    "The symbol for \"not equal\" is `!=`:"
   ]
  },
  {
   "cell_type": "code",
   "execution_count": 9,
   "metadata": {},
   "outputs": [
    {
     "data": {
      "text/plain": [
       "True"
      ]
     },
     "execution_count": 9,
     "metadata": {},
     "output_type": "execute_result"
    }
   ],
   "source": [
    "a != -1"
   ]
  },
  {
   "cell_type": "markdown",
   "metadata": {},
   "source": [
    "Other logical conditions (for which there is a `True` or `False` response) can also be included."
   ]
  },
  {
   "cell_type": "code",
   "execution_count": 10,
   "metadata": {},
   "outputs": [
    {
     "data": {
      "text/plain": [
       "False"
      ]
     },
     "execution_count": 10,
     "metadata": {},
     "output_type": "execute_result"
    }
   ],
   "source": [
    "2 > 3"
   ]
  },
  {
   "cell_type": "code",
   "execution_count": 11,
   "metadata": {},
   "outputs": [
    {
     "data": {
      "text/plain": [
       "True"
      ]
     },
     "execution_count": 11,
     "metadata": {},
     "output_type": "execute_result"
    }
   ],
   "source": [
    "5 <= 5"
   ]
  },
  {
   "cell_type": "code",
   "execution_count": 12,
   "metadata": {},
   "outputs": [
    {
     "data": {
      "text/plain": [
       "True"
      ]
     },
     "execution_count": 12,
     "metadata": {},
     "output_type": "execute_result"
    }
   ],
   "source": [
    "3 in [1,2,3]"
   ]
  },
  {
   "cell_type": "code",
   "execution_count": 13,
   "metadata": {},
   "outputs": [
    {
     "data": {
      "text/plain": [
       "False"
      ]
     },
     "execution_count": 13,
     "metadata": {},
     "output_type": "execute_result"
    }
   ],
   "source": [
    "3 not in [1,2,3]"
   ]
  },
  {
   "cell_type": "code",
   "execution_count": 15,
   "metadata": {},
   "outputs": [
    {
     "data": {
      "text/plain": [
       "True"
      ]
     },
     "execution_count": 15,
     "metadata": {},
     "output_type": "execute_result"
    }
   ],
   "source": [
    "'a' in 'Day'"
   ]
  },
  {
   "cell_type": "markdown",
   "metadata": {},
   "source": [
    "We can also test more than one logical condition at a time. We can use the following keywords:\n",
    "- `or`: `A or B` will have a value of `True` whenever either `A` or `B` are true (or both)\n",
    "- `and`: `A and B` will have a value of `True` whenever both `A` and `B` are true *at the same time*."
   ]
  },
  {
   "cell_type": "code",
   "execution_count": 16,
   "metadata": {},
   "outputs": [
    {
     "name": "stdout",
     "output_type": "stream",
     "text": [
      "Let's print!\n"
     ]
    }
   ],
   "source": [
    "print_stuff = \"yes\"  # change the values for print_stuff and \n",
    "paper = \"yes\"        # paper and watch what happens\n",
    "if print_stuff == \"yes\" and paper == \"yes\":\n",
    "    print(\"Let's print!\")\n",
    "else:\n",
    "    print(\"Won't print.\")"
   ]
  },
  {
   "cell_type": "code",
   "execution_count": 17,
   "metadata": {},
   "outputs": [
    {
     "name": "stdout",
     "output_type": "stream",
     "text": [
      "Let's print!\n"
     ]
    }
   ],
   "source": [
    "print_stuff = \"yes\"  # change the values for print_stuff an\n",
    "paper = \"yes\"        # paper and watch what happens\n",
    "if print_stuff == \"yes\" or paper == \"yes\":\n",
    "    print(\"Let's print!\")\n",
    "else:\n",
    "    print(\"Won't print.\")"
   ]
  },
  {
   "cell_type": "code",
   "execution_count": null,
   "metadata": {},
   "outputs": [],
   "source": []
  }
 ],
 "metadata": {
  "kernelspec": {
   "display_name": "Python 3",
   "language": "python",
   "name": "python3"
  },
  "language_info": {
   "codemirror_mode": {
    "name": "ipython",
    "version": 3
   },
   "file_extension": ".py",
   "mimetype": "text/x-python",
   "name": "python",
   "nbconvert_exporter": "python",
   "pygments_lexer": "ipython3",
   "version": "3.6.8"
  },
  "latex_envs": {
   "LaTeX_envs_menu_present": true,
   "autoclose": false,
   "autocomplete": true,
   "bibliofile": "biblio.bib",
   "cite_by": "apalike",
   "current_citInitial": 1,
   "eqLabelWithNumbers": true,
   "eqNumInitial": 1,
   "hotkeys": {
    "equation": "Ctrl-E",
    "itemize": "Ctrl-I"
   },
   "labels_anchors": false,
   "latex_user_defs": false,
   "report_style_numbering": false,
   "user_envs_cfg": false
  },
  "toc": {
   "base_numbering": 1,
   "nav_menu": {},
   "number_sections": true,
   "sideBar": true,
   "skip_h1_title": false,
   "title_cell": "Table of Contents",
   "title_sidebar": "Contents",
   "toc_cell": false,
   "toc_position": {},
   "toc_section_display": true,
   "toc_window_display": false
  }
 },
 "nbformat": 4,
 "nbformat_minor": 2
}

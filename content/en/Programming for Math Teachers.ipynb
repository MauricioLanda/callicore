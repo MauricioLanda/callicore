{
 "cells": [
  {
   "cell_type": "markdown",
   "metadata": {},
   "source": [
    "# Abstract"
   ]
  },
  {
   "cell_type": "markdown",
   "metadata": {},
   "source": [
    "Math teachers often get stuck in the traditional chalk-and-blackboard method, especially in underprivileged schools where access to programming tools and courses are not readily available. Here, we present a proposal for an open course on Python tools especially aimed at teachers who are working with high-school level math and would like to add new tools to their classroom. This includes finding an easy way to use graph and visualization libraries, and some basic programming that can be used to teach and illustrate math concepts and create experiments to enrich the classroom experience for students. We include a discussion of Jupyter notebooks and their advantages and disadvantages, and some experience of teaching math majors at the Federal University of Santa Catarina in Brazil, where we have identified the main skills and tools that can be useful for classroom use and also for motivation for teachers and students at many levels."
   ]
  },
  {
   "cell_type": "markdown",
   "metadata": {},
   "source": [
    "# Table of Contents \n",
    "\n",
    "[Motivation](#Motivation)\n",
    "\n",
    "[Computational Thinking in the Classroom](#Computational-Thinking-in-the-Classroom)\n",
    "\n",
    "[Teachers](#Teachers)\n",
    "\n",
    "[Tools](#Tools)\n",
    "\n",
    "[How to create activities](#How-to-create-activities)\n",
    "\n",
    "[References](#References)\n",
    "\n",
    "[Additional Reading](#Additional-Reading)"
   ]
  },
  {
   "cell_type": "markdown",
   "metadata": {},
   "source": [
    "# Motivation\n",
    "\n",
    "I work at the Federal University of Santa Catarina, teaching math to future math teachers. They are undergrads who learn math and some pedagogy, and after completing the degree they are able to teach children from 11-17 years old. I ask my students these questions when we discuss the use of technologies, especially programming, apps and computational tools, to teach math:\n",
    "\n",
    "- What is our goal when we teach math to our young students?\n",
    "- Do our teaching methods achieve this goal?\n",
    "- In what kind of world do our students live? And what will it be like in the future?\n",
    "\n",
    "All of them agree that our students live in a world fused with the internet, social networks, technologies and computational tools. Technology is in constant evolution and we must adapt to new apps, operating systems and devices. However, they don't seem to know how to bridge the gap between the chalk-and-blackboard traditional teaching they received and what our students need today. In fact, we are missing a key component in this equation: who teaches the teachers? And how do we convince them to go out of their way to learn these tools, when they are overworked, underpaid and stressed out of their minds?\n",
    "\n",
    "The use of modern technologies is still rare as a teaching/learning tool in Brazilian schools, even in math, so closely linked to the development of computer science, programming languages e computational thinking. On the other hand, when people do use programming and computational exercises to teach, it is often in a misguided context. Using computational tools as a cosmetic device to engage students is not enough; we must build activities that integrate technologies into our thinking, using them as the fundamental tools of our time.\n",
    "\n",
    "It is also important to note that digital inclusion and literacy are natural consequences of this process, which is an empowering movement for students and allows them to be in control of their digital personas and data as much as possible.\n",
    "\n",
    "We discuss here some ideas for the role of tools such as Python and Jupyter Notebooks in the math classroom, and how we can best prepare our teachers to be able to create their own activities around these tools. This discussion is obviously not exhaustive; it is also not clear if these are the best tools for the job. This is our contribution for those who wish to make use of these ideas."
   ]
  },
  {
   "cell_type": "markdown",
   "metadata": {},
   "source": [
    "# Computational Thinking in the Classroom\n",
    "\n",
    "According to [[callysto]](#References), https://callysto.ca/computational-thinking-101/\n",
    "\n",
    ">Computational thinking is the ability to objectively analyze and evaluate a complex problem, develop possible solutions to the problem, then format these solutions in a way that a computer – or a human – could understand and carry out. It describes a method of investigating, acquiring, and applying knowledge through various concepts and approaches (...) Most importantly, computational thinking does not have to be intimidating or involve a computer; the fundamental problem solving skill can be easily learned through a series of interesting and engaging steps or activities.\n",
    "\n",
    "There are 4 core steps to computational thinking:\n",
    "\n",
    "1. **Decomposition.** Breaking down a complex problem, processes, data or system into smaller, more manageable parts.\n",
    "2. **Pattern recognition.** Observing trends, looking for similarities among and within problems\n",
    "3. **Abstraction.** Being able to format a general solution from a particular problem. \n",
    "4. **Algorithms.** Developing a step-by-step solution to the problem, or the rules to follow to solve the problem in a generalized way.\n",
    "\n",
    "The development of computational thinking requires not only the use of the computer as a tool, but by a reimagining of the curriculum from computational activities; as Gravina and Santarosa observe in [[4]](#References): \n",
    ">Informatics alone does not guarantee this change, and many times one can be fooled by the attractive visual of the technological resources that are offered, but which simply reinforces the same characteristics of the knowledge-transmission based school. \n",
    "\n",
    "Thus, what we propose here is to effectively include the use of computational resources in the math curriculum, not as a special curiosity or a mere tool for the verification of concepts and quick computing, but as a way of exploring, creating and discussing mathematical concepts. Instead of adding computational exercises as a complement to what is already established in the curriculum, we would rewrite the curriculum to allow for new ways of connecting with math.\n",
    "\n",
    "**It is necessary to organize activities that stimulate [active learning](https://www.pnas.org/content/111/23/8410) and that support informal exploration and reflexive investigation by students, and allows them to take control and be subjects of their own knowledge.** In order to do this, the teacher/instructor must also give up her control and be willing to be more an advisor and a facilitator of these activities. \n",
    "\n",
    "## Constructionism\n",
    "\n",
    "[Seymour Papert](https://en.wikipedia.org/wiki/Seymour_Papert) defined [constructionism](https://en.wikipedia.org/wiki/Constructionism_(learning_theory)) in [[1]](#References) as follows:\n",
    "\n",
    ">The word constructionism is a mnemonic for two aspects of the theory of science education underlying this project. From constructivist theories of psychology we take a view of learning as a reconstruction rather than as a transmission of knowledge. Then we extend the idea of manipulative materials to the idea that learning is most effective when part of an activity the learner experiences as constructing a meaningful product.\n",
    "\n",
    "In *Mindstorms* [[5]](#references), Papert describes the computer as a universal exploration machine, where children would be able to freely engage in problem solving activities and learn as they created. Unfortunately, nearly 40 years later, we are still insisting on teaching programming as an activity which is separate from daily life, disconnected from the *real* classes taking place in a regular classroom, covering frozen topics in which repetition and rote memorization is key.\n",
    "\n",
    "A fundamental difference between our proposal and existing ones (at least the ones we know of) is that we organize our content around exploratory activities with less restrictive conditions, in which both students and teachers can experiment and build, **collectively**, solutions and strategies for a range of problems, by applying the previously discussed concepts of computational thinking.\n",
    "\n",
    "## Bugs: The origin of the *Callicore* project name\n",
    "\n",
    "The [*Callicore Texa*](https://en.wikipedia.org/wiki/Callicore_texa) butterfly, which illustrates our [README file](../../README.md) and gives its name to our project, is an example of a bug present in several countries in South America, and it represents one of the fundamental ideas proposed by Papert and several other researchers in mathematical education: the ideia of learning through error. This idea, also mentioned in [[7]](#References) and other examples of modern literature on teaching programming, has an obvious application in learning and teaching math. In fact, it is extremely common for students to develop a certain anxiety around mistakes, which makes them experiment less and stops them from creating. \n",
    "\n",
    "The idea of facing *bugs* (as we call the errors resulting from an incomplete or incorrect code) as learning opportunities, and not at a proof of being incapable of solving a problem, can represent a significant change in students self-esteem and self-confidence. Besides, the opportunity of working collectively in problem resolution and developing communication skills to propose solutions to those bugs is very important in terms of the human and intellectual development or our students.\n",
    "\n",
    "On the other hand,\n",
    ">It is fundamental that students build a critical sense for the computer result, supported by the idea that the machine is not without limitations, and that its results must be understood though mathematical arguments (and not the other way around). [[2]](#References)\n",
    "\n",
    "This means that *bugs* can help us demistify computational results, which ofter are regarded as *correct by definition*, since they were computed by a machine. The attitude of not trusting the computational results and checking their compatibility with reality is a fundamental skill in a world dominated by algotithms and computational routines."
   ]
  },
  {
   "cell_type": "markdown",
   "metadata": {},
   "source": [
    "# Teachers\n",
    "\n",
    "At the same time we wish to apply all concepts and ideas proposed above, \n",
    ">We know that, in many cases, incorporating digital technology in schools is blocked by practical issues, such as the lack of material resources or political resistance by school management. However, this observation does not mean that teachers who live in this reality should ignore the possibilities offered by computational resources to enrich math teaching. It is *precisely to be empowered with counter-arguments for those obstacles that it is important to know these possibilities.*. [[2]](#References)\n",
    "\n",
    "In other words, we can't ignore that the world has changed and our schools, despite usually being conservative and not very flexible, should adapt whenever possible to the new society where students live. As an example of the disconnect between the context in which students live and what they experience in school, we can cite the difficulty that students have to disconnect from their cell phones during class. Of course we can question the current addiction we have to our cell phones, to being constantly connected; however, we can also question how can we expect our students to have an interest in an outdated school, with learning and teaching methods they might think are slowing their development. In fact, there are studies all around the world questioning the lecture model; in particular, having the student *copy* contents from a black board without much discussion, in a hyperconnected world where all information ever produced by humankind can be found on *Google* at any time, makes little sense. Besides, the notion that math is *useless* to students' daily lives has a negative impact on their engagement. If we can propose activities where they are in control, taking decisions and figuring out hypotheses and strategies, they might feel like a part of the educational process. \n",
    "\n",
    "We must, however, admit that there is little support for teachers who wish to bring these technologies to their classrooms. In general there are several reasons for a teacher not to apply these ideas, even if they are familiar with them. Some of those reasons are:\n",
    "\n",
    "- **New assessment strategies**\n",
    "\n",
    "    In order to apply these ideas properly in the classroom, it is necessary to imagine new assessment strategies. In a constructivist educational concept, we could imagine individual evaluations by observing the student's development as the projects are completed. However, this is not an option in many traditional schools, where the number of students per class is prohibitive. Some ideas can be found in [[Resnick]](http://scratched.gse.harvard.edu/ct/files/AERA2012.pdf) but there's currently no easy answer for this.\n",
    "    \n",
    "    \n",
    "- **Teachers' insecurity with tools**\n",
    "\n",
    "    Just like most students, teachers are also afraid to make mistakes. In the traditional school, there is a hierarchical model of student-teacher relationship, which gets in the way of a cooperative strategy to find solutions; students often expect to get an answer from the teacher (right or wrong) and the teacher is expected to know the answer to all the students' questions. When we consider exploratory and creative activities, there are no more right or wrong answers; it is very likely that students will reach problems for which the teachers don't have an answer. This should be faced as a natural part of solving problems together, since it is this kind of situation that we face in our lives everyday. \n",
    "    \n",
    "\n",
    "- **How much time can we \"spend\" to learn a new tool for our work?**\n",
    "\n",
    "    Teachers are often overworked and have little time to dedicate to learning a new tool. That's why we understand that, although the ideal way of working would be through workshops and in-person classes, having this free online material can help us reach a larger and more diverse audience, without interfering too much in their current routines. Likewise, it is necessary that we have some support for these teachers interested in these tools and activities as they apply it, and so the model of software community becomes more interesting than a centralized model around an in-person workshop.\n",
    "    \n",
    "Based on these observations, our goal is to develop a couse material that somehow realizes these points and is useful for teachers interested in applying these activities in their classes. "
   ]
  },
  {
   "cell_type": "markdown",
   "metadata": {},
   "source": [
    "# Tools\n",
    "\n",
    ">Learning to code is really learning to code something: One doesn’t just “learn programming” (...) When we teach programming, we tend to focus on the syntax and semantics of the language. We don’t explicitly teach plans — chunks of code that do something useful. But we expect students to figure them out. We rarely teach discourse rules. The domain-specific knowledge lies in both plans and discourse rules. [[computinged]](https://computinged.wordpress.com/2019/05/20/learning-to-code-is-really-learning-to-code-something-no-one-just-learns-to-program/)\n",
    "\n",
    "In order to make the learning process more concrete, in accordance to the philosophy we are proposing, we go from activities developed with these ideas in mind and try to show teachers how to interact with the activities at two levels:\n",
    "1. Using the activities as they are, working with the idea of computational thiking and also to introduce and exercise content from their regular curriculum with students;\n",
    "2. Creating original activities, cooperating with their students or not.\n",
    "\n",
    "The concepts we consider important and which guide our choice of tools are:\n",
    "- Allowing for the *manipulation* of mathematical objects, in an exploratory and creative way\n",
    "- Having access to the information in a nonlinear way, using hypertext and connectivity to expand the limits of the classroom\n",
    "- Allowing for an asynchronous model of learning, where students have full access to the content and can explore it however they feel best\n",
    "- Flexibility in content presentation, such that they are easy to use and customize."
   ]
  },
  {
   "cell_type": "markdown",
   "metadata": {},
   "source": [
    "## Python, Notebooks and Widgets\n",
    "\n",
    "We chose Python because it is a high-level programming language with a vibrant community and which is very popular in the academic and educational setting, in addition to enabling the use of many interesting libraries for the creation of interactive and exploratory activities.\n",
    "\n",
    "Jupyter Notebook is a [Literate Programming](https://en.wikipedia.org/wiki/Literate_programming) based tool, and allows us to use interactive widgets through the `ipywidgets` library. \n",
    "\n",
    "The choice of these tools is not absolute; fortunately, these things are being constantly developed and updated and new ideas can arise any moment."
   ]
  },
  {
   "cell_type": "markdown",
   "metadata": {},
   "source": [
    "# How to create activities\n",
    "\n",
    "    Break it down into small steps\n",
    "    Chunk small steps into bigger steps\n",
    "    Add narrative and connect\n",
    "    Link out to documentation\n",
    "    Interleave easy exercises\n",
    "    Spice with challenge questions/tasks\n",
    "    Publish openly online\n",
    "\n",
    "– Lorena A. Barba\n",
    "\n",
    "From [[1]](#References):\n",
    ">\"In preparing students to apply what they have learned, striving to align what happens in the course with what they will experience in their career is important. (...) Creating opportunities for students to develop as learners stretch beyond the boundaries of any specific course where you may use notebooks. By enriching their learning experience in your course, you will help them develop valuable skill-sets and mind-sets that they will take with them into other courses and into their career.\"\n",
    "\n",
    "We would like to suggest a new way of thinking about educational activities, especially with respect to math. However, \n",
    "> Using technology alone does not guarantee that there is a change, and often one can be fooled by the attractive visuals of technological resources, even if they only reinforce the same model of knowledge transmission we have already in schools. [[2]](#References)\n",
    "\n",
    "In many of the existing materials, we have observed that *interactivity* ends up being the main focus, while *exploration* is very limited. In other words, we see many buttons and sliders, but very few opportunities for a student to explore and figure out the solutions for themselves. \n",
    "\n",
    "It is important to think also of accessibility for students who only have access to low-end devices: in most brazilian schools, for example, there is very limited access to the internet, and the only available devices for any sort of computational activity are low-end smartphones. \n",
    "\n",
    "Again, from [[1]](#References), \n",
    ">Before you begin adding Jupyter notebooks to your course, take some time to:\n",
    ">- Identify your teaching goals\n",
    ">- Understand your students\n",
    ">- Develop your content strategy\n",
    ">- Consider the context of the learning environment\n",
    "\n",
    "Here, we propose some activities that we intent to develop and add to our course.\n",
    "\n",
    "## Some ideas for activities\n",
    "\n",
    "- The simplest computational resources, such as calculators, can allow us to work with real numeric data (not just \"nice\" integers)\n",
    "- The use of programming languages or tools like spreadsheets can be a first contact with formal symbolic algebra\n",
    "- Graph makers can be tools to articulate between multiple ways of presenting a function, for example, between a formula, a table and a graph. [[2]](#References).\n",
    "- We must keep in mind that graphing a function is not just meant to validate or correct a graph that was drawn with pen and paper. However, it can be a pretext for a discussion on interpretations and for questioning decisions taken along the resolution of a problem without computer assistance. The goal should be to \"use the computer to promote solid enough math education that the student can transfer to other situations - *even without the support of the machine*.\" [[2]](#References)\n",
    "- To force the student to use the correct tools, one way is to give them problems where the solution can't be computed using tools and techniques they've seen before. \n",
    "- Testing axes, scales and different visualizations can be interesting in order to show that one must be careful when trying to interpret incomplete data from graphs. \n",
    "- Dynamic geometry environments (such as [Geogebra](https://www.geogebra.org)) can be embedded in jupyter notebooks \n",
    "- Interpretation of simple real life data: approximations, interpolations, statistics, graphs, etc\n",
    "- Optimization"
   ]
  },
  {
   "cell_type": "markdown",
   "metadata": {},
   "source": [
    "# References"
   ]
  },
  {
   "cell_type": "markdown",
   "metadata": {},
   "source": [
    "[1] Barba, L. A. et al. (2019) *Teaching and Learning with Jupyter*. Disponível em [https://jupyter4edu.github.io/jupyter-edu-book/], versão de 08/05/2019.\n",
    "\n",
    "[2] Giraldo, V., Caetano, P. and Mattos, F. (2013). *Recursos Computacionais no Ensino de Matemática*. Sociedade Brasileira de Matemática, Rio de Janeiro, RJ. ISBN 978-85-85818-67-8\n",
    "\n",
    "[4] Gravina, M. A. and Santarosa, L. M. (1998) *A Aprendizagem da Matemática em Ambientes Informatizados*. IV Congresso RIBIE, Brasília.\n",
    "\n",
    "[5] Papert, S. (1994). *A máquina das crianças: repensando a escola na era da informática*. Trad. Sandra Costa. Porto Alegre: Artes Médicas.\n",
    "\n",
    "[6] Brackmann, C. P. (2017) *Desenvolvimento do pensamento computacional através de atividades desplugadas na educação básica*. Tese de Doutorado. Programa de Pós-Graduação em Informática na Educação, Universidade Federal do Rio Grande do Sul. Disponível em [https://www.lume.ufrgs.br/handle/10183/172208].\n",
    "\n",
    "[7] Wilson, G. (2019) *Teaching Tech Together: How to create and deliver lessons that work and build a teaching community around them*. Disponível em [http://teachtogether.tech/], versão 4.0 beta / Junho 2019.\n",
    "\n",
    "[9] Sabelli, N. (2008). *Constructionism: A New Opportunity for Elementary Science Education*. DRL Division of Research on Learning in Formal and Informal Settings. pp. 193–206. Retrieved September 20, 2017."
   ]
  },
  {
   "cell_type": "markdown",
   "metadata": {},
   "source": [
    "# Additional Reading"
   ]
  },
  {
   "cell_type": "markdown",
   "metadata": {},
   "source": [
    "- Mills, G. (2019) *Perspectives on Teaching Math Modeling in High School*. Disponível em [https://sinews.siam.org/Details-Page/perspectives-on-teaching-math-modeling-in-high-school]\n",
    "- Robert Duke: Why students don't learn what we think we teach. Disponível em [[https://www.youtube.com/watch?v=ODfUcc-0YLY]]\n",
    "- Aprendendo Aprendizagem Criativa. Curso do MIT Media Lab. Disponível em [https://learn.media.mit.edu/lcl/]\n",
    "- The Computational Notebook of the Future http://blog.khinsen.net/posts/2019/02/11/the-computational-notebook-of-the-future/\n",
    "- Site [http://www.computacional.com.br/]\n",
    "- Schuman, R. (2015) *Professors Shouldn’t Teach to Younger Versions of Themselves: Too many academics focus on ideal students rather than real ones.* Disponível em [https://slate.com/human-interest/2015/10/professors-shouldnt-only-teach-to-younger-versions-of-themselves.html]"
   ]
  },
  {
   "cell_type": "code",
   "execution_count": null,
   "metadata": {},
   "outputs": [],
   "source": []
  }
 ],
 "metadata": {
  "kernelspec": {
   "display_name": "Python 3",
   "language": "python",
   "name": "python3"
  },
  "language_info": {
   "codemirror_mode": {
    "name": "ipython",
    "version": 3
   },
   "file_extension": ".py",
   "mimetype": "text/x-python",
   "name": "python",
   "nbconvert_exporter": "python",
   "pygments_lexer": "ipython3",
   "version": "3.7.3"
  },
  "latex_envs": {
   "LaTeX_envs_menu_present": true,
   "autoclose": false,
   "autocomplete": true,
   "bibliofile": "biblio.bib",
   "cite_by": "apalike",
   "current_citInitial": 1,
   "eqLabelWithNumbers": true,
   "eqNumInitial": 1,
   "hotkeys": {
    "equation": "Ctrl-E",
    "itemize": "Ctrl-I"
   },
   "labels_anchors": false,
   "latex_user_defs": false,
   "report_style_numbering": false,
   "user_envs_cfg": false
  },
  "toc": {
   "base_numbering": 1,
   "nav_menu": {},
   "number_sections": true,
   "sideBar": true,
   "skip_h1_title": false,
   "title_cell": "Table of Contents",
   "title_sidebar": "Contents",
   "toc_cell": false,
   "toc_position": {},
   "toc_section_display": true,
   "toc_window_display": false
  }
 },
 "nbformat": 4,
 "nbformat_minor": 2
}

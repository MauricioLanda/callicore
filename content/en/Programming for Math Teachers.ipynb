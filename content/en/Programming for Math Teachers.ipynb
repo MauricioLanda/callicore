{
 "cells": [
  {
   "cell_type": "markdown",
   "metadata": {},
   "source": [
    "# Abstract"
   ]
  },
  {
   "cell_type": "markdown",
   "metadata": {},
   "source": [
    "Math teachers often get stuck in the traditional chalk-and-blackboard method, especially in underprivileged schools where access to programming tools and courses are not readily available. Here, we present a proposal for an open course on Python tools especially aimed at teachers who are working with high-school level math and would like to add new tools to their classroom. This includes finding an easy way to use graph and visualization libraries, and some basic programming that can be used to teach and illustrate math concepts and create experiments to enrich the classroom experience for students. We include a discussion of Jupyter notebooks and their advantages and disadvantages, and some experience of teaching math majors at the Federal University of Santa Catarina in Brazil, where we have identified the main skills and tools that can be useful for classroom use and also for motivation for teachers and students at many levels."
   ]
  },
  {
   "cell_type": "markdown",
   "metadata": {},
   "source": [
    "# Table of Contents \n",
    "\n",
    "[Motivation](#Motivation)\n",
    "\n",
    "[Computational Thinking in the Classroom](#Computational-Thinking-in-the-Classroom)\n",
    "\n",
    "[Teachers](#Teachers)\n",
    "\n",
    "[Tools](#Tools)\n",
    "\n",
    "[How to create activities](#How-to-create-activities)\n",
    "\n",
    "[References](#References)\n",
    "\n",
    "[Additional Reading](#Additional-Reading)"
   ]
  },
  {
   "cell_type": "markdown",
   "metadata": {},
   "source": [
    "# Motivation\n",
    "\n",
    "I work at the Federal University of Santa Catarina, teaching math to future math teachers. They are undergrads who learn math and some pedagogy, and after completing the degree they are able to teach children from 11-17 years old. I ask my students these questions when we discuss the use of technologies, especially programming, apps and computational tools, to teach math:\n",
    "\n",
    "- What is our goal when we teach math to our young students?\n",
    "- Do our teaching methods achieve this goal?\n",
    "- In what kind of world do our students live? And what will it be like in the future?\n",
    "\n",
    "All of them agree that our students live in a world fused with the internet, social networks, technologies and computational tools. Technology is in constant evolution and we must adapt to new apps, operating systems and devices. However, they don't seem to know how to bridge the gap between the chalk-and-blackboard traditional teaching they received and what our students need today. In fact, we are missing a key component in this equation: who teaches the teachers? And how do we convince them to go out of their way to learn these tools, when they are overworked, underpaid and stressed out of their minds?\n",
    "\n",
    "The use of modern technologies is still rare as a teaching/learning tool in Brazilian schools, even in math, so closely linked to the development of computer science, programming languages e computational thinking. On the other hand, when people do use programming and computational exercises to teach, it is often in a misguided context. Using computational tools as a cosmetic device to engage students is not enough; we must build activities that integrate technologies into our thinking, using them as the fundamental tools of our time.\n",
    "\n",
    "It is also important to note that digital inclusion and literacy are natural consequences of this process, which is an empowering movement for students and allows them to be in control of their digital personas and data as much as possible.\n",
    "\n",
    "We discuss here some ideas for the role of tools such as Python and Jupyter Notebooks in the math classroom, and how we can best prepare our teachers to be able to create their own activities around these tools. This discussion is obviously not exhaustive; it is also not clear if these are the best tools for the job. This is our contribution for those who wish to make use of these ideas."
   ]
  },
  {
   "cell_type": "markdown",
   "metadata": {},
   "source": [
    "# Computational Thinking in the Classroom\n",
    "\n",
    "According to [[callysto]](#References), https://callysto.ca/computational-thinking-101/\n",
    "\n",
    ">Computational thinking is the ability to objectively analyze and evaluate a complex problem, develop possible solutions to the problem, then format these solutions in a way that a computer – or a human – could understand and carry out. It describes a method of investigating, acquiring, and applying knowledge through various concepts and approaches (...) Most importantly, computational thinking does not have to be intimidating or involve a computer; the fundamental problem solving skill can be easily learned through a series of interesting and engaging steps or activities.\n",
    "\n",
    "There are 4 core steps to computational thinking:\n",
    "\n",
    "1. **Decomposition.** Breaking down a complex problem, processes, data or system into smaller, more manageable parts.\n",
    "2. **Pattern recognition.** Observing trends, looking for similarities among and within problems\n",
    "3. **Abstraction.** Being able to format a general solution from a particular problem. \n",
    "4. **Algorithms.** Developing a step-by-step solution to the problem, or the rules to follow to solve the problem in a generalized way.\n",
    "\n",
    "The development of computational thinking requires not only the use of the computer as a tool, but by a reimagining of the curriculum from computational activities; as Gravina and Santarosa observe in [[4]](#References): \n",
    ">Informatics alone does not guarantee this change, and many times one can be fooled by the attractive visual of the technological resources that are offered, but which simply reinforces the same characteristics of the knowledge-transmission based school. \n",
    "\n",
    "Thus, what we propose here is to effectively include the use of computational resources in the math curriculum, not as a special curiosity or a mere tool for the verification of concepts and quick computing, but as a way of exploring, creating and discussing mathematical concepts. Instead of adding computational exercises as a complement to what is already established in the curriculum, we would rewrite the curriculum to allow for new ways of connecting with math.\n",
    "\n",
    "**It is necessary to organize activities that stimulate [active learning](https://www.pnas.org/content/111/23/8410) and that support informal exploration and reflexive investigation by students, and allows them to take control and be subjects of their own knowledge.** In order to do this, the teacher/instructor must also give up her control and be willing to be more an advisor and a facilitator of these activities. \n",
    "\n",
    "## Constructionism\n",
    "\n",
    "[Seymour Papert](https://en.wikipedia.org/wiki/Seymour_Papert) defined [constructionism](https://en.wikipedia.org/wiki/Constructionism_(learning_theory)) in [[1]](#References) as follows:\n",
    "\n",
    ">The word constructionism is a mnemonic for two aspects of the theory of science education underlying this project. From constructivist theories of psychology we take a view of learning as a reconstruction rather than as a transmission of knowledge. Then we extend the idea of manipulative materials to the idea that learning is most effective when part of an activity the learner experiences as constructing a meaningful product.\n",
    "\n",
    "In *Mindstorms* [[5]](#references), Papert describes the computer as a universal exploration machine, where children would be able to freely engage in problem solving activities and learn as they created. Unfortunately, nearly 40 years later, we are still insisting on teaching programming as an activity which is separate from daily life, disconnected from the *real* classes taking place in a regular classroom, covering frozen topics in which repetition and rote memorization is key.\n",
    "\n",
    "A fundamental difference between our proposal and existing ones (at least the ones we know of) is that we organize our content around exploratory activities with less restrictive conditions, in which both students and teachers can experiment and build, **collectively**, solutions and strategies for a range of problems, by applying the previously discussed concepts of computational thinking.\n",
    "\n",
    "## Bugs: The origin of the *Callicore* project name\n",
    "\n",
    "The [*Callicore Texa*](https://en.wikipedia.org/wiki/Callicore_texa) butterfly, which illustrates our [README file](../../README.md) and gives its name to our project, is an example of a bug presente em vários países da América do Sul, e que representa uma das ideias fundamentais propostas por Papert e por vários outros pesquisadores da área da educação matemática: a ideia de aprendizagem através do erro. Esta ideia, também mencionada com bastante ênfase em [[7]](#Referências) e outros exemplos de literatura moderna sobre ensino de programação, tem uma óbvia aplicação no ensino-aprendizagem da matemática. De fato, é extremamente comum os alunos desenvolverem uma certa ansiedade com o erro, o que os faz experimentar menos e criar pouquíssimo.\n",
    "\n",
    "A ideia de se encarar *bugs* (como chamamos os erros resultantes de um código incompleto ou incorreto em programação) como oportunidades de aprendizado, e não como atestados de incapacidade, pode representar uma mudança significativa na autoestima e na autoconfiança do estudante. Além disso, a oportunidade de trabalhar coletivamente na resolução de problemas e de desenvolver habilidades de comunicação e de argumentação para propor soluções para esses bugs não é negligenciável em termos de desenvolvimento humano e intelectual dos estudantes. \n",
    "\n",
    "Por outro lado, \n",
    ">É fundamental que os alunos construam um senso crítico para o resultado do computador, sustentado pela consciência de que a máquina não é isenta de limitações, e de que seus resultados devem ser entendidos à luz de argumentos matemáticos (e não ao contrário). [[2]](#Referências)\n",
    "\n",
    "Isto quer dizer que os *bugs* podem nos ajudar a desmistificar os resultados computacionais, que muitas vezes são encarados como *corretos por definição*, já que foram calculados pela máquina. O reflexo de desconfiar dos resultados computacionais e verificar sua compatibilidade com a realidade é uma habilidade primordial num mundo dominado por algoritmos e ditado por rotinas computacionais nas mais diversas esferas."
   ]
  },
  {
   "cell_type": "markdown",
   "metadata": {},
   "source": [
    "# Teachers\n",
    "\n",
    "Ao mesmo tempo em que desejamos aplicar todos os conceitos e ideias acima expostos,\n",
    ">Sabemos que, em muitos casos, a incorporação de tecnologias digitais na escola esbarra em barreiras de ordem prática, tais como carência de recursos materiais, ou resistências políticas por parte das direções escolares. Entretanto, esta constatação não implica que os professores que vivenciam essas realidades em suas práticas devam ignorar as possibilidades oferecidas pelos recursos computacionais para o enriquecimento do ensino de Matemática. Ao contrário, *justamente para se munir de contra-argumentos para tais obstáculos, é importante conhecer essas possibilidades*. [[2]](#Referências)\n",
    "\n",
    "Em outras palavras, não podemos ignorar que o mundo mudou e a escola, apesar de conservadora e rígida, deve se adaptar sempre que possível à nova sociedade em que os alunos se encontram. Como exemplo de descompasso entre o contexto dos alunos e a experiência da escola, citamos a dificuldade dos alunos em se desconectarem do celular para as aulas tradicionais. É claro que existe um questionamento a ser feito sobre a dependência atual das pessoas à conexão constante, à presença nas redes sociais e às conversas em aplicativos de troca de mensagem. No entanto, também cabe questionarmos até que ponto podemos esperar que os estudantes, vivendo no mundo atual, se interessem por uma escola ultrapassada, com métodos que parecem desejar freiar o desenvolvimento das suas ideias. De fato, existem vários questionamentos ao modelo de aula-palestra em estudos educacionais por todo o mundo; em particular, o modelo em que o aluno *copia* conteúdo do quadro negro para seu caderno, em um mundo hiperconectado em que toda a informação já produzida pela humanidade pode ser encontrada no *Google* a qualquer momento, não faz sentido. Além disso, a noção de que a matemática é *inútil* para a vida cotidiana dos alunos traz um impacto negativo no engajamento desses alunos. Se pudermos propor atividades em que eles estejam no controle, tomando decisões e elaborando hipóteses e estratégias, eles se sentirão parte integrante do processo educativo.\n",
    "\n",
    "No entanto, é necessário admitir que não existe um suporte ao professor que deseja inovar em suas aulas. De fato, em geral existem vários motivos para que um professor não possa se dedicar a estas novas ideias. Em particular, listamos os seguintes:\n",
    "\n",
    "- **Novas formas de avaliação**\n",
    "\n",
    "    Para que estas ideias sejam aplicadas propriamente em sala de aula, é necessário imaginar novas formas de avaliação. Dentro do conceito construtivista de educação, poderíamos falar em avaliação individual, em observar o desenvolvimento integral do aluno à medida que os projetos vão sendo avaliados. No entanto, isso não é viável nas escolas tradicionais, em que o número de alunos por turma torna esse tipo de avaliação impossível. Algumas ideias podem ser encontradas em [[Resnick]](http://scratched.gse.harvard.edu/ct/files/AERA2012.pdf).\n",
    "    \n",
    "    \n",
    "- **Insegurança dos professores em relação às ferramentas**\n",
    "\n",
    "    Assim como os estudantes, os professores também sofrem do medo de cometer erros. Dentro da estrutura tradicional de ensino, o modelo hierárquico de relação entre professor e aluno dificulta a construção coletiva de soluções; o aluno espera receber do professor uma resposta (certo ou errado) e o professor espera saber responder todas as perguntas dos alunos. A partir do momento em que consideramos atividades exploratórias e criativas, não existem mais respostas certas ou erradas; é muito provável que os alunos esbarrem em problemas para os quais os professores não tem solução. Isso precisa ser encarado com naturalidade, pois é o que acontece nas relações do mundo real entre pessoas que trabalham juntas para resolver problemas.\n",
    "    \n",
    "\n",
    "- **Qual o tempo que podemos \"gastar\" para aprender uma ferramenta nova de trabalho?**\n",
    "\n",
    "    Frequentemente, os professores de ensino fundamental e médio não tem tempo livre para investir em uma nova ferramenta de trabalho. Por isso, entendemos que apesar de o ideal ser investir em workshops e aulas presenciais, ter um material disponível online de forma gratuita e livre representa uma possibilidade de atingir um público maior e mais diverso, sem que haja necessidade de uma mudança grande na rotina de trabalho desses profissionais. Da mesma forma, é necessário que haja suporte a esses professores que tenham interesse nas ferramentas e nas atividades propostas, e por isso o modelo de comunidade de software se torna interessante, diferente de um esquema centralizado em torno de uma disciplina ou de um workshop presencial.\n",
    "    \n",
    "Com base nessas observações, nosso objetivo é desenvolver um material que contemple esses pontos de alguma forma, e que tenha sua utilidade entre professores de qualquer nível que queiram incluir atividades como as que mencionamos em suas salas de aula."
   ]
  },
  {
   "cell_type": "markdown",
   "metadata": {},
   "source": [
    "# Tools\n",
    "\n",
    ">Learning to code is really learning to code something: One doesn’t just “learn programming” (...) When we teach programming, we tend to focus on the syntax and semantics of the language. We don’t explicitly teach plans — chunks of code that do something useful. But we expect students to figure them out. We rarely teach discourse rules. The domain-specific knowledge lies in both plans and discourse rules. [[computinged]](https://computinged.wordpress.com/2019/05/20/learning-to-code-is-really-learning-to-code-something-no-one-just-learns-to-program/)\n",
    "\n",
    "Para que o processo de aprendizagem seja mais concreto, seguindo a filosofia que estamos propondo, partimos de atividades elaboradas com essas ideias em mente, e ensinamos aos professores como interagir com essas atividades em dois níveis:\n",
    "1. Utilizando as atividades para passar a ideia de pensamento computacional, e também para introduzir, fixar ou trabalhar conteúdos do currículo com seus alunos;\n",
    "2. Criar atividades originais, em cooperação com seus alunos ou não.\n",
    "\n",
    "Os conceitos que consideramos importantes e que guiam nossas escolhas de ferramentas são:\n",
    "- Permitir a *manipulação* de objetos matemáticos, de forma exploratória e criativa\n",
    "- Accesso a informação de maneira não-linear, usando hipertexto e a conectividade da web para expandir os limites da sala de aula\n",
    "- Permitir a aprendizagem assíncrona, de forma que os alunos tenham acesso total aos materiais que serão usados em sala de aula e possam explorá-los da maneira que acharem melhor\n",
    "- Flexibilidade na apresentação dos conteúdos, de modo que sejam ao mesmo tempo simples de usar e simples de customizar."
   ]
  },
  {
   "cell_type": "markdown",
   "metadata": {},
   "source": [
    "## Python"
   ]
  },
  {
   "cell_type": "markdown",
   "metadata": {},
   "source": [
    "## Jupyter Notebooks\n"
   ]
  },
  {
   "cell_type": "markdown",
   "metadata": {},
   "source": [
    "## ipywidgets"
   ]
  },
  {
   "cell_type": "markdown",
   "metadata": {},
   "source": [
    "# Como criar atividades\n",
    "\n",
    "    Break it down into small steps\n",
    "    Chunk small steps into bigger steps\n",
    "    Add narrative and connect\n",
    "    Link out to documentation\n",
    "    Interleave easy exercises\n",
    "    Spice with challenge questions/tasks\n",
    "    Publish openly online\n",
    "\n",
    "– Lorena A. Barba\n",
    "\n",
    "De [[1]](#Referências):\n",
    ">\"In preparing students to apply what they have learned, striving to align what happens in the course with what they will experience in their career is important. (...) Creating opportunities for students to develop as learners stretch beyond the boundaries of any specific course where you may use notebooks. By enriching their learning experience in your course, you will help them develop valuable skill-sets and mind-sets that they will take with them into other courses and into their career.\"\n",
    "\n",
    "Além disso,\n",
    "> A informática por si só não garante esta mudança, e muitas vezes se pode ser enganado pelo visual atrativo dos recursos tecnológicos que são oferecidos, mas os quais simplesmente reforçam as mesmas características do modelo de escola que privilegia a transmissão do conhecimento. [[2]](#Referências)\n",
    "\n",
    "Em muitos materiais disponíveis, observamos que a *interatividade* acaba sendo o foco, e a *exploração* acaba sendo limitada. Em outras palavras, vemos muitos botões e muitos *sliders*, mas poucas oportunidades dos estudantes explorarem e descobrirem a solução do problema sozinhos.\n",
    "\n",
    "É importante também pensar na acessibilidade daqueles estudantes que tem dispositivos com menos poder computacional ou menos convencionais: na maioria das salas de aula brasileiras, por exemplo, o acesso à internet é extremamente limitado, e os únicos dispositivos disponíveis para uso dos alunos são telefones celulares de baixo custo.\n",
    "\n",
    "Novamente de [[1]](#Referências), \n",
    ">Before you begin adding Jupyter notebooks to your course, take some time to:\n",
    ">- Identify your teaching goals\n",
    ">- Understand your students\n",
    ">- Develop your content strategy\n",
    ">- Consider the context of the learning environment\n",
    "\n",
    "## Algumas ideias de atividades\n",
    "\n",
    "- Os recursos computacionais mais simples, como as calculadoras, permitem ao professor a utilização de dados numéricos realistas (e não só inteiros ou \"bonitos\")\n",
    "- A utilização de linguagens de programação, ou de ferramentas como as planilhas eletrônicas, podem ser um primeiro contato com o formalismo da simbologia algébrica (sintaxe e semântica).\n",
    "- Os graficadores podem ser ferramentas para a articulações múltiplas entre diferentes formas de representação de funções, por exemplo, entre a Tabela, a Fórmula e o Gráfico [[2]](#Referências).\n",
    "- Graficar uma função em um software não necessariamente tem o papel de verificar ou corrigir um gráfico feito inicialmente no papel. Porém, pode servir como pretexto para uma discussão de interpretações e para o questionamento de decisões tomadas ao longo da resolução de uma questão sem o uso do computador. O objetivo deve ser \"usar o computador para promover aprendizagem matemática sólida o suficiente para permanecer e se transferir para outras situações - *mesmo sem o apoio da máquina*.\" [[2]](#Referências)\n",
    "- Uma boa maneira de fazer com que os alunos usem as ferramentas corretas é dar problemas em que não seja possível calcular a solução usando as ferramentas e técnicas já vistas.\n",
    "- Testar eixos, escalas e visualizações diferentes pode ser interessante para explorar o cuidado que se deve ter ao observar e tentar interpretar e generalizar dados incompletos advindos de gráficos\n",
    "- Escalas logarítmicas, coordenadas polares\n",
    "- Funções em ambientes de geometria dinâmica podem ser exploradas como famílias a partir de parâmetros, o que pode facilitar o entendimento do funcionamento dessas funções\n",
    "- O gráfico de uma função é o \"lugar geométrico dos pontos do plano cartesiano cujas coordenadas verificam a lei de formação da função. Em geral, os alunos aprendem tantos procedimentos para traçar gráficos em casos particulares, que essa noção fundamental fica em segundo plano.\" [[2]](#Referências)\n",
    "- Interpretações de dados do cotidiano: aproximações, interpolações, estatísticas, operações, gráficos etc\n",
    "- Otimização"
   ]
  },
  {
   "cell_type": "markdown",
   "metadata": {},
   "source": [
    "# References"
   ]
  },
  {
   "cell_type": "markdown",
   "metadata": {},
   "source": [
    "[1] Barba, L. A. et al. (2019) *Teaching and Learning with Jupyter*. Disponível em [https://jupyter4edu.github.io/jupyter-edu-book/], versão de 08/05/2019.\n",
    "\n",
    "[2] Giraldo, V., Caetano, P. and Mattos, F. (2013). *Recursos Computacionais no Ensino de Matemática*. Sociedade Brasileira de Matemática, Rio de Janeiro, RJ. ISBN 978-85-85818-67-8\n",
    "\n",
    "[4] Gravina, M. A. and Santarosa, L. M. (1998) *A Aprendizagem da Matemática em Ambientes Informatizados*. IV Congresso RIBIE, Brasília.\n",
    "\n",
    "[5] Papert, S. (1994). *A máquina das crianças: repensando a escola na era da informática*. Trad. Sandra Costa. Porto Alegre: Artes Médicas.\n",
    "\n",
    "[6] Brackmann, C. P. (2017) *Desenvolvimento do pensamento computacional através de atividades desplugadas na educação básica*. Tese de Doutorado. Programa de Pós-Graduação em Informática na Educação, Universidade Federal do Rio Grande do Sul. Disponível em [https://www.lume.ufrgs.br/handle/10183/172208].\n",
    "\n",
    "[7] Wilson, G. (2019) *Teaching Tech Together: How to create and deliver lessons that work and build a teaching community around them*. Disponível em [http://teachtogether.tech/], versão 4.0 beta / Junho 2019.\n",
    "\n",
    "[9] Sabelli, N. (2008). *Constructionism: A New Opportunity for Elementary Science Education*. DRL Division of Research on Learning in Formal and Informal Settings. pp. 193–206. Retrieved September 20, 2017."
   ]
  },
  {
   "cell_type": "markdown",
   "metadata": {},
   "source": [
    "# Additional Reading"
   ]
  },
  {
   "cell_type": "markdown",
   "metadata": {},
   "source": [
    "- Mills, G. (2019) *Perspectives on Teaching Math Modeling in High School*. Disponível em [https://sinews.siam.org/Details-Page/perspectives-on-teaching-math-modeling-in-high-school]\n",
    "- Robert Duke: Why students don't learn what we think we teach. Disponível em [[https://www.youtube.com/watch?v=ODfUcc-0YLY]]\n",
    "- Aprendendo Aprendizagem Criativa. Curso do MIT Media Lab. Disponível em [https://learn.media.mit.edu/lcl/]\n",
    "- The Computational Notebook of the Future http://blog.khinsen.net/posts/2019/02/11/the-computational-notebook-of-the-future/\n",
    "- Site [http://www.computacional.com.br/]\n",
    "- Schuman, R. (2015) *Professors Shouldn’t Teach to Younger Versions of Themselves: Too many academics focus on ideal students rather than real ones.* Disponível em [https://slate.com/human-interest/2015/10/professors-shouldnt-only-teach-to-younger-versions-of-themselves.html]"
   ]
  },
  {
   "cell_type": "code",
   "execution_count": null,
   "metadata": {},
   "outputs": [],
   "source": []
  }
 ],
 "metadata": {
  "kernelspec": {
   "display_name": "Python 3",
   "language": "python",
   "name": "python3"
  },
  "language_info": {
   "codemirror_mode": {
    "name": "ipython",
    "version": 3
   },
   "file_extension": ".py",
   "mimetype": "text/x-python",
   "name": "python",
   "nbconvert_exporter": "python",
   "pygments_lexer": "ipython3",
   "version": "3.6.7"
  },
  "latex_envs": {
   "LaTeX_envs_menu_present": true,
   "autoclose": false,
   "autocomplete": true,
   "bibliofile": "biblio.bib",
   "cite_by": "apalike",
   "current_citInitial": 1,
   "eqLabelWithNumbers": true,
   "eqNumInitial": 1,
   "hotkeys": {
    "equation": "Ctrl-E",
    "itemize": "Ctrl-I"
   },
   "labels_anchors": false,
   "latex_user_defs": false,
   "report_style_numbering": false,
   "user_envs_cfg": false
  },
  "toc": {
   "base_numbering": 1,
   "nav_menu": {},
   "number_sections": true,
   "sideBar": true,
   "skip_h1_title": false,
   "title_cell": "Table of Contents",
   "title_sidebar": "Contents",
   "toc_cell": false,
   "toc_position": {},
   "toc_section_display": true,
   "toc_window_display": false
  }
 },
 "nbformat": 4,
 "nbformat_minor": 2
}

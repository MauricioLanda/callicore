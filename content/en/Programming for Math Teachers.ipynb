{
 "cells": [
  {
   "cell_type": "markdown",
   "metadata": {},
   "source": [
    "# Abstract"
   ]
  },
  {
   "cell_type": "markdown",
   "metadata": {},
   "source": [
    "Math teachers often get stuck in the traditional chalk-and-blackboard method, especially in underprivileged schools where access to programming tools and courses are not readily available. Here, we present a proposal for an open course on Python tools especially aimed at teachers who are working with high-school level math and would like to add new tools to their classroom. This includes finding an easy way to use graph and visualization libraries, and some basic programming that can be used to teach and illustrate math concepts and create experiments to enrich the classroom experience for students. We include a discussion of Jupyter notebooks and their advantages and disadvantages, and some experience of teaching math majors at the Federal University of Santa Catarina in Brazil, where we have identified the main skills and tools that can be useful for classroom use and also for motivation for teachers and students at many levels."
   ]
  },
  {
   "cell_type": "markdown",
   "metadata": {},
   "source": [
    "# Table of Contents \n",
    "\n",
    "[Motivation](#Motivation)\n",
    "\n",
    "[Computational Thinking in the Classroom](#Computational-Thinking-in-the-Classroom)\n",
    "\n",
    "[Teachers](#Teachers)\n",
    "\n",
    "[Tools](#Tools)\n",
    "\n",
    "[How to create activities](#How-to-create-activities)\n",
    "\n",
    "[References](#References)\n",
    "\n",
    "[Additional Reading](#Additional-Reading)"
   ]
  },
  {
   "cell_type": "markdown",
   "metadata": {},
   "source": [
    "# Motivation\n",
    "\n",
    "I work at the Federal University of Santa Catarina, teaching math to future math teachers. They are undergrads who learn math and some pedagogy, and after completing the degree they are able to teach children from 11-17 years old. I ask my students these questions when we discuss the use of technologies, especially programming, apps and computational tools, to teach math:\n",
    "\n",
    "- What is our goal when we teach math to our young students?\n",
    "- Do our teaching methods achieve this goal?\n",
    "- In what kind of world do our students live? And what will it be like in the future?\n",
    "\n",
    "All of them agree that our students live in a world fused with the internet, social networks, technologies and computational tools. Technology is in constant evolution and we must adapt to new apps, operating systems and devices. However, they don't seem to know how to bridge the gap between the chalk-and-blackboard traditional teaching they received and what our students need today. In fact, we are missing a key component in this equation: who teaches the teachers? And how do we convince them to go out of their way to learn these tools, when they are overworked, underpaid and stressed out of their minds?\n",
    "\n",
    "The use of modern technologies is still rare as a teaching/learning tool in Brazilian schools, even in math, so closely linked to the development of computer science, programming languages e computational thinking. On the other hand, when people do use programming and computational exercises to teach, it is often in a misguided context. Using computational tools as a cosmetic device to engage students is not enough; we must build activities that integrate technologies into our thinking, using them as the fundamental tools of our time.\n",
    "\n",
    "It is also important to note that digital inclusion and literacy are natural consequences of this process, which is an empowering movement for students and allows them to be in control of their digital personas and data as much as possible.\n",
    "\n",
    "We discuss here some ideas for the role of tools such as Python and Jupyter Notebooks in the math classroom, and how we can best prepare our teachers to be able to create their own activities around these tools. This discussion is obviously not exhaustive; it is also not clear if these are the best tools for the job. This is our contribution for those who wish to make use of these ideas."
   ]
  },
  {
   "cell_type": "markdown",
   "metadata": {},
   "source": [
    "# Computational Thinking in the Classroom\n",
    "\n",
    "According to [[6]](#References), \n",
    "\n",
    ">Computational thinking is the ability to objectively analyze and evaluate a complex problem, develop possible solutions to the problem, then format these solutions in a way that a computer – or a human – could understand and carry out. It describes a method of investigating, acquiring, and applying knowledge through various concepts and approaches (...) Most importantly, computational thinking does not have to be intimidating or involve a computer; the fundamental problem solving skill can be easily learned through a series of interesting and engaging steps or activities.\n",
    "\n",
    "There are 4 core steps to computational thinking:\n",
    "\n",
    "1. **Decomposition.** Breaking down a complex problem, processes, data or system into smaller, more manageable parts.\n",
    "2. **Pattern recognition.** Observing trends, looking for similarities among and within problems\n",
    "3. **Abstraction.** Being able to format a general solution from a particular problem. \n",
    "4. **Algorithms.** Developing a step-by-step solution to the problem, or the rules to follow to solve the problem in a generalized way.\n",
    "    \n",
    "Thus, what we propose here is to effectively include the use of computational resources in the math curriculum, not as a special curiosity or a mere tool for the verification of concepts and quick computing, but as a way of exploring, creating and discussing mathematical concepts. Instead of adding computational exercises as a complement to what is already established in the curriculum, we would rewrite the curriculum to allow for new ways of connecting with math.\n",
    "\n",
    "[Seymour Papert](https://en.wikipedia.org/wiki/Seymour_Papert) defined [constructionism](https://en.wikipedia.org/wiki/Constructionism_(learning_theory)) in [[1]](#References) as follows:\n",
    "\n",
    ">The word constructionism is a mnemonic for two aspects of the theory of science education underlying this project. From constructivist theories of psychology we take a view of learning as a reconstruction rather than as a transmission of knowledge. Then we extend the idea of manipulative materials to the idea that learning is most effective when part of an activity the learner experiences as constructing a meaningful product.\n",
    "\n",
    "In *Mindstorms* [[5]](#references), Papert describes the computer as a universal exploration machine, where children would be able to freely engage in problem solving activities and learn as they created. Unfortunately, nearly 40 years later, we are still insisting on teaching programming as an activity which is separate from daily life, disconnected from the *real* classes taking place in a regular classroom, covering frozen topics in which repetition and rote memorization is key.\n",
    "\n",
    "What we propose here is to effectively include the use of computational resources in the math curriculum, not as a special curiosity or a mere tool for the verification of concepts and quick computing, but as a way of exploring, creating and discussing mathematical concepts. Instead of adding computational exercises as a complement to what is already established in the curriculum, we would rewrite the curriculum to allow for new ways of connecting with math.\n",
    "\n",
    "``Sabemos que, em muitos casos, a incorporação de tecnologias digitais na escola esbarra em barreiras de ordem prática, tais como carência de recursos materiais, ou resistências políticas por parte das direções escolares. Entretanto, esta constatação não implica que os professores que vivenciam essas realidades em suas práticas devam ignorar as possibilidades oferecidas pelos recursos computacionais para o enriquecimento do ensino de Matemática. Ao contrário, \\emph{justamente para se munir de contra-argumentos para tais obstáculos, é importante conhecer essas possibilidades.}''\\cite[p.VII]{profmat2013}\n",
    "\n",
    "``É fundamental que os alunos construam um senso crítico para o resultado do computador, sustentado pela consciência de que a máquina não é isenta de limitações, e de que seus resultados devem ser entendidos à luz de argumentos matemáticos (e não ao contrário).'' [[profmat2013]]\n",
    "\n",
    "Atividades devem apontar para reflexões sobre os conceitos matemáticos, independente das tecnologias empregadas.\n",
    "\n",
    "Os recursos computacionais mais simples, como as calculadoras, permitem ao professor a utilização de dados numéricos realistas (e não só inteiros ou \"bonitos\")\n",
    "\n",
    "A utilização de linguagens de programação, ou de ferramentas como as planilhas eletrônicas, podem ser um primeiro contato com o formalismo da simbologia algébrica (sintaxe e semântica).\n",
    "\n",
    "Os graficadores podem ser ferramentas para a articulações múltiplas entre diferentes formas de representação de funções, por exemplo, entre a Tabela, a Fórmula e o Gráfico [[profmat2013]].\n",
    "\n",
    "Graficar uma função em um software não necessariamente tem o papel de verificar ou corrigir um gráfico feito inicialmente no papel. Porém, pode servir como pretexto para uma discussão de interpretações e para o questionamento de decisões tomadas ao longo da resolução de uma questão sem o uso do computador. O objetivo deve ser ``usar o computador para promover aprendizagem matemática sólida o suficiente para permanecer e se transferir para outras situações \\textemdash\\ \\emph{mesmo sem o apoio da máquina}.'' [[profmat2013]]\n",
    "\n",
    "Uma boa maneira de fazer com que os alunos usem as ferramentas corretas é dar problemas em que não seja possível calcular a solução usando as ferramentas e técnicas já vistas.\n",
    "\n",
    "Testar eixos, escalas e visualizações diferentes pode ser interessante para explorar o cuidado que se deve ter ao observar e tentar interpretar e generalizar dados incompletos advindos de gráficos\n",
    "\n",
    "Escalas logarítmicas, coordenadas polares\n",
    "\n",
    "Funções em ambientes de geometria dinâmica podem ser exploradas como famílias a partir de parâmetros, o que pode facilitar o entendimento do funcionamento dessas funções\n",
    "\n",
    "O gráfico de uma função é o \"lugar geométrico dos pontos do plano cartesiano cujas coordenadas verificam a lei de formação da função. Em geral, os alunos aprendem tantos procedimentos para traçar gráficos em casos particulares, que essa noção fundamental fica em segundo plano.\" [[profmat2013]].\n",
    "\n",
    "Devemos separar a aprendizagem da linguagem e a apresentação de assuntos em sala de aula; o professor deve saber programar, o aluno não precisa.\n",
    "\n",
    "EAD: Síncrona e assíncrona; Ambientes virtuais de aprendizagem (moodle); \n",
    "\n",
    "Acesso a informações e organização de conteúdos em hipertexto\n",
    "\n",
    "Ampliação da sala de aula e possibilidade de revisão para o aluno\n",
    "\n",
    "Interpretações de dados do cotidiano: aproximações, interpolações, estatísticas, operações, gráficos etc\n",
    "\n",
    "Otimização\n",
    "\n",
    "\n",
    "PIAGET, Jean. Aprendizagem e Conhecimento, em Piaget, P. & Gréco, P.,\n",
    "Aprendizagem e Conhecimento, Freitas Bastos, Rio de Janeiro, 1974.\n",
    "Léa da Cruz Fagundes in Nova Escola On-line , edição número 172, maio de 2004,\n",
    "“Podemos vencer a exclusão digital”.\n",
    "\n",
    "Como diz Richards\n",
    "(1991):\n",
    "“É necessário que o professor de matemática organize um trabalho estruturado através\n",
    "de atividades que propiciem o desenvolvimento de exploração informal e investigação\n",
    "reflexiva e que não privem os alunos nas suas iniciativas e controle da situação. O\n",
    "professor deve projetar desafios que estimulem o questionamento, a colocação de\n",
    "problemas e a busca de solução. Os alunos não se tornam ativos aprendizes por acaso,\n",
    "mas por desafios projetados e estruturados, que visem a exploração e investigação.” RICHARDS, J. Mathematical Discussion, em E. von Glaserfeld (ed) Radical\n",
    "construtivism in Mathematical Education. Dordrecht, The Nederlands:\n",
    "Kluwer. 1991.\n",
    "\n",
    "### Callysto's Featured Notebooks: Rich math problems https://hub.callysto.ca/jupyter/user/26d6ffe0d153ff8e843da6254ff8e47e1f14fa98/tree/callysto"
   ]
  },
  {
   "cell_type": "markdown",
   "metadata": {},
   "source": [
    "https://sinews.siam.org/Details-Page/perspectives-on-teaching-math-modeling-in-high-school\n",
    "\n",
    "Such a class would give students the opportunity to encounter messy, real-world problems that require the formulation and application of assumptions, then iterate their processes to refine results. In the spring of 2002, Hanover High School offered math modeling for the first time.\n",
    "\n",
    "Guidelines for Assessment and Instruction in Mathematical Modeling Education (GAIMME), a report written by education advocates, university professors, and K-12 teachers, defines mathematical modeling as “a process that uses mathematics to represent, analyze, make predictions, or otherwise provide insight into real-world phenomena”\n",
    "https://www.siam.org/Portals/0/Publications/Reports/GAIMME_2ED/GAIMME-2nd-ed-final-online-viewing-color.pdf?_ga=2.33142078.1017455800.1561578883-799654615.1561578883\n",
    "\n",
    "Over time, I realized that the question “When are we going to use this?” was actually about students’ frustration or anxiety with the difficulty of mathematical topics. It is easier for them to make peace with their math troubles if they convince themselves that math has no relevance to their daily lives. Modeling gives students that relevance by providing context to the mathematics in question and letting them make real, impactful decisions about a problem. They learn how to prioritize issues, make assumptions, and analyze their solutions.\n",
    "\n",
    "In my experience, one of the biggest obstacles in transitioning a conventional classroom into one that supports a modeling mindset is the resulting tension between a more traditional, textbook-dependent curriculum and the open-ended nature of modeling scenarios. This friction can create significant anxiety for teachers who genuinely want to get a taste of modeling but do not know where to begin. Introducing modeling problems also requires ceding some classroom control; students are not authentically invested in the problems if they do not possess a certain level of autonomy in the process. "
   ]
  },
  {
   "cell_type": "markdown",
   "metadata": {},
   "source": [
    "# Teachers\n",
    "\n",
    "- What is our goal when teaching programming to teachers?\n",
    "- How do we connect to overwhelmed and overworked teachers to provide them with support for a new tool?\n",
    "- How do we make it easier for them to prepare activities for their students?\n",
    "- How do we propose evaluations and assessments? (look at the material for the Carpentries instructor training workshop)\n",
    "- What is missing from our current tools in order to achieve these goals?\n",
    "- How to convince teachers to use a new tool? (Papert and the argument for active construction of knowledge, exploration and project solving)"
   ]
  },
  {
   "cell_type": "markdown",
   "metadata": {},
   "source": [
    "# Tools\n",
    "\n",
    "Learning to code is really learning to code something: One doesn’t just “learn programming” nor “learn tracing”. (...) When we teach programming, we tend to focus on the syntax and semantics of the language. We don’t explicitly teach plans — chunks of code that do something useful. But we expect students to figure them out. We rarely teach discourse rules. The domain-specific knowledge lies in both plans and discourse rules. [4]"
   ]
  },
  {
   "cell_type": "markdown",
   "metadata": {},
   "source": [
    "## Jupyter Notebooks\n",
    "\n",
    "From teching with jupyter: \"Finally, notebooks can support teaching or strengthening programming skills, by combining code with text descriptions and visualizations. Even if a notebook is designed to be consumed passively, the exposure to code helps show students how to do something—and that they can do it themselves. This also helps demystify coding for students who do not view themselves as traditional “computer science” types.\""
   ]
  },
  {
   "cell_type": "markdown",
   "metadata": {},
   "source": [
    "# Reference\n",
    "\n",
    "<mark> <b>The bib file biblio.bib was not found\n",
    "\n",
    "</b> </mark>(<a id=\"cit-profmat2013\" href=\"#call-profmat2013\">?</a>) !! _This reference was not found in biblio.bib _ !!\n",
    "\n"
   ]
  },
  {
   "cell_type": "markdown",
   "metadata": {},
   "source": [
    "# About"
   ]
  }
 ],
 "metadata": {
  "kernelspec": {
   "display_name": "Python 3",
   "language": "python",
   "name": "python3"
  },
  "language_info": {
   "codemirror_mode": {
    "name": "ipython",
    "version": 3
   },
   "file_extension": ".py",
   "mimetype": "text/x-python",
   "name": "python",
   "nbconvert_exporter": "python",
   "pygments_lexer": "ipython3",
   "version": "3.7.3"
  },
  "latex_envs": {
   "LaTeX_envs_menu_present": true,
   "autoclose": false,
   "autocomplete": true,
   "bibliofile": "biblio.bib",
   "cite_by": "apalike",
   "current_citInitial": 1,
   "eqLabelWithNumbers": true,
   "eqNumInitial": 1,
   "hotkeys": {
    "equation": "Ctrl-E",
    "itemize": "Ctrl-I"
   },
   "labels_anchors": false,
   "latex_user_defs": false,
   "report_style_numbering": false,
   "user_envs_cfg": false
  },
  "toc": {
   "base_numbering": 1,
   "nav_menu": {},
   "number_sections": true,
   "sideBar": true,
   "skip_h1_title": false,
   "title_cell": "Table of Contents",
   "title_sidebar": "Contents",
   "toc_cell": false,
   "toc_position": {},
   "toc_section_display": true,
   "toc_window_display": false
  }
 },
 "nbformat": 4,
 "nbformat_minor": 2
}

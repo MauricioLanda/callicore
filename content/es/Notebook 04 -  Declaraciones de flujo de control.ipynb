{
 "cells": [
  {
   "cell_type": "markdown",
   "metadata": {},
   "source": [
    "# Repetición y Comandos Condicionales"
   ]
  },
  {
   "cell_type": "markdown",
   "metadata": {},
   "source": [
    "Algunas estructuras pueden ser muy útiles cuando automatizamos tareas para resolver problemas computacionales, como la repetición y los bloques condicionales."
   ]
  },
  {
   "cell_type": "markdown",
   "metadata": {},
   "source": [
    "## Repetición: `for`\n",
    "\n",
    "A veces, podríamos desear repetir la misma operación varias veces. Por ejemplo, en nuestras actividades podemos desear imprimir varios valores en secuencia, para observar los cambios en alguna función o variable.\n",
    "\n",
    "Para esto, necesitamos 2 ingredientes:\n",
    "- Una acción para repetir.\n",
    "- El número de veces que deseamos que se repita la acción.\n",
    "\n",
    "La acción que se repite a menudo depende de algún parámetro que varía a medida que ocurren las repeticiones. Por ejemplo, supongamos que queremos imprimir todos los elementos en una lista."
   ]
  },
  {
   "cell_type": "code",
   "execution_count": 1,
   "metadata": {},
   "outputs": [],
   "source": [
    "# Define a list here:\n",
    "list = [1,3,6,9,12,15,18,21,24,27,30]"
   ]
  },
  {
   "cell_type": "code",
   "execution_count": 2,
   "metadata": {},
   "outputs": [
    {
     "name": "stdout",
     "output_type": "stream",
     "text": [
      "Number 1\n",
      "Number 3\n",
      "Number 6\n",
      "Number 9\n",
      "Number 12\n",
      "Number 15\n",
      "Number 18\n",
      "Number 21\n",
      "Number 24\n",
      "Number 27\n",
      "Number 30\n",
      "Finished.\n"
     ]
    }
   ],
   "source": [
    "for item in list: \n",
    "    # Indentation\n",
    "    print(\"Number \"+str(item))\n",
    "print(\"Finished.\")"
   ]
  },
  {
   "cell_type": "markdown",
   "metadata": {},
   "source": [
    "Podemos observar varias cosas en la celda de arriba.\n",
    "- La sintaxis `para ítem en lista` puede leerse naturalmente: todos los comandos debajo de esta línea se ejecutarán una vez por cada`ítem` en la `lista`.\n",
    "- La estructura de repetición definida por la palabra clave `for` es una estructura **de bloque**, lo que significa que Python espera que todas las acciones se repitan **con sangría**, es decir, que comiencen con un desplazamiento a la derecha con respecto a la línea `for`. Esto es obligatorio, y la sangría debe ser consistente (es decir, debe ser del mismo tamaño) cada vez que aparece un bloque. La sangría más usual es presionar una vez la tecla Tab.\n",
    "- La variable `item` se actualiza automáticamente; esto significa que cada vez que se ejecutan todas las líneas dentro del bloque, su valor aumenta en 1, hasta que se consume la lista.\n",
    "- La última línea de la celda anterior, que contiene el comando `print (\" Finished \")`, se ejecuta solo una vez, exactamente porque no está sangrada; por lo tanto, Python entiende que esta línea está fuera del bloque `for` y no es parte de los comandos repetidos. \n",
    "Observa:"
   ]
  },
  {
   "cell_type": "code",
   "execution_count": 3,
   "metadata": {},
   "outputs": [
    {
     "name": "stdout",
     "output_type": "stream",
     "text": [
      "Number 1\n",
      "again!\n",
      "Number 3\n",
      "again!\n",
      "Number 6\n",
      "again!\n",
      "Number 9\n",
      "again!\n",
      "Number 12\n",
      "again!\n",
      "Number 15\n",
      "again!\n",
      "Number 18\n",
      "again!\n",
      "Number 21\n",
      "again!\n",
      "Number 24\n",
      "again!\n",
      "Number 27\n",
      "again!\n",
      "Number 30\n",
      "again!\n"
     ]
    }
   ],
   "source": [
    "for item in list: \n",
    "    # Indentation\n",
    "    print(\"Number \"+str(item))\n",
    "    print(\"again!\")"
   ]
  },
  {
   "cell_type": "markdown",
   "metadata": {},
   "source": [
    "Para ejecutar un bloque de repetición (también llamado **bucle**) sin una lista definida previamente, podemos usar algunos comandos diferentes. Por ejemplo, `range (n)` genera una lista de 0 a `n-1`:"
   ]
  },
  {
   "cell_type": "code",
   "execution_count": 4,
   "metadata": {},
   "outputs": [
    {
     "name": "stdout",
     "output_type": "stream",
     "text": [
      "0\n",
      "1\n",
      "2\n",
      "3\n",
      "4\n",
      "5\n",
      "6\n",
      "7\n",
      "8\n",
      "9\n"
     ]
    }
   ],
   "source": [
    "# Choose n\n",
    "n = 10\n",
    "for item in range(n):\n",
    "    print(item)"
   ]
  },
  {
   "cell_type": "markdown",
   "metadata": {},
   "source": [
    "Tenga en cuenta que este comportamiento es similar al que observamos cuando hablamos de separar listas y cadenas: dado que todos los índices comienzan en 0, `range (n)` nos da los elementos `n` (de 0 a` n-1`)."
   ]
  },
  {
   "cell_type": "markdown",
   "metadata": {},
   "source": [
    "## Condicionales: `if`\n",
    "\n",
    "Ahora, si deseamos ejecutar alguna acción solo si se cumple una determinada condición lógica, usamos la estructura `if`:\"si alguna condición es verdadera, ejecute el primer bloque de comandos; de lo contrario, ejecute el segundo\"."
   ]
  },
  {
   "cell_type": "code",
   "execution_count": 5,
   "metadata": {},
   "outputs": [
    {
     "name": "stdout",
     "output_type": "stream",
     "text": [
      "This is false.\n"
     ]
    }
   ],
   "source": [
    "# Change the variable word and see what happens.\n",
    "word = \"yes\"\n",
    "if word == \"yes!\":\n",
    "    print(\"This is true.\")\n",
    "else:\n",
    "    print(\"This is false.\")"
   ]
  },
  {
   "cell_type": "markdown",
   "metadata": {},
   "source": [
    "Tenga en cuenta también que necesitamos sangría aquí también."
   ]
  },
  {
   "cell_type": "markdown",
   "metadata": {},
   "source": [
    "Usamos `==` en la expresión anterior porque en Python hay una diferencia entre una asignación (asignando un valor a una variable) y una comparación (por ejemplo, compruebe si dos variables son iguales). El 'si' hace lo segundo.\n",
    "\n",
    "Observa:"
   ]
  },
  {
   "cell_type": "code",
   "execution_count": 6,
   "metadata": {},
   "outputs": [],
   "source": [
    "a = 1"
   ]
  },
  {
   "cell_type": "code",
   "execution_count": 7,
   "metadata": {},
   "outputs": [
    {
     "data": {
      "text/plain": [
       "True"
      ]
     },
     "execution_count": 7,
     "metadata": {},
     "output_type": "execute_result"
    }
   ],
   "source": [
    "a == 1"
   ]
  },
  {
   "cell_type": "code",
   "execution_count": 8,
   "metadata": {},
   "outputs": [
    {
     "data": {
      "text/plain": [
       "False"
      ]
     },
     "execution_count": 8,
     "metadata": {},
     "output_type": "execute_result"
    }
   ],
   "source": [
    "a == 2"
   ]
  },
  {
   "cell_type": "markdown",
   "metadata": {},
   "source": [
    "El símbolo para \"no es igual\" es `! =`:"
   ]
  },
  {
   "cell_type": "code",
   "execution_count": 9,
   "metadata": {},
   "outputs": [
    {
     "data": {
      "text/plain": [
       "True"
      ]
     },
     "execution_count": 9,
     "metadata": {},
     "output_type": "execute_result"
    }
   ],
   "source": [
    "a != -1"
   ]
  },
  {
   "cell_type": "markdown",
   "metadata": {},
   "source": [
    "También se pueden incluir otras condiciones lógicas (para las cuales hay una respuesta `True` o` False`)."
   ]
  },
  {
   "cell_type": "code",
   "execution_count": 10,
   "metadata": {},
   "outputs": [
    {
     "data": {
      "text/plain": [
       "False"
      ]
     },
     "execution_count": 10,
     "metadata": {},
     "output_type": "execute_result"
    }
   ],
   "source": [
    "2 > 3"
   ]
  },
  {
   "cell_type": "code",
   "execution_count": 11,
   "metadata": {},
   "outputs": [
    {
     "data": {
      "text/plain": [
       "True"
      ]
     },
     "execution_count": 11,
     "metadata": {},
     "output_type": "execute_result"
    }
   ],
   "source": [
    "5 <= 5"
   ]
  },
  {
   "cell_type": "code",
   "execution_count": 12,
   "metadata": {},
   "outputs": [
    {
     "data": {
      "text/plain": [
       "True"
      ]
     },
     "execution_count": 12,
     "metadata": {},
     "output_type": "execute_result"
    }
   ],
   "source": [
    "3 in [1,2,3]"
   ]
  },
  {
   "cell_type": "code",
   "execution_count": 13,
   "metadata": {},
   "outputs": [
    {
     "data": {
      "text/plain": [
       "False"
      ]
     },
     "execution_count": 13,
     "metadata": {},
     "output_type": "execute_result"
    }
   ],
   "source": [
    "3 not in [1,2,3]"
   ]
  },
  {
   "cell_type": "code",
   "execution_count": 15,
   "metadata": {},
   "outputs": [
    {
     "data": {
      "text/plain": [
       "True"
      ]
     },
     "execution_count": 15,
     "metadata": {},
     "output_type": "execute_result"
    }
   ],
   "source": [
    "'a' in 'Day'"
   ]
  },
  {
   "cell_type": "markdown",
   "metadata": {},
   "source": [
    "También podemos probar más de una condición lógica a la vez. Podemos utilizar las siguientes palabras clave:\n",
    "- `or`:` A o B` tendrá un valor de `True` siempre que` A` o `B` sean ciertos (o ambos)\n",
    "- `y`:` A y B` tendrán un valor de `True` siempre que tanto` A` como `B` sean verdaderos *al mismo tiempo*."
   ]
  },
  {
   "cell_type": "code",
   "execution_count": 16,
   "metadata": {},
   "outputs": [
    {
     "name": "stdout",
     "output_type": "stream",
     "text": [
      "Let's print!\n"
     ]
    }
   ],
   "source": [
    "print_stuff = \"yes\"  # change the values for print_stuff and \n",
    "paper = \"yes\"        # paper and watch what happens\n",
    "if print_stuff == \"yes\" and paper == \"yes\":\n",
    "    print(\"Let's print!\")\n",
    "else:\n",
    "    print(\"Won't print.\")"
   ]
  },
  {
   "cell_type": "code",
   "execution_count": 17,
   "metadata": {},
   "outputs": [
    {
     "name": "stdout",
     "output_type": "stream",
     "text": [
      "Let's print!\n"
     ]
    }
   ],
   "source": [
    "print_stuff = \"yes\"  # change the values for print_stuff an\n",
    "paper = \"yes\"        # paper and watch what happens\n",
    "if print_stuff == \"yes\" or paper == \"yes\":\n",
    "    print(\"Let's print!\")\n",
    "else:\n",
    "    print(\"Won't print.\")"
   ]
  },
  {
   "cell_type": "code",
   "execution_count": null,
   "metadata": {},
   "outputs": [],
   "source": []
  }
 ],
 "metadata": {
  "kernelspec": {
   "display_name": "Python 3",
   "language": "python",
   "name": "python3"
  },
  "language_info": {
   "codemirror_mode": {
    "name": "ipython",
    "version": 3
   },
   "file_extension": ".py",
   "mimetype": "text/x-python",
   "name": "python",
   "nbconvert_exporter": "python",
   "pygments_lexer": "ipython3",
   "version": "3.7.3"
  },
  "latex_envs": {
   "LaTeX_envs_menu_present": true,
   "autoclose": false,
   "autocomplete": true,
   "bibliofile": "biblio.bib",
   "cite_by": "apalike",
   "current_citInitial": 1,
   "eqLabelWithNumbers": true,
   "eqNumInitial": 1,
   "hotkeys": {
    "equation": "Ctrl-E",
    "itemize": "Ctrl-I"
   },
   "labels_anchors": false,
   "latex_user_defs": false,
   "report_style_numbering": false,
   "user_envs_cfg": false
  },
  "toc": {
   "base_numbering": 1,
   "nav_menu": {},
   "number_sections": true,
   "sideBar": true,
   "skip_h1_title": false,
   "title_cell": "Table of Contents",
   "title_sidebar": "Contents",
   "toc_cell": false,
   "toc_position": {},
   "toc_section_display": true,
   "toc_window_display": false
  }
 },
 "nbformat": 4,
 "nbformat_minor": 2
}

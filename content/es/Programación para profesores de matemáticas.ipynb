{
 "cells": [
  {
   "cell_type": "markdown",
   "metadata": {},
   "source": [
    "# Resumen"
   ]
  },
  {
   "cell_type": "markdown",
   "metadata": {},
   "source": [
    "Los maestros de matemáticas a menudo se quedan estancados en el método tradicional de tiza y pizarra, especialmente en las escuelas desfavorecidas donde el acceso a herramientas de programación y cursos no son fácilmente disponibles. Aquí, presentamos una propuesta para un curso abierto sobre herramientas de Python, especialmente dirigido a maestros que trabajan con matemáticas de nivel secundario y les gustaría agregar nuevas herramientas a su salón de clases. Esto incluye encontrar una manera fácil de usar las bibliotecas de gráficos y visualización, y una programación básica que se puede usar para enseñar e ilustrar conceptos matemáticos y crear experimentos para enriquecer la experiencia en el aula para los estudiantes. Incluimos una discusión de los cuadernos de Jupyter y sus ventajas y desventajas, y algo de experiencia en la enseñanza de carreras de matemáticas en la Universidad Federal de Santa Catarina en Brasil, donde hemos identificado las principales habilidades y herramientas que pueden ser útiles para el uso en el aula y también para la motivación. Para profesores y alumnos de muchos niveles."
   ]
  },
  {
   "cell_type": "markdown",
   "metadata": {},
   "source": [
    "# Tabla de contenido \n",
    "\n",
    "[Motivación](#Motivación)\n",
    "\n",
    "[Pensamiento computacional en el aula](#Pensamiento computacional en el aula)\n",
    "\n",
    "[Maestros/as](#Maestros/as)\n",
    "\n",
    "[Herramientas](#Herramientas)\n",
    "\n",
    "[Cómo crear actividades](#Cómo crear actividades)\n",
    "\n",
    "[Referencias](#Referencias)\n",
    "\n",
    "[Lectura adicional](#Lectura adicional)"
   ]
  },
  {
   "cell_type": "markdown",
   "metadata": {},
   "source": [
    "# Motivación\n",
    "\n",
    "Trabajo en la Universidad Federal de Santa Catarina, enseñando matemáticas a futuros maestros de matemáticas. Son estudiantes universitarios que aprenden matemáticas y algo de pedagogía, y después de completar el grado pueden enseñar a niños de 11 a 17 años de edad. Les hago estas preguntas a mis alumnos cuando discutimos el uso de tecnologías, especialmente programación, aplicaciones y herramientas computacionales, para enseñar matemáticas:\n",
    "\n",
    "- ¿Cuál es nuestro objetivo cuando enseñamos matemáticas a nuestros jóvenes estudiantes?\n",
    "- ¿Nuestros métodos de enseñanza logran este objetivo?\n",
    "- ¿En qué tipo de mundo viven nuestros estudiantes? ¿Y cómo será en el futuro?\n",
    "\n",
    "Todos están de acuerdo en que nuestros estudiantes viven en un mundo fusionado con internet, redes sociales, tecnologías y herramientas computacionales. La tecnología está en constante evolución y debemos adaptarnos a las nuevas aplicaciones, sistemas operativos y dispositivos. Sin embargo, parece que no saben cómo cerrar la brecha entre la enseñanza tradicional de tiza y pizarra que recibieron y lo que nuestros estudiantes necesitan hoy. De hecho, nos falta un componente clave en esta ecuación: ¿quién enseña a los maestros? ¿Y cómo los convencemos para que se esfuercen en aprender estas herramientas, cuando están sobrecargados de trabajo, mal pagados y estresados?\n",
    "\n",
    "El uso de tecnologías modernas todavía es raro como herramienta de enseñanza / aprendizaje en las escuelas brasileñas, incluso en matemáticas, tan estrechamente vinculado al desarrollo de la informática, los lenguajes de programación y el pensamiento computacional. Por otro lado, cuando las personas usan la programación y los ejercicios computacionales para enseñar, a menudo se encuentra en un contexto equivocado. Usar herramientas computacionales como un dispositivo cosmético para involucrar a los estudiantes no es suficiente; debemos desarrollar actividades que integren tecnologías en nuestro pensamiento, usándolas como las herramientas fundamentales de nuestro tiempo.\n",
    "\n",
    "También es importante tener en cuenta que la inclusión digital y la alfabetización son consecuencias naturales de este proceso, que es un movimiento de empoderamiento para los estudiantes y les permite tener el control de sus personas y datos digitales tanto como sea posible.\n",
    "\n",
    "Discutimos aquí algunas ideas para el papel de las herramientas como Python y Jupyter Notebooks en el aula de matemáticas, y cómo podemos preparar mejor a nuestros maestros para que puedan crear sus propias actividades en torno a estas herramientas. Esta discusión obviamente no es exhaustiva; Tampoco está claro si estas son las mejores herramientas para el trabajo. Esta es nuestra contribución para aquellos que deseen hacer uso de estas ideas."
   ]
  },
  {
   "cell_type": "markdown",
   "metadata": {},
   "source": [
    "# Pensamiento computacional en el aula\n",
    "\n",
    "De acuerdo a [[callysto]](#Referencias), https://callysto.ca/computational-thinking-101/\n",
    "\n",
    ">El pensamiento computacional es la capacidad de analizar y evaluar objetivamente un problema complejo, desarrollar posibles soluciones al problema y luego formatear estas soluciones de manera que una computadora, o un ser humano, pueda entender y llevar a cabo. Describe un método para investigar, adquirir y aplicar conocimiento a través de varios conceptos y enfoques (...) Lo más importante es que el pensamiento computacional no debe ser intimidante o involucrar a una computadora; La habilidad fundamental para resolver problemas se puede aprender fácilmente a través de una serie de pasos o actividades interesantes y atractivas.\n",
    "\n",
    "Hay 4 pasos básicos para el pensamiento computacional:\n",
    "\n",
    "1. **Descomposición** Desglosando un problema complejo, procesos, datos o sistema en partes más pequeñas y manejables.\n",
    "2. **Reconocimiento de patrones** Observando tendencias, buscando similitudes entre y dentro de los problemas.\n",
    "3. **Abstracción** Ser capaz de formatear una solución general de un problema particular. \n",
    "4. **Algoritmos** Desarrollo de una solución paso a paso para el problema, o las reglas a seguir para resolver el problema de una manera generalizada.\n",
    "\n",
    "El desarrollo del pensamiento computacional requiere no solo el uso de la computadora como una herramienta, sino también una reimaginación del currículo de las actividades computacionales; Como Gravina y Santarosa observan en[[4]](#Referencias): \n",
    ">La informática por sí sola no garantiza este cambio, y muchas veces uno puede dejarse engañar por la imagen atractiva de los recursos tecnológicos que se ofrecen, pero que simplemente refuerza las mismas características de la escuela basada en la transmisión del conocimiento. \n",
    "\n",
    "Por lo tanto, lo que proponemos aquí es incluir efectivamente el uso de los recursos computacionales en el currículo de matemáticas, no como una curiosidad especial o una mera herramienta para la verificación de conceptos y la computación rápida, sino como una forma de explorar, crear y discutir conceptos matemáticos. . En lugar de agregar ejercicios computacionales como complemento de lo que ya está establecido en el currículo, reescribiríamos el currículo para permitir nuevas formas de conectar con las matemáticas.\n",
    "\n",
    "**Es necesario organizar actividades que estimulen el [aprendizaje activo](https://www.pnas.org/content/111/23/8410) y que apoyan la exploración informal y la investigación reflexiva por parte de los estudiantes, y les permite tomar el control y ser sujetos de su propio conocimiento. ** Para hacer esto, la maestra / instructora también debe renunciar a su control y estar dispuesta a ser más una Asesor y facilitador de estas actividades. \n",
    "\n",
    "## Construccionismo\n",
    "\n",
    "[Seymour Papert](https://es.wikipedia.org/wiki/Seymour_Papert) definicion [construccionismo](https://es.wikipedia.org/wiki/Construccionismo) en [[1]](#Referencias) lo siguiente:\n",
    "\n",
    ">La palabra construccionismo es una mnemotécnica para dos aspectos de la teoría de la educación científica subyacente a este proyecto. Desde las teorías constructivistas de la psicología tomamos una visión del aprendizaje como una reconstrucción más que como una transmisión de conocimiento. Luego, extendemos la idea de los materiales de manipulación a la idea de que el aprendizaje es más efectivo cuando parte de una actividad que el alumno experimenta como la construcción de un producto significativo.\n",
    "\n",
    "In *Tormentas mentales* [[5]](#referencias), Papert describe la computadora como una máquina de exploración universal, donde los niños podrían participar libremente en actividades de resolución de problemas y aprender a medida que creaban. Desafortunadamente, casi 40 años después, seguimos insistiendo en enseñar la programación como una actividad que está separada de la vida cotidiana, desconectada de las clases *reales* que se llevan a cabo en un aula regular, cubriendo temas congelados en los que la clave es la repetición y la memorización de memoria.\n",
    "\n",
    "Una diferencia fundamental entre nuestra propuesta y las existentes (al menos las que conocemos) es que organizamos nuestro contenido en torno a actividades exploratorias con condiciones menos restrictivas, en las que tanto los estudiantes como los profesores pueden experimentar y construir, **colectivamente**, soluciones y estrategias para una variedad de problemas, aplicando los conceptos del pensamiento computacional discutidos anteriormente.\n",
    "\n",
    "## Bugs: El origen del nombre del proyecto *Callicore*\n",
    "\n",
    "La mariposa [*Callicore Texa*](https://en.wikipedia.org/wiki/Callicore_texa), que ilustra en nuestro archivo [README](../../README_es.md) y da nombre a nuestro proyecto., is an example of a bug presente em vários países da América do Sul, e que representa uma das ideias fundamentais propostas por Papert e por vários outros pesquisadores da área da educação matemática: a ideia de aprendizagem através do erro. Esta ideia, também mencionada com bastante ênfase em [[7]](#Referências) e outros exemplos de literatura moderna sobre ensino de programação, tem uma óbvia aplicação no ensino-aprendizagem da matemática. De fato, é extremamente comum os alunos desenvolverem uma certa ansiedade com o erro, o que os faz experimentar menos e criar pouquíssimo.\n",
    "\n",
    "A ideia de se encarar *bugs* (como chamamos os erros resultantes de um código incompleto ou incorreto em programação) como oportunidades de aprendizado, e não como atestados de incapacidade, pode representar uma mudança significativa na autoestima e na autoconfiança do estudante. Além disso, a oportunidade de trabalhar coletivamente na resolução de problemas e de desenvolver habilidades de comunicação e de argumentação para propor soluções para esses bugs não é negligenciável em termos de desenvolvimento humano e intelectual dos estudantes. \n",
    "\n",
    "Por outro lado, \n",
    ">É fundamental que os alunos construam um senso crítico para o resultado do computador, sustentado pela consciência de que a máquina não é isenta de limitações, e de que seus resultados devem ser entendidos à luz de argumentos matemáticos (e não ao contrário). [[2]](#Referências)\n",
    "\n",
    "Isto quer dizer que os *bugs* podem nos ajudar a desmistificar os resultados computacionais, que muitas vezes são encarados como *corretos por definição*, já que foram calculados pela máquina. O reflexo de desconfiar dos resultados computacionais e verificar sua compatibilidade com a realidade é uma habilidade primordial num mundo dominado por algoritmos e ditado por rotinas computacionais nas mais diversas esferas."
   ]
  },
  {
   "cell_type": "markdown",
   "metadata": {},
   "source": [
    "# Teachers\n",
    "\n",
    "Ao mesmo tempo em que desejamos aplicar todos os conceitos e ideias acima expostos,\n",
    ">Sabemos que, em muitos casos, a incorporação de tecnologias digitais na escola esbarra em barreiras de ordem prática, tais como carência de recursos materiais, ou resistências políticas por parte das direções escolares. Entretanto, esta constatação não implica que os professores que vivenciam essas realidades em suas práticas devam ignorar as possibilidades oferecidas pelos recursos computacionais para o enriquecimento do ensino de Matemática. Ao contrário, *justamente para se munir de contra-argumentos para tais obstáculos, é importante conhecer essas possibilidades*. [[2]](#Referências)\n",
    "\n",
    "Em outras palavras, não podemos ignorar que o mundo mudou e a escola, apesar de conservadora e rígida, deve se adaptar sempre que possível à nova sociedade em que os alunos se encontram. Como exemplo de descompasso entre o contexto dos alunos e a experiência da escola, citamos a dificuldade dos alunos em se desconectarem do celular para as aulas tradicionais. É claro que existe um questionamento a ser feito sobre a dependência atual das pessoas à conexão constante, à presença nas redes sociais e às conversas em aplicativos de troca de mensagem. No entanto, também cabe questionarmos até que ponto podemos esperar que os estudantes, vivendo no mundo atual, se interessem por uma escola ultrapassada, com métodos que parecem desejar freiar o desenvolvimento das suas ideias. De fato, existem vários questionamentos ao modelo de aula-palestra em estudos educacionais por todo o mundo; em particular, o modelo em que o aluno *copia* conteúdo do quadro negro para seu caderno, em um mundo hiperconectado em que toda a informação já produzida pela humanidade pode ser encontrada no *Google* a qualquer momento, não faz sentido. Além disso, a noção de que a matemática é *inútil* para a vida cotidiana dos alunos traz um impacto negativo no engajamento desses alunos. Se pudermos propor atividades em que eles estejam no controle, tomando decisões e elaborando hipóteses e estratégias, eles se sentirão parte integrante do processo educativo.\n",
    "\n",
    "No entanto, é necessário admitir que não existe um suporte ao professor que deseja inovar em suas aulas. De fato, em geral existem vários motivos para que um professor não possa se dedicar a estas novas ideias. Em particular, listamos os seguintes:\n",
    "\n",
    "- **Novas formas de avaliação**\n",
    "\n",
    "    Para que estas ideias sejam aplicadas propriamente em sala de aula, é necessário imaginar novas formas de avaliação. Dentro do conceito construtivista de educação, poderíamos falar em avaliação individual, em observar o desenvolvimento integral do aluno à medida que os projetos vão sendo avaliados. No entanto, isso não é viável nas escolas tradicionais, em que o número de alunos por turma torna esse tipo de avaliação impossível. Algumas ideias podem ser encontradas em [[Resnick]](http://scratched.gse.harvard.edu/ct/files/AERA2012.pdf).\n",
    "    \n",
    "    \n",
    "- **Insegurança dos professores em relação às ferramentas**\n",
    "\n",
    "    Assim como os estudantes, os professores também sofrem do medo de cometer erros. Dentro da estrutura tradicional de ensino, o modelo hierárquico de relação entre professor e aluno dificulta a construção coletiva de soluções; o aluno espera receber do professor uma resposta (certo ou errado) e o professor espera saber responder todas as perguntas dos alunos. A partir do momento em que consideramos atividades exploratórias e criativas, não existem mais respostas certas ou erradas; é muito provável que os alunos esbarrem em problemas para os quais os professores não tem solução. Isso precisa ser encarado com naturalidade, pois é o que acontece nas relações do mundo real entre pessoas que trabalham juntas para resolver problemas.\n",
    "    \n",
    "\n",
    "- **Qual o tempo que podemos \"gastar\" para aprender uma ferramenta nova de trabalho?**\n",
    "\n",
    "    Frequentemente, os professores de ensino fundamental e médio não tem tempo livre para investir em uma nova ferramenta de trabalho. Por isso, entendemos que apesar de o ideal ser investir em workshops e aulas presenciais, ter um material disponível online de forma gratuita e livre representa uma possibilidade de atingir um público maior e mais diverso, sem que haja necessidade de uma mudança grande na rotina de trabalho desses profissionais. Da mesma forma, é necessário que haja suporte a esses professores que tenham interesse nas ferramentas e nas atividades propostas, e por isso o modelo de comunidade de software se torna interessante, diferente de um esquema centralizado em torno de uma disciplina ou de um workshop presencial.\n",
    "    \n",
    "Com base nessas observações, nosso objetivo é desenvolver um material que contemple esses pontos de alguma forma, e que tenha sua utilidade entre professores de qualquer nível que queiram incluir atividades como as que mencionamos em suas salas de aula."
   ]
  },
  {
   "cell_type": "markdown",
   "metadata": {},
   "source": [
    "# Tools\n",
    "\n",
    ">Learning to code is really learning to code something: One doesn’t just “learn programming” (...) When we teach programming, we tend to focus on the syntax and semantics of the language. We don’t explicitly teach plans — chunks of code that do something useful. But we expect students to figure them out. We rarely teach discourse rules. The domain-specific knowledge lies in both plans and discourse rules. [[computinged]](https://computinged.wordpress.com/2019/05/20/learning-to-code-is-really-learning-to-code-something-no-one-just-learns-to-program/)\n",
    "\n",
    "Para que o processo de aprendizagem seja mais concreto, seguindo a filosofia que estamos propondo, partimos de atividades elaboradas com essas ideias em mente, e ensinamos aos professores como interagir com essas atividades em dois níveis:\n",
    "1. Utilizando as atividades para passar a ideia de pensamento computacional, e também para introduzir, fixar ou trabalhar conteúdos do currículo com seus alunos;\n",
    "2. Criar atividades originais, em cooperação com seus alunos ou não.\n",
    "\n",
    "Os conceitos que consideramos importantes e que guiam nossas escolhas de ferramentas são:\n",
    "- Permitir a *manipulação* de objetos matemáticos, de forma exploratória e criativa\n",
    "- Accesso a informação de maneira não-linear, usando hipertexto e a conectividade da web para expandir os limites da sala de aula\n",
    "- Permitir a aprendizagem assíncrona, de forma que os alunos tenham acesso total aos materiais que serão usados em sala de aula e possam explorá-los da maneira que acharem melhor\n",
    "- Flexibilidade na apresentação dos conteúdos, de modo que sejam ao mesmo tempo simples de usar e simples de customizar."
   ]
  },
  {
   "cell_type": "markdown",
   "metadata": {},
   "source": [
    "## Python"
   ]
  },
  {
   "cell_type": "markdown",
   "metadata": {},
   "source": [
    "## Jupyter Notebooks\n"
   ]
  },
  {
   "cell_type": "markdown",
   "metadata": {},
   "source": [
    "## ipywidgets"
   ]
  },
  {
   "cell_type": "markdown",
   "metadata": {},
   "source": [
    "# Como criar atividades\n",
    "\n",
    "    Break it down into small steps\n",
    "    Chunk small steps into bigger steps\n",
    "    Add narrative and connect\n",
    "    Link out to documentation\n",
    "    Interleave easy exercises\n",
    "    Spice with challenge questions/tasks\n",
    "    Publish openly online\n",
    "\n",
    "– Lorena A. Barba\n",
    "\n",
    "De [[1]](#Referências):\n",
    ">\"In preparing students to apply what they have learned, striving to align what happens in the course with what they will experience in their career is important. (...) Creating opportunities for students to develop as learners stretch beyond the boundaries of any specific course where you may use notebooks. By enriching their learning experience in your course, you will help them develop valuable skill-sets and mind-sets that they will take with them into other courses and into their career.\"\n",
    "\n",
    "Além disso,\n",
    "> A informática por si só não garante esta mudança, e muitas vezes se pode ser enganado pelo visual atrativo dos recursos tecnológicos que são oferecidos, mas os quais simplesmente reforçam as mesmas características do modelo de escola que privilegia a transmissão do conhecimento. [[2]](#Referências)\n",
    "\n",
    "Em muitos materiais disponíveis, observamos que a *interatividade* acaba sendo o foco, e a *exploração* acaba sendo limitada. Em outras palavras, vemos muitos botões e muitos *sliders*, mas poucas oportunidades dos estudantes explorarem e descobrirem a solução do problema sozinhos.\n",
    "\n",
    "É importante também pensar na acessibilidade daqueles estudantes que tem dispositivos com menos poder computacional ou menos convencionais: na maioria das salas de aula brasileiras, por exemplo, o acesso à internet é extremamente limitado, e os únicos dispositivos disponíveis para uso dos alunos são telefones celulares de baixo custo.\n",
    "\n",
    "Novamente de [[1]](#Referências), \n",
    ">Before you begin adding Jupyter notebooks to your course, take some time to:\n",
    ">- Identify your teaching goals\n",
    ">- Understand your students\n",
    ">- Develop your content strategy\n",
    ">- Consider the context of the learning environment\n",
    "\n",
    "## Algumas ideias de atividades\n",
    "\n",
    "- Os recursos computacionais mais simples, como as calculadoras, permitem ao professor a utilização de dados numéricos realistas (e não só inteiros ou \"bonitos\")\n",
    "- A utilização de linguagens de programação, ou de ferramentas como as planilhas eletrônicas, podem ser um primeiro contato com o formalismo da simbologia algébrica (sintaxe e semântica).\n",
    "- Os graficadores podem ser ferramentas para a articulações múltiplas entre diferentes formas de representação de funções, por exemplo, entre a Tabela, a Fórmula e o Gráfico [[2]](#Referências).\n",
    "- Graficar uma função em um software não necessariamente tem o papel de verificar ou corrigir um gráfico feito inicialmente no papel. Porém, pode servir como pretexto para uma discussão de interpretações e para o questionamento de decisões tomadas ao longo da resolução de uma questão sem o uso do computador. O objetivo deve ser \"usar o computador para promover aprendizagem matemática sólida o suficiente para permanecer e se transferir para outras situações - *mesmo sem o apoio da máquina*.\" [[2]](#Referências)\n",
    "- Uma boa maneira de fazer com que os alunos usem as ferramentas corretas é dar problemas em que não seja possível calcular a solução usando as ferramentas e técnicas já vistas.\n",
    "- Testar eixos, escalas e visualizações diferentes pode ser interessante para explorar o cuidado que se deve ter ao observar e tentar interpretar e generalizar dados incompletos advindos de gráficos\n",
    "- Escalas logarítmicas, coordenadas polares\n",
    "- Funções em ambientes de geometria dinâmica podem ser exploradas como famílias a partir de parâmetros, o que pode facilitar o entendimento do funcionamento dessas funções\n",
    "- O gráfico de uma função é o \"lugar geométrico dos pontos do plano cartesiano cujas coordenadas verificam a lei de formação da função. Em geral, os alunos aprendem tantos procedimentos para traçar gráficos em casos particulares, que essa noção fundamental fica em segundo plano.\" [[2]](#Referências)\n",
    "- Interpretações de dados do cotidiano: aproximações, interpolações, estatísticas, operações, gráficos etc\n",
    "- Otimização"
   ]
  },
  {
   "cell_type": "markdown",
   "metadata": {},
   "source": [
    "# References"
   ]
  },
  {
   "cell_type": "markdown",
   "metadata": {},
   "source": [
    "[1] Barba, L. A. et al. (2019) *Teaching and Learning with Jupyter*. Disponível em [https://jupyter4edu.github.io/jupyter-edu-book/], versão de 08/05/2019.\n",
    "\n",
    "[2] Giraldo, V., Caetano, P. and Mattos, F. (2013). *Recursos Computacionais no Ensino de Matemática*. Sociedade Brasileira de Matemática, Rio de Janeiro, RJ. ISBN 978-85-85818-67-8\n",
    "\n",
    "[4] Gravina, M. A. and Santarosa, L. M. (1998) *A Aprendizagem da Matemática em Ambientes Informatizados*. IV Congresso RIBIE, Brasília.\n",
    "\n",
    "[5] Papert, S. (1994). *A máquina das crianças: repensando a escola na era da informática*. Trad. Sandra Costa. Porto Alegre: Artes Médicas.\n",
    "\n",
    "[6] Brackmann, C. P. (2017) *Desenvolvimento do pensamento computacional através de atividades desplugadas na educação básica*. Tese de Doutorado. Programa de Pós-Graduação em Informática na Educação, Universidade Federal do Rio Grande do Sul. Disponível em [https://www.lume.ufrgs.br/handle/10183/172208].\n",
    "\n",
    "[7] Wilson, G. (2019) *Teaching Tech Together: How to create and deliver lessons that work and build a teaching community around them*. Disponível em [http://teachtogether.tech/], versão 4.0 beta / Junho 2019.\n",
    "\n",
    "[9] Sabelli, N. (2008). *Constructionism: A New Opportunity for Elementary Science Education*. DRL Division of Research on Learning in Formal and Informal Settings. pp. 193–206. Retrieved September 20, 2017."
   ]
  },
  {
   "cell_type": "markdown",
   "metadata": {},
   "source": [
    "# Additional Reading"
   ]
  },
  {
   "cell_type": "markdown",
   "metadata": {},
   "source": [
    "- Mills, G. (2019) *Perspectives on Teaching Math Modeling in High School*. Disponível em [https://sinews.siam.org/Details-Page/perspectives-on-teaching-math-modeling-in-high-school]\n",
    "- Robert Duke: Why students don't learn what we think we teach. Disponível em [[https://www.youtube.com/watch?v=ODfUcc-0YLY]]\n",
    "- Aprendendo Aprendizagem Criativa. Curso do MIT Media Lab. Disponível em [https://learn.media.mit.edu/lcl/]\n",
    "- The Computational Notebook of the Future http://blog.khinsen.net/posts/2019/02/11/the-computational-notebook-of-the-future/\n",
    "- Site [http://www.computacional.com.br/]\n",
    "- Schuman, R. (2015) *Professors Shouldn’t Teach to Younger Versions of Themselves: Too many academics focus on ideal students rather than real ones.* Disponível em [https://slate.com/human-interest/2015/10/professors-shouldnt-only-teach-to-younger-versions-of-themselves.html]"
   ]
  },
  {
   "cell_type": "code",
   "execution_count": null,
   "metadata": {},
   "outputs": [],
   "source": []
  }
 ],
 "metadata": {
  "kernelspec": {
   "display_name": "Python 3",
   "language": "python",
   "name": "python3"
  },
  "language_info": {
   "codemirror_mode": {
    "name": "ipython",
    "version": 3
   },
   "file_extension": ".py",
   "mimetype": "text/x-python",
   "name": "python",
   "nbconvert_exporter": "python",
   "pygments_lexer": "ipython3",
   "version": "3.6.7"
  },
  "latex_envs": {
   "LaTeX_envs_menu_present": true,
   "autoclose": false,
   "autocomplete": true,
   "bibliofile": "biblio.bib",
   "cite_by": "apalike",
   "current_citInitial": 1,
   "eqLabelWithNumbers": true,
   "eqNumInitial": 1,
   "hotkeys": {
    "equation": "Ctrl-E",
    "itemize": "Ctrl-I"
   },
   "labels_anchors": false,
   "latex_user_defs": false,
   "report_style_numbering": false,
   "user_envs_cfg": false
  },
  "toc": {
   "base_numbering": 1,
   "nav_menu": {},
   "number_sections": true,
   "sideBar": true,
   "skip_h1_title": false,
   "title_cell": "Table of Contents",
   "title_sidebar": "Contents",
   "toc_cell": false,
   "toc_position": {},
   "toc_section_display": true,
   "toc_window_display": false
  }
 },
 "nbformat": 4,
 "nbformat_minor": 2
}

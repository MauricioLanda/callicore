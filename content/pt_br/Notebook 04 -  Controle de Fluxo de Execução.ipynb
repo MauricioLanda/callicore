{
 "cells": [
  {
   "cell_type": "markdown",
   "metadata": {},
   "source": [
    "# Comandos de repetição e condicionais"
   ]
  },
  {
   "cell_type": "markdown",
   "metadata": {},
   "source": [
    "Algumas estruturas podem ser bastante úteis para automatizarmos tarefas e resolvermos problemas computacionais, como blocos de repetição (for, while) e condicionais (if)."
   ]
  },
  {
   "cell_type": "markdown",
   "metadata": {},
   "source": [
    "## Repetição: `for`\n",
    "\n",
    "Às vezes, desejamos repetir um certo número de vezes a mesma operação. Por exemplo, em nossas atividades podemos desejar imprimir vários valores em sequência, para observar a progressão de determinada função ou valor. \n",
    "\n",
    "Assim, precisamos de 2 ingredientes:\n",
    "- Uma ação a ser repetida;\n",
    "- O número de vezes que queremos repetir a ação.\n",
    "\n",
    "Frequentemente, a ação a ser executada depende de algum parâmetro que varia conforme repetimos a ação. Por exemplo, suponha que desejamos imprimir todos os elementos de uma lista. "
   ]
  },
  {
   "cell_type": "code",
   "execution_count": 2,
   "metadata": {},
   "outputs": [],
   "source": [
    "# Defina aqui uma lista:\n",
    "lista = [1,3,6,9,12,15,18,21,24,27,30]"
   ]
  },
  {
   "cell_type": "code",
   "execution_count": 28,
   "metadata": {},
   "outputs": [
    {
     "name": "stdout",
     "output_type": "stream",
     "text": [
      "Numero 1\n",
      "Numero 3\n",
      "Numero 6\n",
      "Numero 9\n",
      "Numero 12\n",
      "Numero 15\n",
      "Numero 18\n",
      "Numero 21\n",
      "Numero 24\n",
      "Numero 27\n",
      "Numero 30\n",
      "Terminei.\n"
     ]
    }
   ],
   "source": [
    "for item in lista: \n",
    "    # Indentação\n",
    "    print(\"Numero \"+str(item))\n",
    "print(\"Terminei.\")"
   ]
  },
  {
   "cell_type": "markdown",
   "metadata": {},
   "source": [
    "Várias coisas podem ser observadas na célula acima.\n",
    "- A sintaxe `for item in lista` pode ser vista exatamente como no inglês: os comandos que vierem abaixo disso serão executados uma vez para cada `item` da `lista`.\n",
    "- A estrutura de repetição definida pela palavra chave `for` é uma estrutura de **bloco**, o que quer dizer que o Python espera que todas as ações a serem repetidas estejam **indentadas**, isto é, que comecem com um recuo em relação à linha do `for`. Isso é obrigatório, e a indentação deve ser consistente (isto é, ter o mesmo tamanho) sempre que um bloco aparecer. A indentação mais utilizada é um toque na tecla Tab.\n",
    "- A variável `item` é atualizada automaticamente; isso significa que cada vez que as linhas dentro do bloco acabam, seu valor é acrescido de 1, até que a lista seja esgotada.\n",
    "- A última linha da célula anterior, que contém o `print(\"Terminei\")` é executada apenas uma vez, justamente por não estar indentada; dessa forma, o Python entende que esta linha está fora do bloco `for` e portanto não faz parte da repetição. Observe:"
   ]
  },
  {
   "cell_type": "code",
   "execution_count": 26,
   "metadata": {},
   "outputs": [
    {
     "name": "stdout",
     "output_type": "stream",
     "text": [
      "Numero 1\n",
      "de novo!\n",
      "Numero 3\n",
      "de novo!\n",
      "Numero 6\n",
      "de novo!\n",
      "Numero 9\n",
      "de novo!\n",
      "Numero 12\n",
      "de novo!\n",
      "Numero 15\n",
      "de novo!\n",
      "Numero 18\n",
      "de novo!\n",
      "Numero 21\n",
      "de novo!\n",
      "Numero 24\n",
      "de novo!\n",
      "Numero 27\n",
      "de novo!\n",
      "Numero 30\n",
      "de novo!\n"
     ]
    }
   ],
   "source": [
    "for item in lista: # Indentação\n",
    "    print(\"Numero \"+str(item))\n",
    "    print(\"de novo!\")"
   ]
  },
  {
   "cell_type": "markdown",
   "metadata": {},
   "source": [
    "Para executarmos um bloco de repetição (também chamado de **loop**) sem termos uma lista a percorrer, podemos usar alguns comandos diferentes. Por exemplo, `range(n)` gera uma lista de 0 até `n-1`:"
   ]
  },
  {
   "cell_type": "code",
   "execution_count": 7,
   "metadata": {},
   "outputs": [
    {
     "name": "stdout",
     "output_type": "stream",
     "text": [
      "0\n",
      "1\n",
      "2\n",
      "3\n",
      "4\n",
      "5\n",
      "6\n",
      "7\n",
      "8\n",
      "9\n"
     ]
    }
   ],
   "source": [
    "# Escolha n\n",
    "n = 10\n",
    "for item in range(n):\n",
    "    print(item)"
   ]
  },
  {
   "cell_type": "markdown",
   "metadata": {},
   "source": [
    "Observe que esse comportamento é parecido com o que observamos no slicing de listas e strings: como começamos do índice 0, `range(n)` nos dá `n` elementos (de 0 até `n-1`)."
   ]
  },
  {
   "cell_type": "markdown",
   "metadata": {},
   "source": [
    "## Condicionais: `if`\n",
    "\n",
    "Agora, se desejamos realizar uma ação apenas caso alguma condição seja satisfeita, usamos a estrutura `if`: \"se determinada condição lógica for verdadeira, execute o primeiro bloco de comandos; caso contrário (`else`), execute o segundo\"."
   ]
  },
  {
   "cell_type": "code",
   "execution_count": 30,
   "metadata": {},
   "outputs": [
    {
     "name": "stdout",
     "output_type": "stream",
     "text": [
      "Falso\n"
     ]
    }
   ],
   "source": [
    "# Modifique a variável palavra e veja o que acontece\n",
    "palavra = \"sim\"\n",
    "if palavra == \"sim!\":\n",
    "    print(\"Verdadeiro\")\n",
    "else:\n",
    "    print(\"Falso\")"
   ]
  },
  {
   "cell_type": "markdown",
   "metadata": {},
   "source": [
    "Observe que aqui também temos um bloco, assim como no `for`, e portanto precisamos seguir as regras de indentação do Python."
   ]
  },
  {
   "cell_type": "markdown",
   "metadata": {},
   "source": [
    "Usamos `==` na expressão acima, pois no Python é necessário diferenciar entre um comando de atribuição (atribuir um valor a uma variável) e um comando de comparação (testar se duas variáveis são iguais). O caso do `if` é o segundo.\n",
    "\n",
    "Veja:"
   ]
  },
  {
   "cell_type": "code",
   "execution_count": 10,
   "metadata": {},
   "outputs": [],
   "source": [
    "a = 1"
   ]
  },
  {
   "cell_type": "code",
   "execution_count": 11,
   "metadata": {},
   "outputs": [
    {
     "data": {
      "text/plain": [
       "True"
      ]
     },
     "execution_count": 11,
     "metadata": {},
     "output_type": "execute_result"
    }
   ],
   "source": [
    "a == 1"
   ]
  },
  {
   "cell_type": "code",
   "execution_count": 12,
   "metadata": {},
   "outputs": [
    {
     "data": {
      "text/plain": [
       "False"
      ]
     },
     "execution_count": 12,
     "metadata": {},
     "output_type": "execute_result"
    }
   ],
   "source": [
    "a == 2"
   ]
  },
  {
   "cell_type": "markdown",
   "metadata": {},
   "source": [
    "O símbolo para \"diferente\" é `!=`:"
   ]
  },
  {
   "cell_type": "code",
   "execution_count": 15,
   "metadata": {},
   "outputs": [
    {
     "data": {
      "text/plain": [
       "True"
      ]
     },
     "execution_count": 15,
     "metadata": {},
     "output_type": "execute_result"
    }
   ],
   "source": [
    "a != -1"
   ]
  },
  {
   "cell_type": "markdown",
   "metadata": {},
   "source": [
    "Outras condições lógicas (cuja resposta é Verdadeiro - `True` - ou Falso - `False`) também podem ser incluidas no bloco condicional."
   ]
  },
  {
   "cell_type": "code",
   "execution_count": 16,
   "metadata": {},
   "outputs": [
    {
     "data": {
      "text/plain": [
       "False"
      ]
     },
     "execution_count": 16,
     "metadata": {},
     "output_type": "execute_result"
    }
   ],
   "source": [
    "2 > 3"
   ]
  },
  {
   "cell_type": "code",
   "execution_count": 17,
   "metadata": {},
   "outputs": [
    {
     "data": {
      "text/plain": [
       "True"
      ]
     },
     "execution_count": 17,
     "metadata": {},
     "output_type": "execute_result"
    }
   ],
   "source": [
    "5 <= 5"
   ]
  },
  {
   "cell_type": "code",
   "execution_count": 18,
   "metadata": {},
   "outputs": [
    {
     "data": {
      "text/plain": [
       "True"
      ]
     },
     "execution_count": 18,
     "metadata": {},
     "output_type": "execute_result"
    }
   ],
   "source": [
    "3 in [1,2,3]"
   ]
  },
  {
   "cell_type": "code",
   "execution_count": 31,
   "metadata": {},
   "outputs": [
    {
     "data": {
      "text/plain": [
       "False"
      ]
     },
     "execution_count": 31,
     "metadata": {},
     "output_type": "execute_result"
    }
   ],
   "source": [
    "3 not in [1,2,3]"
   ]
  },
  {
   "cell_type": "code",
   "execution_count": 19,
   "metadata": {},
   "outputs": [
    {
     "data": {
      "text/plain": [
       "True"
      ]
     },
     "execution_count": 19,
     "metadata": {},
     "output_type": "execute_result"
    }
   ],
   "source": [
    "'a' in 'Dia'"
   ]
  },
  {
   "cell_type": "markdown",
   "metadata": {},
   "source": [
    "Podemos também precisar testar mais de uma condição lógica de uma vez em um `if`. Para isso, usamos as seguintes palavras-chave:\n",
    "- `or`: Em português, \"ou\". `A or B` terá valor `True` sempre que `A` ou `B` forem verdadeiros (inclusive se ambos o forem)\n",
    "- `and`: Em português, \"e\". `A and B` terá valor `True` somente se ambos `A` e `B` forem verdadeiros *ao mesmo tempo*."
   ]
  },
  {
   "cell_type": "code",
   "execution_count": 21,
   "metadata": {},
   "outputs": [
    {
     "name": "stdout",
     "output_type": "stream",
     "text": [
      "Vamos imprimir\n"
     ]
    }
   ],
   "source": [
    "imprimir = \"sim\"  # mude os valores de imprimir e papel \n",
    "papel = \"sim\"     # e observe o que acontece.\n",
    "if imprimir == \"sim\" and papel == \"sim\":\n",
    "    print(\"Vamos imprimir\")\n",
    "else:\n",
    "    print(\"Não vamos imprimir\")"
   ]
  },
  {
   "cell_type": "code",
   "execution_count": 23,
   "metadata": {},
   "outputs": [
    {
     "name": "stdout",
     "output_type": "stream",
     "text": [
      "Vamos imprimir\n"
     ]
    }
   ],
   "source": [
    "imprimir = \"sim\"  # mude os valores de imprimir e papel\n",
    "papel = \"sim\"     # e observe o que acontece.\n",
    "if imprimir == \"sim\" or papel == \"sim\":\n",
    "    print(\"Vamos imprimir\")\n",
    "else:\n",
    "    print(\"Não vamos imprimir\")"
   ]
  }
 ],
 "metadata": {
  "kernelspec": {
   "display_name": "Python 3",
   "language": "python",
   "name": "python3"
  },
  "language_info": {
   "codemirror_mode": {
    "name": "ipython",
    "version": 3
   },
   "file_extension": ".py",
   "mimetype": "text/x-python",
   "name": "python",
   "nbconvert_exporter": "python",
   "pygments_lexer": "ipython3",
   "version": "3.6.8"
  },
  "latex_envs": {
   "LaTeX_envs_menu_present": true,
   "autoclose": false,
   "autocomplete": true,
   "bibliofile": "biblio.bib",
   "cite_by": "apalike",
   "current_citInitial": 1,
   "eqLabelWithNumbers": true,
   "eqNumInitial": 1,
   "hotkeys": {
    "equation": "Ctrl-E",
    "itemize": "Ctrl-I"
   },
   "labels_anchors": false,
   "latex_user_defs": false,
   "report_style_numbering": false,
   "user_envs_cfg": false
  },
  "toc": {
   "base_numbering": 1,
   "nav_menu": {},
   "number_sections": true,
   "sideBar": true,
   "skip_h1_title": false,
   "title_cell": "Table of Contents",
   "title_sidebar": "Contents",
   "toc_cell": false,
   "toc_position": {},
   "toc_section_display": true,
   "toc_window_display": false
  }
 },
 "nbformat": 4,
 "nbformat_minor": 2
}

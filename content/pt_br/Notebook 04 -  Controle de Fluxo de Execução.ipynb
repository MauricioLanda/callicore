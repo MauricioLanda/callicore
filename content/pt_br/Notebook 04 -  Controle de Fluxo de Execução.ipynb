{
 "cells": [
  {
   "cell_type": "markdown",
   "metadata": {},
   "source": [
    "# Comandos de repetição e condicionais"
   ]
  },
  {
   "cell_type": "markdown",
   "metadata": {},
   "source": [
    "Algumas estruturas podem ser bastante úteis para automatizarmos tarefas e resolvermos problemas computacionais, como blocos de repetição (for, while) e condicionais (if)."
   ]
  },
  {
   "cell_type": "markdown",
   "metadata": {},
   "source": [
    "## Repetição: for\n",
    "\n",
    "Às vezes, desejamos repetir um certo número de vezes a mesma operação. De fato, uma lista comprehension inclui um comando de repetição: executamos alguma ação com cada item de uma lista; se lermos a expressão da lista comprehension, poderíamos dizer: \"retorne n para cada n no conjunto que vai de 0 a 10\":"
   ]
  },
  {
   "cell_type": "code",
   "execution_count": 1,
   "metadata": {},
   "outputs": [
    {
     "name": "stdout",
     "output_type": "stream",
     "text": [
      "[0, 1, 2, 3, 4, 5, 6, 7, 8, 9, 10]\n"
     ]
    }
   ],
   "source": [
    "numeros = [n for n in range(0,11)]\n",
    "print(numeros)"
   ]
  },
  {
   "cell_type": "markdown",
   "metadata": {},
   "source": [
    "Fazemos isso explicitamente quando usamos a estrutura for. Observe que, no Python, não precisamos sinalizar o fim de um bloco de código; na verdade, a indentação sinaliza um bloco. Observe a diferença entre as células abaixo:"
   ]
  },
  {
   "cell_type": "code",
   "execution_count": 2,
   "metadata": {},
   "outputs": [
    {
     "name": "stdout",
     "output_type": "stream",
     "text": [
      "Numero 0\n",
      "Numero 1\n",
      "Numero 2\n",
      "Numero 3\n",
      "Numero 4\n",
      "Numero 5\n",
      "Numero 6\n",
      "Numero 7\n",
      "Numero 8\n",
      "Numero 9\n",
      "Numero 10\n",
      "bla\n"
     ]
    }
   ],
   "source": [
    "for item in numeros: # Indentação\n",
    "    print(\"Numero \"+str(item))\n",
    "print(\"bla\")"
   ]
  },
  {
   "cell_type": "code",
   "execution_count": 3,
   "metadata": {},
   "outputs": [
    {
     "name": "stdout",
     "output_type": "stream",
     "text": [
      "Numero 0\n",
      "bla\n",
      "Numero 1\n",
      "bla\n",
      "Numero 2\n",
      "bla\n",
      "Numero 3\n",
      "bla\n",
      "Numero 4\n",
      "bla\n",
      "Numero 5\n",
      "bla\n",
      "Numero 6\n",
      "bla\n",
      "Numero 7\n",
      "bla\n",
      "Numero 8\n",
      "bla\n",
      "Numero 9\n",
      "bla\n",
      "Numero 10\n",
      "bla\n"
     ]
    }
   ],
   "source": [
    "for item in numeros: # Indentação\n",
    "    print(\"Numero \"+str(item))\n",
    "    print(\"bla\")"
   ]
  },
  {
   "cell_type": "markdown",
   "metadata": {},
   "source": [
    "## Condicionais: if\n",
    "\n",
    "Agora, se desejamos realizar uma operação caso alguma condição seja satisfeita, e outra caso contrário, usamos a estrutura if: \"se determinada condição lógica for verdadeira, execute o primeiro bloco de comandos; caso contrário (else), execute o segundo\"."
   ]
  },
  {
   "cell_type": "code",
   "execution_count": 4,
   "metadata": {},
   "outputs": [
    {
     "name": "stdout",
     "output_type": "stream",
     "text": [
      "Falso\n"
     ]
    }
   ],
   "source": [
    "palavra = \"bla\"\n",
    "if palavra == \"bla!\":\n",
    "    print(\"Verdadeiro\")\n",
    "else:\n",
    "    print(\"Falso\")"
   ]
  },
  {
   "cell_type": "markdown",
   "metadata": {},
   "source": [
    "Usamos == na expressão acima, pois no Python é necessário diferenciar entre um comando de atribuição (atribuir um valor a uma variável) e um comando de comparação (testar se duas variáveis são iguais). O caso do if é o segundo.\n",
    "\n",
    "Podemos também acrescentar outras condições lógicas ao nosso teste."
   ]
  },
  {
   "cell_type": "code",
   "execution_count": 5,
   "metadata": {},
   "outputs": [
    {
     "name": "stdout",
     "output_type": "stream",
     "text": [
      "Uhu\n"
     ]
    }
   ],
   "source": [
    "if palavra == \"bla!\" and 3 > 2:\n",
    "    print(\"Aha\")\n",
    "else:\n",
    "    print(\"Uhu\")"
   ]
  },
  {
   "cell_type": "code",
   "execution_count": 6,
   "metadata": {},
   "outputs": [
    {
     "name": "stdout",
     "output_type": "stream",
     "text": [
      "Aha\n"
     ]
    }
   ],
   "source": [
    "if palavra == \"bla!\" or 3>2:\n",
    "    print(\"Aha\")\n",
    "else:\n",
    "    print(\"Uhu\")"
   ]
  },
  {
   "cell_type": "code",
   "execution_count": null,
   "metadata": {},
   "outputs": [],
   "source": []
  }
 ],
 "metadata": {
  "kernelspec": {
   "display_name": "Python 3",
   "language": "python",
   "name": "python3"
  },
  "language_info": {
   "codemirror_mode": {
    "name": "ipython",
    "version": 3
   },
   "file_extension": ".py",
   "mimetype": "text/x-python",
   "name": "python",
   "nbconvert_exporter": "python",
   "pygments_lexer": "ipython3",
   "version": "3.7.3"
  },
  "toc": {
   "base_numbering": 1,
   "nav_menu": {},
   "number_sections": true,
   "sideBar": true,
   "skip_h1_title": false,
   "title_cell": "Table of Contents",
   "title_sidebar": "Contents",
   "toc_cell": false,
   "toc_position": {},
   "toc_section_display": true,
   "toc_window_display": false
  }
 },
 "nbformat": 4,
 "nbformat_minor": 2
}

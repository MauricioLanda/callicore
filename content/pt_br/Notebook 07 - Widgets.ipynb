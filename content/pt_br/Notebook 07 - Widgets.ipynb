{
 "cells": [
  {
   "cell_type": "markdown",
   "metadata": {},
   "source": [
    "# O que são *widgets*?\n",
    "\n",
    "São controles gráficos que permitem uma interatividade com código, gráficos e operações, sem que o usuário precise usar código explicitamente. Em particular, trataremos de \"*sliders*\", botões, caixas de entrada de texto, e alguns selecionadores de listas e calendários. É possível também criar widgets customizados, porém não trataremos isso neste tutorial. Para mais informações, você pode ver a [documentação oficial do pacote ipywidgets](https://ipywidgets.readthedocs.io).\n",
    "\n",
    "Vamos ver como criar os widgets que foram usados nos exemplos de atividades propostos."
   ]
  },
  {
   "cell_type": "markdown",
   "metadata": {},
   "source": [
    "# Introdução\n",
    "\n",
    "Para podermos utilizar o pacote dos widgets dentro dos Jupyter notebooks, temos que importar o módulo `ipywidgets`. Por exemplo, podemos usar o comando"
   ]
  },
  {
   "cell_type": "code",
   "execution_count": 2,
   "metadata": {},
   "outputs": [],
   "source": [
    "import ipywidgets as widgets"
   ]
  },
  {
   "cell_type": "markdown",
   "metadata": {},
   "source": [
    "Agora, sempre que quisermos nos referir a comandos, funções e objetos definidos neste módulo, usaremos `widgets.<nome_do_objeto>`. \n",
    "\n",
    "Podemos explorar os comandos desse módulo usando"
   ]
  },
  {
   "cell_type": "code",
   "execution_count": 4,
   "metadata": {},
   "outputs": [],
   "source": [
    "widgets?"
   ]
  },
  {
   "cell_type": "markdown",
   "metadata": {},
   "source": [
    "ou"
   ]
  },
  {
   "cell_type": "code",
   "execution_count": 6,
   "metadata": {},
   "outputs": [
    {
     "data": {
      "text/plain": [
       "<module 'ipywidgets' from '/opt/numerics/miniconda3/envs/python37/lib/python3.6/site-packages/ipywidgets/__init__.py'>"
      ]
     },
     "execution_count": 6,
     "metadata": {},
     "output_type": "execute_result"
    }
   ],
   "source": [
    "widgets.<tab>"
   ]
  },
  {
   "cell_type": "markdown",
   "metadata": {},
   "source": [
    "# Exemplo \"Funções\"\n",
    "\n",
    "[Clique aqui](../../activities/pt_br/Funcoes.ipynb) para abrir o exemplo."
   ]
  },
  {
   "cell_type": "markdown",
   "metadata": {},
   "source": [
    "Neste exemplo, o primeiro widgets que usamos é o seguinte:"
   ]
  },
  {
   "cell_type": "code",
   "execution_count": 14,
   "metadata": {},
   "outputs": [],
   "source": [
    "minutes_input = widgets.Text(\n",
    "                    value='',\n",
    "                    placeholder='Enter minutes (decimal)',\n",
    "                    description=\"Minutes =\",\n",
    ")"
   ]
  },
  {
   "cell_type": "markdown",
   "metadata": {},
   "source": [
    "Para mostrarmos o widget (sem ainda adicionar nenhuma funcionalidade a ele), usamos o comando"
   ]
  },
  {
   "cell_type": "code",
   "execution_count": 15,
   "metadata": {},
   "outputs": [
    {
     "data": {
      "application/vnd.jupyter.widget-view+json": {
       "model_id": "a6bad2e16d6649f6b43d1abd2daf98a5",
       "version_major": 2,
       "version_minor": 0
      },
      "text/plain": [
       "Text(value='', description='Minutes =', placeholder='Enter minutes (decimal)')"
      ]
     },
     "metadata": {},
     "output_type": "display_data"
    }
   ],
   "source": [
    "display(minutes_input)"
   ]
  },
  {
   "cell_type": "markdown",
   "metadata": {},
   "source": [
    "Podemos observar então que os argumentos de `widgets.Text` são:\n",
    "- `value`: Valor inicial que a caixa de texto contém; \n",
    "- `placeholder`: Texto exibido na caixa de texto antes que seja digitado algum valor pelo usuário (e que não corresponde a um valor);\n",
    "- `description`: Texto (estático) exibido à esquerda da caixa de texto."
   ]
  },
  {
   "cell_type": "markdown",
   "metadata": {},
   "source": [
    "## Atividade:\n",
    "Teste alterar os valores dos argumentos acima e observe a mudança no widget."
   ]
  },
  {
   "cell_type": "code",
   "execution_count": 11,
   "metadata": {},
   "outputs": [],
   "source": []
  },
  {
   "cell_type": "code",
   "execution_count": null,
   "metadata": {},
   "outputs": [],
   "source": []
  }
 ],
 "metadata": {
  "kernelspec": {
   "display_name": "Python 3",
   "language": "python",
   "name": "python3"
  },
  "language_info": {
   "codemirror_mode": {
    "name": "ipython",
    "version": 3
   },
   "file_extension": ".py",
   "mimetype": "text/x-python",
   "name": "python",
   "nbconvert_exporter": "python",
   "pygments_lexer": "ipython3",
   "version": "3.6.7"
  },
  "latex_envs": {
   "LaTeX_envs_menu_present": true,
   "autoclose": false,
   "autocomplete": true,
   "bibliofile": "biblio.bib",
   "cite_by": "apalike",
   "current_citInitial": 1,
   "eqLabelWithNumbers": true,
   "eqNumInitial": 1,
   "hotkeys": {
    "equation": "Ctrl-E",
    "itemize": "Ctrl-I"
   },
   "labels_anchors": false,
   "latex_user_defs": false,
   "report_style_numbering": false,
   "user_envs_cfg": false
  },
  "toc": {
   "base_numbering": 1,
   "nav_menu": {},
   "number_sections": true,
   "sideBar": true,
   "skip_h1_title": false,
   "title_cell": "Table of Contents",
   "title_sidebar": "Contents",
   "toc_cell": false,
   "toc_position": {},
   "toc_section_display": true,
   "toc_window_display": false
  }
 },
 "nbformat": 4,
 "nbformat_minor": 2
}

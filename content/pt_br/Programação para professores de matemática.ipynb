{
 "cells": [
  {
   "cell_type": "markdown",
   "metadata": {},
   "source": [
    "# Resumo"
   ]
  },
  {
   "cell_type": "markdown",
   "metadata": {},
   "source": [
    "Muitos professores de matemática ainda ficam presos ao método de ensino tradicional, de quadro negro e giz, especialmente em escolas mais desfavorecidas em que o acesso a dispositivos e ferramentas de programação não é direto. Aqui, apresentamos uma proposta para um curso aberto de Python e ferramentas associadas especialmente voltado para professores que trabalham com ensino fundamental e médio e gostariam de adicionar novas ferramentas computacionais às suas aulas. Isso inclui encontrar uma maneira simples de usar gráficos e bibliotecas de visualização de dados, e alguma programação básica que possa ser usada para ilustrar conceitos e criar experimentos que enriqueçam a experiência da sala de aula para os estudantes. Incluimos uma discussão dos Jupyter Notebooks, suas vantagens e desvantagens, e alguma experiência no ensino de programação para graduandos em matemática da Universidade Federal de Santa Catarina, em que identificamos algumas habilidades e ferramentas importantes para o uso em sala de aula e também para motivação de estudantes e professores em todos os níveis. "
   ]
  },
  {
   "cell_type": "markdown",
   "metadata": {},
   "source": [
    "# Índice\n",
    "\n",
    "[Motivação](#Motivação)\n",
    "\n",
    "[Pensamento Computacional em sala de aula](#Pensamento-Computacional-em-sala-de-aula)\n",
    "\n",
    "[Professores](#Professores)\n",
    "\n",
    "[Ferramentas](#Ferramentas)\n",
    "\n",
    "[Como criar atividades](#Como-criar-atividades)\n",
    "\n",
    "[Referências](#Referências)\n",
    "\n",
    "[Leitura adicional](#Leitura-adicional)"
   ]
  },
  {
   "cell_type": "markdown",
   "metadata": {},
   "source": [
    "# Motivação\n",
    "\n",
    "Eu trabalho na Universidade Federal de Santa Catarina, ensinando matemática para futuros professores de matemática. Eles aprendem matemática e um pouco de pedagogia, e ao se graduarem terão a responsabilidade de ensinar matemática para crianças de 11 a 17 anos (Ensinos Fundamental e Médio). Eu faço as seguintes perguntas aos meus alunos quando discutimos o uso de tecnologias, especialmente programação, aplicativos e ferramentas computacionais, para o ensino de matemática: \n",
    "\n",
    "- Qual é o nosso objetivo ao ensinarmos matemática para nossos estudantes?\n",
    "- Nossos métodos de ensino-aprendizagem atingem esse objetivo?\n",
    "- Em que tipo de mundo nossos estudantes vivem/viverão? \n",
    "\n",
    "Todos os meus alunos concordam que vivemos em um mundo imerso na tecnologia, internet, redes sociais e ferramentas computacionais. A tecnologia está em constante evolução e é necessário nos adaptarmos o tempo todo a novos aplicativos, novos sistemas operacionais, novos aparelhos e dispositivos. No entanto, eles não se sentem confortáveis em fazer uma transição do método tradicional de quadro negro e giz em que eles foram treinados para o que os alunos precisam hoje em dia. De fato, existe um componente chave faltando nessa equação: quem ensina os professores? E como convencemos esses professores a sairem de suas zonas de conforto para aprenderem novas ferramentas, quando eles estão estressados, sobrecarregados e mal pagos?\n",
    "\n",
    "O uso de tecnologias modernas ainda é raro como uma ferramenta de ensino-aprendizagem no Brasil, mesmo na matemática, tão ligada com o desenvolvimento da ciência da computação, linguagens de programação e pensamento computacional. Por outro lado, quando se usa efetivamente exercícios computacionais e programação em sala de aula, com frequência a abordagem é mal-direcionada. Usar ferramentas computacionais como um dispositivo cosmético, um mero acessório em sala de aula não é o suficiente: precisamos construir atividades que integrem tecnologias no nosso pensamento, usando-as como as ferramentas fundamentais que são no nosso tempo.\n",
    "\n",
    "Destacamos ainda o papel de inclusão e educação digital resultante desse processo, que também empodera e permite aos estudantes tomar o controle de suas personas digitais.\n",
    "\n",
    "Discutimos aqui algumas ideias para o papel dessas ferramentas, em particular o Python e os Jupyter Notebooks, na aula de matemática, assim como boas práticas para prepararmos nossos professores para serem capazes de criar estas atividades sozinhos. É claro que estas não são as únicas ferramentas, e nem sabemos se são as melhores. Fica nossa contribuição como sugestão para aqueles que desejam fazer uso dessas ferramentas."
   ]
  },
  {
   "cell_type": "markdown",
   "metadata": {},
   "source": [
    "# Pensamento Computacional em sala de aula"
   ]
  },
  {
   "cell_type": "markdown",
   "metadata": {},
   "source": [
    "Segundo Brackmann [[6]](#Referências), \n",
    "\n",
    ">\"O Pensamento Computacional é uma distinta capacidade criativa, crítica e estratégica humana de saber utilizar os fundamentos da Computação nas mais diversas áreas do conhecimento, com a finalidade de identificar e resolver problemas colaborativamente através de passos claros de tal forma que uma pessoa ou uma máquina possam executá-los eficazmente.\"\n",
    "\n",
    "Existem 4 princípios fundamentais no pensamento computacional:\n",
    "\n",
    "1. **Decomposição.** Dividir um problema, processo, dados ou sistema complexo em pedaços menores e mais gerenciáveis.\n",
    "2. **Reconhecimento de padrões.** Observação de tendências, busca por semelhanças entre problemas e dentro de um mesmo problema.\n",
    "3. **Abstração.** Ser capaz de generalizar uma solução a partir de um determinado problema.\n",
    "4. **Algoritmos.** Desenvolver uma solução passo-a-passo para um problema, ou generalizar regras a serem seguidas para se encontrar a solução.\n",
    "\n",
    "Assim, o desenvolvimento do pensamento computacional não passa apenas pela adoção do computador como ferramenta, mas por uma reimaginação do currículo a partir de atividades computacionais; como dizem Gravina e Santarosa em [[4]](#Referências): \n",
    ">A informática por si só não garante esta mudança, e muitas vezes se pode ser enganado pelo visual atrativo dos recursos tecnológicos que são oferecidos, mas os quais simplesmente reforçam as mesmas características do modelo de escola que privilegia a transmissão do conhecimento.\n",
    "\n",
    "O que propomos aqui é a inclusão efetiva de recursos computacionais no currículo de matemática, não como uma curiosidade especial ou como uma mera ferramenta de verificação de conceitos ou de cálculo, mas como uma ferramenta de exploração, criação e discussão de conceitos matemáticos. Ao invés de adicionar exercícios computacionais como um complemento do currículo, o objetivo seria reescrever o currículo de forma a criar novas maneiras de se conectar com a matemática. \n",
    "\n",
    "**É necessário organizar atividades que permitam a [aprendizagem ativa](https://www.pnas.org/content/111/23/8410) e que permitam aos estudantes a exploração informal e a investigação reflexiva, e que tornem os estudantes sujeitos no desenvolvimento do seu próprio conhecimento, os ponham no controle.** Para isso, é necessário também que o professor saiba abrir mão do seu controle e que esteja disposto a ser não mais um transmissor de conhecimento, mas um orientador, um facilitador das atividades desenvolvidas.\n",
    "\n",
    "## Construcionismo\n",
    "\n",
    "[Seymour Papert](https://pt.wikipedia.org/wiki/Seymour_Papert) define [construcionismo](https://pt.wikipedia.org/wiki/Construcionismo) em [[9]](#Referências) da seguinte forma:\n",
    "\n",
    ">A palavra construcionismo é um auxiliar de memória para dois aspectos da teoria da educação de ciências que está no fundamento desse projeto. De teorias construtivistas de psicologia tomamos o ponto de vista da aprendizagem como reconstrução ao invés de transmissão de conhecimento. Então, extendemos a ideia de materiais manipulativos para a ideia de que a aprendizagem é mais efetiva quando é parte de uma atividade que o estudante experimenta como a construção de um produto com significado. *(tradução livre)*\n",
    "\n",
    "Em [[5]](#references), Papert descreve o computador como uma máquina de exploração universal, em que as crianças seriam livres para se envolverem em atividades de resolução de problemas e aprender à medida que criam. Infelizmente, quase 40 anos depois, ainda insistimos em ensinas programação como uma atividade separada da vida cotidiana, desconectada das aulas *de verdade* que acontecem em uma sala de aula tradicional, cobrindo tópicos congelados no tempo em que repetição e memorização pura são a chave do sucesso.\n",
    "\n",
    "A diferença fundamental entre nossa proposta e as propostas existentes de atividades computacionais (das quais temos conhecimento) é justamente a organização em torno de atividades exploratórias e com menos restrições, em que tanto os estudantes quanto os professores podem experimentar e construir, **coletivamente**, soluções e estratégias para a resolução de problemas, aplicando os conceitos de pensamento computacionais já discutidos.\n",
    "\n",
    "## Bugs: A origem do nome *Callicore*\n",
    "\n",
    "A borboleta [*Callicore Texa*](https://pt.wikipedia.org/wiki/Callicore_texa), que ilustra nosso [arquivo de apresentação](../../README_pt_br.md) e que dá o nome ao nosso projeto, é um exemplo de inseto (*bug*) presente em vários países da América do Sul, e que representa uma das ideias fundamentais propostas por Papert e por vários outros pesquisadores da área da educação matemática: a ideia de aprendizagem através do erro. Esta ideia, também mencionada com bastante ênfase em [[7]](#Referências) e outros exemplos de literatura moderna sobre ensino de programação, tem uma óbvia aplicação no ensino-aprendizagem da matemática. De fato, é extremamente comum os alunos desenvolverem uma certa ansiedade com o erro, o que os faz experimentar menos e criar pouquíssimo.\n",
    "\n",
    "A ideia de se encarar *bugs* (como chamamos os erros resultantes de um código incompleto ou incorreto em programação) como oportunidades de aprendizado, e não como atestados de incapacidade, pode representar uma mudança significativa na autoestima e na autoconfiança do estudante. Além disso, a oportunidade de trabalhar coletivamente na resolução de problemas e de desenvolver habilidades de comunicação e de argumentação para propor soluções para esses bugs não é negligenciável em termos de desenvolvimento humano e intelectual dos estudantes. \n",
    "\n",
    "Por outro lado, \n",
    ">É fundamental que os alunos construam um senso crítico para o resultado do computador, sustentado pela consciência de que a máquina não é isenta de limitações, e de que seus resultados devem ser entendidos à luz de argumentos matemáticos (e não ao contrário). [[2]](#Referências)\n",
    "\n",
    "Isto quer dizer que os *bugs* podem nos ajudar a desmistificar os resultados computacionais, que muitas vezes são encarados como *corretos por definição*, já que foram calculados pela máquina. O reflexo de desconfiar dos resultados computacionais e verificar sua compatibilidade com a realidade é uma habilidade primordial num mundo dominado por algoritmos e ditado por rotinas computacionais nas mais diversas esferas."
   ]
  },
  {
   "cell_type": "markdown",
   "metadata": {},
   "source": [
    "# Professores"
   ]
  },
  {
   "cell_type": "markdown",
   "metadata": {},
   "source": [
    "Ao mesmo tempo em que desejamos aplicar todos os conceitos e ideias acima expostos,\n",
    ">Sabemos que, em muitos casos, a incorporação de tecnologias digitais na escola esbarra em barreiras de ordem prática, tais como carência de recursos materiais, ou resistências políticas por parte das direções escolares. Entretanto, esta constatação não implica que os professores que vivenciam essas realidades em suas práticas devam ignorar as possibilidades oferecidas pelos recursos computacionais para o enriquecimento do ensino de Matemática. Ao contrário, *justamente para se munir de contra-argumentos para tais obstáculos, é importante conhecer essas possibilidades*. [[2]](#Referências)\n",
    "\n",
    "Em outras palavras, não podemos ignorar que o mundo mudou e a escola, apesar de conservadora e rígida, deve se adaptar sempre que possível à nova sociedade em que os alunos se encontram. Como exemplo de descompasso entre o contexto dos alunos e a experiência da escola, citamos a dificuldade dos alunos em se desconectarem do celular para as aulas tradicionais. É claro que existe um questionamento a ser feito sobre a dependência atual das pessoas à conexão constante, à presença nas redes sociais e às conversas em aplicativos de troca de mensagem. No entanto, também cabe questionarmos até que ponto podemos esperar que os estudantes, vivendo no mundo atual, se interessem por uma escola ultrapassada, com métodos que parecem desejar freiar o desenvolvimento das suas ideias. De fato, existem vários questionamentos ao modelo de aula-palestra em estudos educacionais por todo o mundo; em particular, o modelo em que o aluno *copia* conteúdo do quadro negro para seu caderno, em um mundo hiperconectado em que toda a informação já produzida pela humanidade pode ser encontrada no *Google* a qualquer momento, não faz sentido. Além disso, a noção de que a matemática é *inútil* para a vida cotidiana dos alunos traz um impacto negativo no engajamento desses alunos. Se pudermos propor atividades em que eles estejam no controle, tomando decisões e elaborando hipóteses e estratégias, eles se sentirão parte integrante do processo educativo.\n",
    "\n",
    "No entanto, é necessário admitir que não existe um suporte ao professor que deseja inovar em suas aulas. De fato, em geral existem vários motivos para que um professor não possa se dedicar a estas novas ideias. Em particular, listamos os seguintes:\n",
    "\n",
    "- **Novas formas de avaliação**\n",
    "\n",
    "    Para que estas ideias sejam aplicadas propriamente em sala de aula, é necessário imaginar novas formas de avaliação. Dentro do conceito construtivista de educação, poderíamos falar em avaliação individual, em observar o desenvolvimento integral do aluno à medida que os projetos vão sendo avaliados. No entanto, isso não é viável nas escolas tradicionais, em que o número de alunos por turma torna esse tipo de avaliação impossível. Algumas ideias podem ser encontradas em [[Resnick]](http://scratched.gse.harvard.edu/ct/files/AERA2012.pdf).\n",
    "    \n",
    "    \n",
    "- **Insegurança dos professores em relação às ferramentas**\n",
    "\n",
    "    Assim como os estudantes, os professores também sofrem do medo de cometer erros. Dentro da estrutura tradicional de ensino, o modelo hierárquico de relação entre professor e aluno dificulta a construção coletiva de soluções; o aluno espera receber do professor uma resposta (certo ou errado) e o professor espera saber responder todas as perguntas dos alunos. A partir do momento em que consideramos atividades exploratórias e criativas, não existem mais respostas certas ou erradas; é muito provável que os alunos esbarrem em problemas para os quais os professores não tem solução. Isso precisa ser encarado com naturalidade, pois é o que acontece nas relações do mundo real entre pessoas que trabalham juntas para resolver problemas.\n",
    "    \n",
    "\n",
    "- **Qual o tempo que podemos \"gastar\" para aprender uma ferramenta nova de trabalho?**\n",
    "\n",
    "    Frequentemente, os professores de ensino fundamental e médio não tem tempo livre para investir em uma nova ferramenta de trabalho. Por isso, entendemos que apesar de o ideal ser investir em workshops e aulas presenciais, ter um material disponível online de forma gratuita e livre representa uma possibilidade de atingir um público maior e mais diverso, sem que haja necessidade de uma mudança grande na rotina de trabalho desses profissionais. Da mesma forma, é necessário que haja suporte a esses professores que tenham interesse nas ferramentas e nas atividades propostas, e por isso o modelo de comunidade de software se torna interessante, diferente de um esquema centralizado em torno de uma disciplina ou de um workshop presencial.\n",
    "    \n",
    "Com base nessas observações, nosso objetivo é desenvolver um material que contemple esses pontos de alguma forma, e que tenha sua utilidade entre professores de qualquer nível que queiram incluir atividades como as que mencionamos em suas salas de aula."
   ]
  },
  {
   "cell_type": "markdown",
   "metadata": {},
   "source": [
    "# Ferramentas"
   ]
  },
  {
   "cell_type": "markdown",
   "metadata": {},
   "source": [
    ">Aprender a programar é, na verdade, aprender a programar alguma coisa: uma pessoa não \"aprende a programar\" (...) Quando ensinamos programação, tendemos a focar na sintaxe e na semântica da linguagem. Não ensinamos explicitamente planos - pedaços de código que façam coisas úteis. Mas esperamos que os alunos os entendam. Raramente ensinamos as regras do discurso. O conhecimento específico está exatamente nos planos e nas regras do discurso. [[computinged]](https://computinged.wordpress.com/2019/05/20/learning-to-code-is-really-learning-to-code-something-no-one-just-learns-to-program/)\n",
    "\n",
    "Para que o processo de aprendizagem seja mais concreto, seguindo a filosofia que estamos propondo, partimos de atividades elaboradas com essas ideias em mente, e ensinamos aos professores como interagir com essas atividades em dois níveis:\n",
    "1. Utilizando as atividades para passar a ideia de pensamento computacional, e também para introduzir, fixar ou trabalhar conteúdos do currículo com seus alunos;\n",
    "2. Criar atividades originais, em cooperação com seus alunos ou não.\n",
    "\n",
    "Os conceitos que consideramos importantes e que guiam nossas escolhas de ferramentas são:\n",
    "- Permitir a *manipulação* de objetos matemáticos, de forma exploratória e criativa\n",
    "- Accesso a informação de maneira não-linear, usando hipertexto e a conectividade da web para expandir os limites da sala de aula\n",
    "- Permitir a aprendizagem assíncrona, de forma que os alunos tenham acesso total aos materiais que serão usados em sala de aula e possam explorá-los da maneira que acharem melhor\n",
    "- Flexibilidade na apresentação dos conteúdos, de modo que sejam ao mesmo tempo simples de usar e simples de customizar."
   ]
  },
  {
   "cell_type": "markdown",
   "metadata": {},
   "source": [
    "## Python"
   ]
  },
  {
   "cell_type": "markdown",
   "metadata": {},
   "source": [
    "## Jupyter Notebooks\n",
    "\n",
    "- Literate programming"
   ]
  },
  {
   "cell_type": "markdown",
   "metadata": {},
   "source": [
    "## ipywidgets"
   ]
  },
  {
   "cell_type": "markdown",
   "metadata": {},
   "source": [
    "# Como criar atividades\n",
    "\n",
    "    Break it down into small steps\n",
    "    Chunk small steps into bigger steps\n",
    "    Add narrative and connect\n",
    "    Link out to documentation\n",
    "    Interleave easy exercises\n",
    "    Spice with challenge questions/tasks\n",
    "    Publish openly online\n",
    "\n",
    "– Lorena A. Barba\n",
    "\n",
    "De [[1]](#Referências):\n",
    ">\"In preparing students to apply what they have learned, striving to align what happens in the course with what they will experience in their career is important. (...) Creating opportunities for students to develop as learners stretch beyond the boundaries of any specific course where you may use notebooks. By enriching their learning experience in your course, you will help them develop valuable skill-sets and mind-sets that they will take with them into other courses and into their career.\"\n",
    "\n",
    "Além disso,\n",
    "> A informática por si só não garante esta mudança, e muitas vezes se pode ser enganado pelo visual atrativo dos recursos tecnológicos que são oferecidos, mas os quais simplesmente reforçam as mesmas características do modelo de escola que privilegia a transmissão do conhecimento. [[2]](#Referências)\n",
    "\n",
    "Em muitos materiais disponíveis, observamos que a *interatividade* acaba sendo o foco, e a *exploração* acaba sendo limitada. Em outras palavras, vemos muitos botões e muitos *sliders*, mas poucas oportunidades dos estudantes explorarem e descobrirem a solução do problema sozinhos.\n",
    "\n",
    "É importante também pensar na acessibilidade daqueles estudantes que tem dispositivos com menos poder computacional ou menos convencionais: na maioria das salas de aula brasileiras, por exemplo, o acesso à internet é extremamente limitado, e os únicos dispositivos disponíveis para uso dos alunos são telefones celulares de baixo custo.\n",
    "\n",
    "Novamente de [[1]](#Referências), \n",
    ">Before you begin adding Jupyter notebooks to your course, take some time to:\n",
    ">- Identify your teaching goals\n",
    ">- Understand your students\n",
    ">- Develop your content strategy\n",
    ">- Consider the context of the learning environment\n",
    "\n",
    "## Algumas ideias de atividades\n",
    "\n",
    "- Os recursos computacionais mais simples, como as calculadoras, permitem ao professor a utilização de dados numéricos realistas (e não só inteiros ou \"bonitos\")\n",
    "- A utilização de linguagens de programação, ou de ferramentas como as planilhas eletrônicas, podem ser um primeiro contato com o formalismo da simbologia algébrica (sintaxe e semântica).\n",
    "- Os graficadores podem ser ferramentas para a articulações múltiplas entre diferentes formas de representação de funções, por exemplo, entre a Tabela, a Fórmula e o Gráfico [[2]](#Referências).\n",
    "- Graficar uma função em um software não necessariamente tem o papel de verificar ou corrigir um gráfico feito inicialmente no papel. Porém, pode servir como pretexto para uma discussão de interpretações e para o questionamento de decisões tomadas ao longo da resolução de uma questão sem o uso do computador. O objetivo deve ser \"usar o computador para promover aprendizagem matemática sólida o suficiente para permanecer e se transferir para outras situações - *mesmo sem o apoio da máquina*.\" [[2]](#Referências)\n",
    "- Uma boa maneira de fazer com que os alunos usem as ferramentas corretas é dar problemas em que não seja possível calcular a solução usando as ferramentas e técnicas já vistas.\n",
    "- Testar eixos, escalas e visualizações diferentes pode ser interessante para explorar o cuidado que se deve ter ao observar e tentar interpretar e generalizar dados incompletos advindos de gráficos\n",
    "- Escalas logarítmicas, coordenadas polares\n",
    "- Funções em ambientes de geometria dinâmica podem ser exploradas como famílias a partir de parâmetros, o que pode facilitar o entendimento do funcionamento dessas funções\n",
    "- O gráfico de uma função é o \"lugar geométrico dos pontos do plano cartesiano cujas coordenadas verificam a lei de formação da função. Em geral, os alunos aprendem tantos procedimentos para traçar gráficos em casos particulares, que essa noção fundamental fica em segundo plano.\" [[2]](#Referências)\n",
    "- Interpretações de dados do cotidiano: aproximações, interpolações, estatísticas, operações, gráficos etc\n",
    "- Otimização"
   ]
  },
  {
   "cell_type": "markdown",
   "metadata": {},
   "source": [
    "# Referências"
   ]
  },
  {
   "cell_type": "markdown",
   "metadata": {},
   "source": [
    "[1] Barba, L. A. et al. (2019) *Teaching and Learning with Jupyter*. Disponível em [https://jupyter4edu.github.io/jupyter-edu-book/], versão de 08/05/2019.\n",
    "\n",
    "[2] Giraldo, V., Caetano, P. and Mattos, F. (2013). *Recursos Computacionais no Ensino de Matemática*. Sociedade Brasileira de Matemática, Rio de Janeiro, RJ. ISBN 978-85-85818-67-8\n",
    "\n",
    "[4] Gravina, M. A. and Santarosa, L. M. (1998) *A Aprendizagem da Matemática em Ambientes Informatizados*. IV Congresso RIBIE, Brasília.\n",
    "\n",
    "[5] Papert, S. (1994). *A máquina das crianças: repensando a escola na era da informática*. Trad. Sandra Costa. Porto Alegre: Artes Médicas.\n",
    "\n",
    "[6] Brackmann, C. P. (2017) *Desenvolvimento do pensamento computacional através de atividades desplugadas na educação básica*. Tese de Doutorado. Programa de Pós-Graduação em Informática na Educação, Universidade Federal do Rio Grande do Sul. Disponível em [https://www.lume.ufrgs.br/handle/10183/172208].\n",
    "\n",
    "[7] Wilson, G. (2019) *Teaching Tech Together: How to create and deliver lessons that work and build a teaching community around them*. Disponível em [http://teachtogether.tech/], versão 4.0 beta / Junho 2019.\n",
    "\n",
    "[9] Sabelli, N. (2008). *Constructionism: A New Opportunity for Elementary Science Education*. DRL Division of Research on Learning in Formal and Informal Settings. pp. 193–206. Retrieved September 20, 2017."
   ]
  },
  {
   "cell_type": "markdown",
   "metadata": {},
   "source": [
    "# Leitura adicional"
   ]
  },
  {
   "cell_type": "markdown",
   "metadata": {},
   "source": [
    "- Mills, G. (2019) *Perspectives on Teaching Math Modeling in High School*. Disponível em [https://sinews.siam.org/Details-Page/perspectives-on-teaching-math-modeling-in-high-school]\n",
    "- Robert Duke: Why students don't learn what we think we teach. Disponível em [[https://www.youtube.com/watch?v=ODfUcc-0YLY]]\n",
    "- Aprendendo Aprendizagem Criativa. Curso do MIT Media Lab. Disponível em [https://learn.media.mit.edu/lcl/]\n",
    "- The Computational Notebook of the Future http://blog.khinsen.net/posts/2019/02/11/the-computational-notebook-of-the-future/\n",
    "- Site [http://www.computacional.com.br/]\n",
    "- Schuman, R. (2015) *Professors Shouldn’t Teach to Younger Versions of Themselves: Too many academics focus on ideal students rather than real ones.* Disponível em [https://slate.com/human-interest/2015/10/professors-shouldnt-only-teach-to-younger-versions-of-themselves.html]"
   ]
  },
  {
   "cell_type": "code",
   "execution_count": null,
   "metadata": {},
   "outputs": [],
   "source": []
  }
 ],
 "metadata": {
  "kernelspec": {
   "display_name": "Python 3",
   "language": "python",
   "name": "python3"
  },
  "language_info": {
   "codemirror_mode": {
    "name": "ipython",
    "version": 3
   },
   "file_extension": ".py",
   "mimetype": "text/x-python",
   "name": "python",
   "nbconvert_exporter": "python",
   "pygments_lexer": "ipython3",
   "version": "3.6.7"
  },
  "latex_envs": {
   "LaTeX_envs_menu_present": true,
   "autoclose": false,
   "autocomplete": true,
   "bibliofile": "biblio.bib",
   "cite_by": "apalike",
   "current_citInitial": 1,
   "eqLabelWithNumbers": true,
   "eqNumInitial": 1,
   "hotkeys": {
    "equation": "Ctrl-E",
    "itemize": "Ctrl-I"
   },
   "labels_anchors": false,
   "latex_user_defs": false,
   "report_style_numbering": false,
   "user_envs_cfg": false
  },
  "toc": {
   "base_numbering": 1,
   "nav_menu": {},
   "number_sections": true,
   "sideBar": true,
   "skip_h1_title": false,
   "title_cell": "Table of Contents",
   "title_sidebar": "Contents",
   "toc_cell": false,
   "toc_position": {},
   "toc_section_display": true,
   "toc_window_display": false
  }
 },
 "nbformat": 4,
 "nbformat_minor": 2
}
